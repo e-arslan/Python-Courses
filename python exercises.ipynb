{
 "cells": [
  {
   "cell_type": "code",
   "execution_count": 1,
   "metadata": {
    "collapsed": false
   },
   "outputs": [
    {
     "name": "stdout",
     "output_type": "stream",
     "text": [
      "9\n",
      "1\n",
      "7\n",
      "4\n",
      "6\n",
      "9\n"
     ]
    }
   ],
   "source": [
    "import numpy as np\n",
    "x = np.array([[9, 1, 7],\n",
    "              [4, 6, 9]])\n",
    "for j in np.nditer(x):\n",
    "    print(j)"
   ]
  },
  {
   "cell_type": "code",
   "execution_count": 2,
   "metadata": {
    "collapsed": false
   },
   "outputs": [
    {
     "name": "stdout",
     "output_type": "stream",
     "text": [
      "Element 0 - 3.41\n",
      "Element 1 - 15.13\n",
      "Element 2 - 6.74\n",
      "Element 3 - 10.5\n"
     ]
    }
   ],
   "source": [
    "q = [3.41, 15.13, 6.74, 10.5]\n",
    "for j, x in enumerate(q):\n",
    "    print('Element ' + str(j) + ' -', str(x))"
   ]
  },
  {
   "cell_type": "code",
   "execution_count": 3,
   "metadata": {
    "collapsed": false
   },
   "outputs": [
    {
     "name": "stdout",
     "output_type": "stream",
     "text": [
      "40\n"
     ]
    }
   ],
   "source": [
    "from functools import reduce\n",
    "product = [10, 1, 4]\n",
    "result = reduce(lambda x, y: x * y, product)\n",
    "print(result)"
   ]
  },
  {
   "cell_type": "code",
   "execution_count": 4,
   "metadata": {
    "collapsed": false
   },
   "outputs": [
    {
     "name": "stdout",
     "output_type": "stream",
     "text": [
      "[1, 1, 1, 0]\n"
     ]
    }
   ],
   "source": [
    "x = ['regulation', 'authorize', 'precaution', 'myth']\n",
    "count_vowel = list(map(lambda word: word.count('e'), x))\n",
    "print(count_vowel)"
   ]
  },
  {
   "cell_type": "code",
   "execution_count": 5,
   "metadata": {
    "collapsed": true
   },
   "outputs": [],
   "source": [
    "#Which command unpacks and prints all values of the iterator y_it?\n",
    "# print(*y_it)"
   ]
  },
  {
   "cell_type": "code",
   "execution_count": 6,
   "metadata": {
    "collapsed": false
   },
   "outputs": [
    {
     "name": "stdout",
     "output_type": "stream",
     "text": [
      "{'Aug': 39, 'May': 80, 'Mar': 44}\n"
     ]
    }
   ],
   "source": [
    "x = ['Aug', 'Mar', 'May']\n",
    "y = [39, 44, 80]\n",
    "lists = zip(x,y)\n",
    "new_dict = dict(lists)\n",
    "print(new_dict)\n"
   ]
  },
  {
   "cell_type": "code",
   "execution_count": 7,
   "metadata": {
    "collapsed": false
   },
   "outputs": [
    {
     "name": "stdout",
     "output_type": "stream",
     "text": [
      "   sepal_length  sepal_width  petal_length  petal_width     species\n",
      "0           7.0          3.2           4.7          1.4  versicolor\n",
      "1           6.4          3.2           4.5          1.5  versicolor\n",
      "2           6.9          3.1           4.9          1.5  versicolor\n",
      "3           5.5          2.3           4.0          1.3  versicolor\n"
     ]
    }
   ],
   "source": [
    "# Import the csv file located at the url \"link_to_df\" in small dataframe chunks of size 4\n",
    "# Print the second chunk of this dataframe\n",
    "import pandas as pd\n",
    "link_to_iris = 'https://goo.gl/BR8npa'\n",
    "iris = pd.read_csv(link_to_iris, chunksize = 4)\n",
    "next(iris)\n",
    "print(next(iris))"
   ]
  },
  {
   "cell_type": "code",
   "execution_count": 8,
   "metadata": {
    "collapsed": false
   },
   "outputs": [
    {
     "name": "stdout",
     "output_type": "stream",
     "text": [
      "Felicity Smoak is The Overwatch\n",
      "Laurel Lance is The Black Canary\n"
     ]
    }
   ],
   "source": [
    "characters_names = ['Felicity Smoak', 'Laurel Lance']\n",
    "code_names = ['Overwatch', 'Black Canary']\n",
    "\n",
    "team_arrow = zip(characters_names, code_names)\n",
    "for i, j in team_arrow:\n",
    "    print(i + ' is The ' + j)"
   ]
  },
  {
   "cell_type": "code",
   "execution_count": 9,
   "metadata": {
    "collapsed": false
   },
   "outputs": [
    {
     "name": "stdout",
     "output_type": "stream",
     "text": [
      "{1: 1, 2: 4, 3: 9, 5: 25}\n"
     ]
    }
   ],
   "source": [
    "x = [2, 3, 1, 5]\n",
    "cubes = { j: j ** 2 for j in x }\n",
    "print(cubes)"
   ]
  },
  {
   "cell_type": "code",
   "execution_count": 10,
   "metadata": {
    "collapsed": false
   },
   "outputs": [
    {
     "name": "stdout",
     "output_type": "stream",
     "text": [
      "[8, 3, 1]\n"
     ]
    }
   ],
   "source": [
    "x = [8, 'M', 'N', 3, 1, 'A']\n",
    "integers = [j for j in x if type(j) == int]\n",
    "print(integers)"
   ]
  },
  {
   "cell_type": "code",
   "execution_count": 11,
   "metadata": {
    "collapsed": false
   },
   "outputs": [
    {
     "name": "stdout",
     "output_type": "stream",
     "text": [
      "(4, 2)\n"
     ]
    }
   ],
   "source": [
    "import numpy as np\n",
    "x = np.array([22, 1, 19, 14])\n",
    "y = np.array([10, 26, 6, 6])\n",
    "z = np.column_stack([x, y])\n",
    "print(z.shape)"
   ]
  },
  {
   "cell_type": "code",
   "execution_count": 12,
   "metadata": {
    "collapsed": false
   },
   "outputs": [
    {
     "name": "stdout",
     "output_type": "stream",
     "text": [
      "[19, 15, 15, 9, 6, 5]\n"
     ]
    }
   ],
   "source": [
    "p = [5, 15, 9, 15, 19, 6]\n",
    "print(sorted(p, reverse=True))"
   ]
  },
  {
   "cell_type": "code",
   "execution_count": 13,
   "metadata": {
    "collapsed": false
   },
   "outputs": [
    {
     "name": "stdout",
     "output_type": "stream",
     "text": [
      "{'mars': 0.45, 'mercury': 0.384}\n"
     ]
    }
   ],
   "source": [
    "escape_velocity = {\n",
    "    'earth': 1, \n",
    "    'mercury': 0.384,\n",
    "    'mars': 0.450\n",
    "}\n",
    "del(escape_velocity['earth'])\n",
    "print(escape_velocity)"
   ]
  },
  {
   "cell_type": "code",
   "execution_count": 14,
   "metadata": {
    "collapsed": false
   },
   "outputs": [
    {
     "name": "stdout",
     "output_type": "stream",
     "text": [
      "{'cost': 5, 'units': 500}\n"
     ]
    }
   ],
   "source": [
    "fruits = { \n",
    "    'apples': {'cost': 3, 'units': 100}, \n",
    "    'bananas': {'cost': 1, 'units': 80},\n",
    "    'grapes': {'cost': 5, 'units': 500}\n",
    "}\n",
    "print(fruits['grapes'])"
   ]
  },
  {
   "cell_type": "code",
   "execution_count": 15,
   "metadata": {
    "collapsed": false
   },
   "outputs": [
    {
     "name": "stdout",
     "output_type": "stream",
     "text": [
      "The value of a is 16\n",
      "The value of b is 12\n"
     ]
    },
    {
     "data": {
      "text/plain": [
       "(None, None)"
      ]
     },
     "execution_count": 15,
     "metadata": {},
     "output_type": "execute_result"
    }
   ],
   "source": [
    "def easy_print(**x):\n",
    "        for key, value in x.items():\n",
    "            print('The value of ' + str(key) + \" is \" + str(value))\n",
    "(easy_print(a = 16), easy_print(b = 12))"
   ]
  },
  {
   "cell_type": "code",
   "execution_count": 16,
   "metadata": {
    "collapsed": false
   },
   "outputs": [
    {
     "name": "stdout",
     "output_type": "stream",
     "text": [
      "{1: 1, 2: 4, 4: 16, 5: 25}\n"
     ]
    }
   ],
   "source": [
    "x = [2, 4, 1, 5]\n",
    "squares = {i: i ** 2 for i in x }\n",
    "print(squares)"
   ]
  },
  {
   "cell_type": "code",
   "execution_count": 17,
   "metadata": {
    "collapsed": false
   },
   "outputs": [
    {
     "name": "stdout",
     "output_type": "stream",
     "text": [
      "0: Gorilla Grodd\n",
      "1: Leonard Snart\n",
      "2: Mick Rory\n"
     ]
    }
   ],
   "source": [
    "flash_vil = ['Gorilla Grodd', 'Leonard Snart', 'Mick Rory']\n",
    "for x, y in enumerate(flash_vil):\n",
    "    print(str(x) + ': ' + y)"
   ]
  },
  {
   "cell_type": "code",
   "execution_count": null,
   "metadata": {
    "collapsed": true
   },
   "outputs": [],
   "source": []
  },
  {
   "cell_type": "code",
   "execution_count": null,
   "metadata": {
    "collapsed": true
   },
   "outputs": [],
   "source": []
  },
  {
   "cell_type": "code",
   "execution_count": null,
   "metadata": {
    "collapsed": true
   },
   "outputs": [],
   "source": []
  }
 ],
 "metadata": {
  "anaconda-cloud": {},
  "kernelspec": {
   "display_name": "Python [default]",
   "language": "python",
   "name": "python3"
  },
  "language_info": {
   "codemirror_mode": {
    "name": "ipython",
    "version": 3
   },
   "file_extension": ".py",
   "mimetype": "text/x-python",
   "name": "python",
   "nbconvert_exporter": "python",
   "pygments_lexer": "ipython3",
   "version": "3.5.2"
  }
 },
 "nbformat": 4,
 "nbformat_minor": 1
}
