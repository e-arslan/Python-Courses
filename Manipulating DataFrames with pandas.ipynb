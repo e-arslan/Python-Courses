{
 "cells": [
  {
   "cell_type": "code",
   "execution_count": null,
   "metadata": {
    "collapsed": true
   },
   "outputs": [],
   "source": [
    "# Import pandas\n",
    "import pandas as pd\n",
    "\n",
    "# Read in filename and set the index: election\n",
    "election = pd.read_csv(filename, index_col ='county')\n",
    "\n",
    "# Create a separate dataframe with the columns ['winner', 'total', 'voters']: results\n",
    "results = election[['winner', 'total', 'voters']]\n",
    "\n",
    "# Print the output of results.head()\n",
    "print(results.head())\n"
   ]
  },
  {
   "cell_type": "code",
   "execution_count": null,
   "metadata": {
    "collapsed": true
   },
   "outputs": [],
   "source": []
  },
  {
   "cell_type": "code",
   "execution_count": null,
   "metadata": {
    "collapsed": true
   },
   "outputs": [],
   "source": [
    "# Slice the columns from the starting column to 'Obama': left_columns\n",
    "left_columns = election.loc[:,'state':'Obama']\n",
    "\n",
    "# Print the output of left_columns.head()\n",
    "print(left_columns.head())\n",
    "\n",
    "# Slice the columns from 'Obama' to 'winner': middle_columns\n",
    "middle_columns = election.loc[:,'Obama':'winner']\n",
    "\n",
    "# Print the output of middle_columns.head()\n",
    "print(middle_columns.head())\n",
    "\n",
    "# Slice the columns from 'Romney' to the end: 'right_columns'\n",
    "right_columns = election.loc[:,'Romney':]\n",
    "\n",
    "# Print the output of right_columns.head()\n",
    "print(right_columns.head())\n"
   ]
  },
  {
   "cell_type": "code",
   "execution_count": null,
   "metadata": {
    "collapsed": true
   },
   "outputs": [],
   "source": [
    "# Create the list of row labels: rows\n",
    "rows = ['Philadelphia', 'Centre', 'Fulton']\n",
    "\n",
    "# Create the list of column labels: cols\n",
    "cols = ['winner', 'Obama', 'Romney']\n",
    "\n",
    "# Create the new DataFrame: three_counties\n",
    "three_counties = election.loc[rows,cols]\n",
    "\n",
    "# Print the three_counties DataFrame\n",
    "print(three_counties)\n"
   ]
  },
  {
   "cell_type": "code",
   "execution_count": null,
   "metadata": {
    "collapsed": true
   },
   "outputs": [],
   "source": [
    "# Create the boolean array: high_turnout\n",
    "high_turnout = election.turnout > 70\n",
    "\n",
    "# Filter the election DataFrame with the high_turnout array: high_turnout_df\n",
    "high_turnout_df = election[high_turnout]\n",
    "\n",
    "# Print the high_turnout_results DataFrame\n",
    "print(high_turnout_df)\n"
   ]
  },
  {
   "cell_type": "code",
   "execution_count": null,
   "metadata": {
    "collapsed": true
   },
   "outputs": [],
   "source": [
    "# Import numpy\n",
    "import numpy as np\n",
    "\n",
    "# Create the boolean array: too_close\n",
    "too_close = election.margin < 1\n",
    "\n",
    "# Assign np.nan to the 'winner' column where the results were too close to call\n",
    "election.winner[too_close] = np.nan\n",
    "\n",
    "# Print the output of election.info()\n",
    "print(election.info())"
   ]
  },
  {
   "cell_type": "code",
   "execution_count": null,
   "metadata": {
    "collapsed": true
   },
   "outputs": [],
   "source": [
    "# In certain scenarios, it may be necessary to remove rows and columns with\n",
    "# missing data from a DataFrame. The .dropna() method is used to perform this action. \n",
    "\n",
    "# Select the 'age' and 'cabin' columns: df\n",
    "df = titanic.loc[:,['age','cabin']]\n",
    "\n",
    "# Print the shape of df\n",
    "print(df.shape)\n",
    "\n",
    "# Drop rows in df with how='any' and print the shape\n",
    "print(df.dropna(how = 'any').shape)\n",
    "\n",
    "# Drop rows in df with how='all' and print the shape\n",
    "print(df.dropna(how = 'all').shape)\n",
    "\n",
    "# Call .dropna() with thresh=1000 and axis='columns' and print the output of .info() from titanic\n",
    "print(titanic.dropna(thresh=1000, axis='columns').info())\n",
    "\n"
   ]
  },
  {
   "cell_type": "code",
   "execution_count": 3,
   "metadata": {
    "collapsed": false
   },
   "outputs": [
    {
     "data": {
      "text/plain": [
       "2"
      ]
     },
     "execution_count": 3,
     "metadata": {},
     "output_type": "execute_result"
    }
   ],
   "source": [
    "# The .apply() method can be used on a pandas DataFrame to apply an arbitrary Python function to every element. \n",
    "\n",
    "# Write a function to convert degrees Fahrenheit to degrees Celsius: to_celsius\n",
    "def to_celsius(F):\n",
    "    return 5/9*(F - 32)\n",
    "\n",
    "# Apply the function over 'Mean TemperatureF' and 'Mean Dew PointF': df_celsius\n",
    "df_celsius = weather.loc[:,['Mean TemperatureF', 'Mean Dew PointF']].apply(to_celsius)\n",
    "\n",
    "# Reassign the columns df_celsius\n",
    "df_celsius.columns = ['Mean TemperatureC', 'Mean Dew PointC']\n",
    "\n",
    "# Print the output of df_celsius.head()\n",
    "print(df_celsius.head())\n"
   ]
  },
  {
   "cell_type": "code",
   "execution_count": null,
   "metadata": {
    "collapsed": true
   },
   "outputs": [],
   "source": [
    "# The .map() method is used to transform values according to a Python dictionary look-up.\n",
    "# Create the dictionary: red_vs_blue\n",
    "red_vs_blue = {'Obama':'blue', 'Romney':'red'}\n",
    "\n",
    "# Use the dictionary to map the 'winner' column to the new column: election['color']\n",
    "election['color'] = election.winner.map(red_vs_blue)\n",
    "\n",
    "# Print the output of election.head()\n",
    "print(election.head())\n"
   ]
  },
  {
   "cell_type": "code",
   "execution_count": null,
   "metadata": {
    "collapsed": true
   },
   "outputs": [],
   "source": [
    "# When performance is paramount, you should avoid using .apply() and .map()\n",
    "# because those constructs perform Python for-loops over the data stored in \n",
    "# a pandas Series or DataFrame. By using vectorized functions instead, you\n",
    "# can loop over the data at the same speed as compiled code (C, Fortran, etc.)!\n",
    "# NumPy, SciPy and pandas come with a variety of vectorized functions\n",
    "# (called Universal Functions or UFuncs in NumPy).\n",
    "\n",
    "# You can even write your own vectorized functions, but for now we will focus\n",
    "# on the ones distributed by NumPy and pandas.\n",
    "\n",
    "# In this exercise you're going to import the zscore method from scipy.stats and\n",
    "# use it to compute the deviation in voter turnout in Pennsylvania from the mean\n",
    "# in fractions of the standard deviation. In statistics, the z-score is the number\n",
    "# of standard deviations by which an observation is above the mean - so if it is\n",
    "# negative, it means the observation is below the mean.\n",
    "\n",
    "# Instead of using .apply() as you did in the earlier exercises, the zscore UFunc\n",
    "# will take a pandas Series as input and return a NumPy array. You will then assign\n",
    "# the values of the NumPy array to a new column in the DataFrame. \n",
    "\n",
    "\n",
    "# Import zscore from scipy.stats\n",
    "from scipy.stats import zscore\n",
    "\n",
    "# Call zscore with election['turnout'] as input: turnout_zscore\n",
    "turnout_zscore = zscore(election['turnout'])\n",
    "\n",
    "# Print the type of turnout_zscore\n",
    "print(type(turnout_zscore))\n",
    "\n",
    "# Assign turnout_zscore to a new column: election['turnout_zscore']\n",
    "election['turnout_zscore'] = turnout_zscore\n",
    "\n",
    "# Print the output of election.head()\n",
    "print(election.head())\n"
   ]
  },
  {
   "cell_type": "code",
   "execution_count": null,
   "metadata": {
    "collapsed": true
   },
   "outputs": [],
   "source": [
    "# Indexes are immutable objects. This means that if you want to change \n",
    "# or modify the index in a DataFrame, then you need to change the whole index. \n",
    "\n",
    "# A list comprehension is a succinct way to generate a list in one line.\n",
    "# For example, the following list comprehension generates a list that contains\n",
    "# the cubes of all numbers from 0 to 9: \n",
    "cubes = [i**3 for i in range(10)].\n",
    "#This is equivalent to the following code:\n",
    "\n",
    "cubes = []\n",
    "for i in range(10):\n",
    "    cubes.append(i**3)\n",
    "    \n",
    "# Create the list of new indexes: new_idx\n",
    "new_idx = [i.upper() for i in sales.index]\n",
    "\n",
    "# Assign new_idx to sales.index\n",
    "sales.index = new_idx\n",
    "\n",
    "# Print the sales DataFrame\n",
    "print(sales)\n"
   ]
  },
  {
   "cell_type": "code",
   "execution_count": 4,
   "metadata": {
    "collapsed": false
   },
   "outputs": [
    {
     "data": {
      "text/plain": [
       "[0, 1, 8, 27, 64, 125, 216, 343, 512, 729]"
      ]
     },
     "execution_count": 4,
     "metadata": {},
     "output_type": "execute_result"
    }
   ],
   "source": [
    "# Assign the string 'MONTHS' to sales.index.name\n",
    "sales.index.name = 'MONTHS'\n",
    "\n",
    "# Print the sales DataFrame\n",
    "print(sales)\n",
    "\n",
    "# Assign the string 'PRODUCTS' to sales.columns.name \n",
    "sales.columns.name = 'PRODUCTS'\n",
    "\n",
    "# Print the sales dataframe again\n",
    "print(sales)\n"
   ]
  },
  {
   "cell_type": "code",
   "execution_count": null,
   "metadata": {
    "collapsed": true
   },
   "outputs": [],
   "source": [
    "# You can also build the DataFrame and index independently, and then put them\n",
    "# together. If you take this route, be careful, as any mistakes in generating\n",
    "# the DataFrame or the index can cause the data and the index to be aligned incorrectly.\n",
    "\n",
    "# Generate the list of months: months\n",
    "months = ['Jan', 'Feb', 'Mar', 'Apr', 'May', 'Jun']\n",
    "\n",
    "# Assign months to sales.index\n",
    "sales.index = months\n",
    "\n",
    "# Print the modified sales DataFrame\n",
    "print(sales)\n"
   ]
  },
  {
   "cell_type": "code",
   "execution_count": null,
   "metadata": {
    "collapsed": true
   },
   "outputs": [],
   "source": [
    "# Print sales.loc[['CA', 'TX']]\n",
    "print(sales.loc[['CA','TX']])\n",
    "\n",
    "# Print sales['CA':'TX']\n",
    "print(sales['CA':'TX'])\n"
   ]
  },
  {
   "cell_type": "code",
   "execution_count": null,
   "metadata": {
    "collapsed": true
   },
   "outputs": [],
   "source": [
    "# With a MultiIndex, you should always ensure the index is sorted. You can\n",
    "# skip this only if you know the data is already sorted on the index fields.\n",
    "\n",
    "# Set the index to be the columns ['state', 'month']: sales\n",
    "sales = sales.set_index(['state','month'])\n",
    "\n",
    "# Sort the MultiIndex: sales\n",
    "sales = sales.sort_index()\n",
    "\n",
    "# Print the sales DataFrame\n",
    "print(sales)"
   ]
  },
  {
   "cell_type": "code",
   "execution_count": null,
   "metadata": {
    "collapsed": true
   },
   "outputs": [],
   "source": [
    "# Set the index to the column 'state': sales\n",
    "sales = sales.set_index('state')\n",
    "\n",
    "# Print the sales DataFrame\n",
    "print(sales)\n",
    "\n",
    "# Access the data from 'NY'\n",
    "print(sales.loc['NY'])\n"
   ]
  },
  {
   "cell_type": "code",
   "execution_count": null,
   "metadata": {
    "collapsed": true
   },
   "outputs": [],
   "source": [
    "# Looking up data based on inner levels of a MultiIndex can be a bit trickier.\n",
    "# In this exercise, you will use your sales DataFrame to do some increasingly complex lookups.\n",
    "\n",
    "# The trickiest of all these lookups are when you want to access some inner levels of the\n",
    "# index. In this case, you need to use slice(None) in the slicing parameter for the outermost\n",
    "# dimension(s) instead of the usual :, or use pd.IndexSlice. You can refer to the pandas\n",
    "# documentation for more details. For example, in the video, Dhavide used the following\n",
    "# code to extract rows from all Symbols for the dates Oct. 3rd through 4th inclusive:\n",
    "\n",
    "# stocks.loc[(slice(None), slice('2016-10-03', '2016-10-04')), :]\n",
    "\n",
    "# Look up data for NY in month 1: NY_month1\n",
    "NY_month1 = sales.loc[('NY', 1), :]\n",
    "\n",
    "# Look up data for CA and TX in month 2: CA_TX_month2\n",
    "CA_TX_month2 = sales.loc[(['CA', 'TX'],2),:]\n",
    "\n",
    "# Look up data for all states in month 2: all_month2\n",
    "all_month2 = sales.loc[(slice(None), 2),:]"
   ]
  },
  {
   "cell_type": "code",
   "execution_count": null,
   "metadata": {
    "collapsed": true
   },
   "outputs": [],
   "source": [
    "# Pivot the users DataFrame: visitors_pivot\n",
    "visitors_pivot = users.pivot(index = 'weekday', columns = 'city', values = 'visitors')\n",
    "\n",
    "# Print the pivoted DataFrame\n",
    "print(visitors_pivot)\n",
    "\n",
    "''' print(users)\n",
    "  weekday    city  visitors  signups\n",
    "0     Sun  Austin       139        7\n",
    "1     Sun  Dallas       237       12\n",
    "2     Mon  Austin       326        3\n",
    "3     Mon  Dallas       456        5\n",
    "\n",
    "<script.py> output:\n",
    "    city     Austin  Dallas\n",
    "    weekday                \n",
    "    Mon         326     456\n",
    "    Sun         139     237'\n",
    "'''\n",
    "\n"
   ]
  },
  {
   "cell_type": "code",
   "execution_count": null,
   "metadata": {
    "collapsed": true
   },
   "outputs": [],
   "source": [
    "# If you do not select any particular variables, all of them will be pivoted. \n",
    "# In this case - with the users DataFrame - both 'visitors' and 'signups' will\n",
    "# be pivoted, creating hierarchical column labels.\n",
    "\n",
    "# Pivot users with signups indexed by weekday and city: signups_pivot\n",
    "signups_pivot = users.pivot(index = 'weekday', columns = 'city',values= 'signups')\n",
    "\n",
    "# Print signups_pivot\n",
    "print(signups_pivot)\n",
    "\n",
    "# Pivot users pivoted by both signups and visitors: pivot\n",
    "pivot = users.pivot(index = 'weekday', columns = 'city')\n",
    "\n",
    "# Print the pivoted DataFrame\n",
    "print(pivot)\n",
    "\n",
    "\n",
    "'''\n",
    " users\n",
    "Out[7]: \n",
    "  weekday    city  visitors  signups\n",
    "0     Sun  Austin       139        7\n",
    "1     Sun  Dallas       237       12\n",
    "2     Mon  Austin       326        3\n",
    "3     Mon  Dallas       456        5\n",
    "\n",
    "<script.py> output:\n",
    "    city     Austin  Dallas\n",
    "    weekday                \n",
    "    Mon           3       5\n",
    "    Sun           7      12\n",
    "            visitors        signups       \n",
    "    city      Austin Dallas  Austin Dallas\n",
    "    weekday                               \n",
    "    Mon          326    456       3      5\n",
    "    Sun          139    237       7     12\n",
    "\n",
    "'''"
   ]
  },
  {
   "cell_type": "code",
   "execution_count": null,
   "metadata": {
    "collapsed": true
   },
   "outputs": [],
   "source": [
    "# Unstack users by 'weekday': byweekday\n",
    "byweekday = users.unstack(level = 'weekday')\n",
    "\n",
    "# Print the byweekday DataFrame\n",
    "print(byweekday)\n",
    "\n",
    "# Stack byweekday by 'weekday' and print it\n",
    "print(byweekday.stack(level = 'weekday'))\n",
    "\n",
    "'''\n",
    "<script.py> output:\n",
    "            visitors      signups    \n",
    "    weekday      Mon  Sun     Mon Sun\n",
    "    city                             \n",
    "    Austin       326  139       3   7\n",
    "    Dallas       456  237       5  12\n",
    "                    visitors  signups\n",
    "    city   weekday                   \n",
    "    Austin Mon           326        3\n",
    "           Sun           139        7\n",
    "    Dallas Mon           456        5\n",
    "           Sun           237       12\n",
    "'''"
   ]
  },
  {
   "cell_type": "code",
   "execution_count": null,
   "metadata": {
    "collapsed": true
   },
   "outputs": [],
   "source": [
    "# Unstack users by 'city': bycity\n",
    "bycity = users.unstack(level = 'city')\n",
    "\n",
    "# Print the bycity DataFrame\n",
    "print(bycity)\n",
    "\n",
    "# Stack bycity by 'city' and print it\n",
    "print(bycity.stack(level = 'city'))\n",
    "\n",
    "'''\n",
    "<script.py> output:\n",
    "            visitors        signups       \n",
    "    city      Austin Dallas  Austin Dallas\n",
    "    weekday                               \n",
    "    Mon          326    456       3      5\n",
    "    Sun          139    237       7     12\n",
    "                    visitors  signups\n",
    "    weekday city                     \n",
    "    Mon     Austin       326        3\n",
    "            Dallas       456        5\n",
    "    Sun     Austin       139        7\n",
    "            Dallas       237       12\n",
    "'''"
   ]
  },
  {
   "cell_type": "code",
   "execution_count": null,
   "metadata": {
    "collapsed": true
   },
   "outputs": [],
   "source": [
    "# Continuing from the previous exercise, you will now use .swaplevel(0, 1) to flip\n",
    "# the index levels. Note they won't be sorted. To sort them, you will have to follow\n",
    "# up with a .sort_index(). You will then obtain the original DataFrame. Note that an\n",
    "# unsorted index leads to slicing failures.\n",
    "\n",
    "# Stack 'city' back into the index of bycity: newusers\n",
    "newusers = bycity.stack(level = 'city')\n",
    "\n",
    "# Swap the levels of the index of newusers: newusers\n",
    "newusers = newusers.swaplevel(0,1)\n",
    "\n",
    "# Print newusers and verify that the index is not sorted\n",
    "print(newusers)\n",
    "\n",
    "# Sort the index of newusers: newusers\n",
    "newusers = newusers.sort_index()\n",
    "\n",
    "# Print newusers and verify that the index is now sorted\n",
    "print(newusers)\n",
    "\n",
    "# Verify that the new DataFrame is equal to the original\n",
    "print(newusers.equals(users))\n",
    "\n",
    "\n",
    "\n",
    "'''\n",
    "<script.py> output:\n",
    "                    visitors  signups\n",
    "    city   weekday                   \n",
    "    Austin Mon           326        3\n",
    "    Dallas Mon           456        5\n",
    "    Austin Sun           139        7\n",
    "    Dallas Sun           237       12\n",
    "                    visitors  signups\n",
    "    city   weekday                   \n",
    "    Austin Mon           326        3\n",
    "           Sun           139        7\n",
    "    Dallas Mon           456        5\n",
    "           Sun           237       12\n",
    "    True\n",
    "'''"
   ]
  },
  {
   "cell_type": "code",
   "execution_count": null,
   "metadata": {
    "collapsed": true
   },
   "outputs": [],
   "source": [
    "# the goal of melting is to restore a pivoted DataFrame to its original form,\n",
    "# or to change it from a wide shape to a long shape. You can explicitly specify\n",
    "# the columns that should remain in the reshaped DataFrame with id_vars, and\n",
    "# list which columns to convert into values with value_vars. As Dhavide demonstrated,\n",
    "# if you don't pass a name to the values in pd.melt(), you will lose the name of your\n",
    "# variable. You can fix this by using the value_name keyword argument.\n",
    "\n",
    "'''\n",
    "In [1]: visitors_by_city_weekday\n",
    "Out[1]: \n",
    "city     Austin  Dallas\n",
    "weekday                \n",
    "Mon         326     456\n",
    "Sun         139     237\n",
    "'''\n",
    "\n",
    "\n",
    "# Reset the index: visitors_by_city_weekday\n",
    "visitors_by_city_weekday = visitors_by_city_weekday.reset_index() \n",
    "\n",
    "# Print visitors_by_city_weekday\n",
    "print(visitors_by_city_weekday)\n",
    "\n",
    "# Melt visitors_by_city_weekday: visitors\n",
    "visitors = pd.melt(visitors_by_city_weekday, id_vars=['weekday'], value_name= 'visitors')\n",
    "\n",
    "# Print visitors\n",
    "print(visitors)\n",
    "\n",
    "'''\n",
    "<script.py> output:\n",
    "    city weekday  Austin  Dallas\n",
    "    0        Mon     326     456\n",
    "    1        Sun     139     237\n",
    "      weekday    city  visitors\n",
    "    0     Mon  Austin       326\n",
    "    1     Sun  Austin       139\n",
    "    2     Mon  Dallas       456\n",
    "    3     Sun  Dallas       237\n",
    "'''"
   ]
  },
  {
   "cell_type": "code",
   "execution_count": null,
   "metadata": {
    "collapsed": true
   },
   "outputs": [],
   "source": [
    "'''\n",
    "In [1]: users\n",
    "Out[1]: \n",
    "  weekday    city  visitors  signups\n",
    "0     Sun  Austin       139        7\n",
    "1     Sun  Dallas       237       12\n",
    "2     Mon  Austin       326        3\n",
    "3     Mon  Dallas       456        5\n",
    "'''\n",
    "\n",
    "# You can move multiple columns into a single column (making the data long and skinny) by \"melting\" multiple columns. \n",
    "\n",
    "# Melt users: skinny\n",
    "skinny = pd.melt(users, id_vars = ['weekday','city'])\n",
    "\n",
    "# Print skinny\n",
    "print(skinny)\n",
    "\n",
    "'''\n",
    "<script.py> output:\n",
    "      weekday    city  variable  value\n",
    "    0     Sun  Austin  visitors    139\n",
    "    1     Sun  Dallas  visitors    237\n",
    "    2     Mon  Austin  visitors    326\n",
    "    3     Mon  Dallas  visitors    456\n",
    "    4     Sun  Austin   signups      7\n",
    "    5     Sun  Dallas   signups     12\n",
    "    6     Mon  Austin   signups      3\n",
    "    7     Mon  Dallas   signups      5\n",
    "\n",
    "'''"
   ]
  },
  {
   "cell_type": "code",
   "execution_count": null,
   "metadata": {
    "collapsed": true
   },
   "outputs": [],
   "source": [
    "# Sometimes, all you need is some key-value pairs, and the context does not matter.\n",
    "# If said context is in the index, you can easily obtain what you want. For example,\n",
    "# in the users DataFrame, the visitors and signups columns lend themselves well to being\n",
    "# represented as key-value pairs. So if you created a hierarchical index with 'city' and\n",
    "# 'weekday' columns as the index, you can easily extract key-value pairs for the 'visitors'\n",
    "# and 'signups' columns by melting users and specifying col_level=0\n",
    "\n",
    "# Set the new index: users_idx\n",
    "users_idx = users.set_index(['city', 'weekday'])\n",
    "\n",
    "# Print the users_idx DataFrame\n",
    "print(users_idx)\n",
    "\n",
    "# Obtain the key-value pairs: kv_pairs\n",
    "kv_pairs = pd.melt(users_idx, col_level = 0)\n",
    "\n",
    "# Print the key-value pairs\n",
    "print(kv_pairs)\n",
    "\n",
    "\n",
    "'''\n",
    "<script.py> output:\n",
    "                    visitors  signups\n",
    "    city   weekday                   \n",
    "    Austin Sun           139        7\n",
    "    Dallas Sun           237       12\n",
    "    Austin Mon           326        3\n",
    "    Dallas Mon           456        5\n",
    "       variable  value\n",
    "    0  visitors    139\n",
    "    1  visitors    237\n",
    "    2  visitors    326\n",
    "    3  visitors    456\n",
    "    4   signups      7\n",
    "    5   signups     12\n",
    "    6   signups      3\n",
    "    7   signups      5\n",
    "'''"
   ]
  },
  {
   "cell_type": "code",
   "execution_count": null,
   "metadata": {
    "collapsed": true
   },
   "outputs": [],
   "source": [
    "# a pivot table allows you to see all of your variables as a function of two other variables.\n",
    "# In this exercise, you will use the .pivot_table() method to see how the users DataFrame\n",
    "# entries appear when presented as functions of the 'weekday' and 'city' columns. That is,\n",
    "# with the rows indexed by 'weekday' and the columns indexed by 'city'.\n",
    "\n",
    "'''\n",
    "In [1]: users\n",
    "Out[1]: \n",
    "  weekday    city  visitors  signups\n",
    "0     Sun  Austin       139        7\n",
    "1     Sun  Dallas       237       12\n",
    "2     Mon  Austin       326        3\n",
    "3     Mon  Dallas       456        5\n",
    "'''\n",
    "\n",
    "# Create the DataFrame with the appropriate pivot table: by_city_day\n",
    "by_city_day = users.pivot_table(index = 'weekday', columns = 'city')\n",
    "\n",
    "# Print by_city_day\n",
    "print(by_city_day)\n",
    "\n",
    "\n",
    "'''\n",
    "<script.py> output:\n",
    "            visitors        signups       \n",
    "    city      Austin Dallas  Austin Dallas\n",
    "    weekday                               \n",
    "    Mon          326    456       3      5\n",
    "    Sun          139    237       7     12\n",
    "'''\n"
   ]
  },
  {
   "cell_type": "code",
   "execution_count": null,
   "metadata": {
    "collapsed": true
   },
   "outputs": [],
   "source": []
  },
  {
   "cell_type": "code",
   "execution_count": null,
   "metadata": {
    "collapsed": true
   },
   "outputs": [],
   "source": []
  },
  {
   "cell_type": "code",
   "execution_count": null,
   "metadata": {
    "collapsed": true
   },
   "outputs": [],
   "source": []
  },
  {
   "cell_type": "code",
   "execution_count": null,
   "metadata": {
    "collapsed": true
   },
   "outputs": [],
   "source": []
  },
  {
   "cell_type": "code",
   "execution_count": null,
   "metadata": {
    "collapsed": true
   },
   "outputs": [],
   "source": []
  },
  {
   "cell_type": "code",
   "execution_count": null,
   "metadata": {
    "collapsed": true
   },
   "outputs": [],
   "source": []
  },
  {
   "cell_type": "code",
   "execution_count": null,
   "metadata": {
    "collapsed": true
   },
   "outputs": [],
   "source": []
  },
  {
   "cell_type": "code",
   "execution_count": null,
   "metadata": {
    "collapsed": true
   },
   "outputs": [],
   "source": []
  },
  {
   "cell_type": "code",
   "execution_count": null,
   "metadata": {
    "collapsed": true
   },
   "outputs": [],
   "source": []
  },
  {
   "cell_type": "code",
   "execution_count": null,
   "metadata": {
    "collapsed": true
   },
   "outputs": [],
   "source": []
  },
  {
   "cell_type": "code",
   "execution_count": null,
   "metadata": {
    "collapsed": true
   },
   "outputs": [],
   "source": []
  },
  {
   "cell_type": "code",
   "execution_count": null,
   "metadata": {
    "collapsed": true
   },
   "outputs": [],
   "source": []
  },
  {
   "cell_type": "code",
   "execution_count": null,
   "metadata": {
    "collapsed": true
   },
   "outputs": [],
   "source": []
  }
 ],
 "metadata": {
  "anaconda-cloud": {},
  "kernelspec": {
   "display_name": "Python [default]",
   "language": "python",
   "name": "python3"
  },
  "language_info": {
   "codemirror_mode": {
    "name": "ipython",
    "version": 3
   },
   "file_extension": ".py",
   "mimetype": "text/x-python",
   "name": "python",
   "nbconvert_exporter": "python",
   "pygments_lexer": "ipython3",
   "version": "3.5.2"
  }
 },
 "nbformat": 4,
 "nbformat_minor": 1
}
