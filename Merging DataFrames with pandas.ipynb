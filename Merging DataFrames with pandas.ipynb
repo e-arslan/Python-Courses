{
 "cells": [
  {
   "cell_type": "code",
   "execution_count": null,
   "metadata": {
    "collapsed": true
   },
   "outputs": [],
   "source": [
    "# When data is spread among several files, you usually invoke pandas' read_csv()\n",
    "# (or a similar data import function) multiple times to load the data into several DataFrames.\n",
    "\n",
    "# Import pandas\n",
    "import pandas as pd\n",
    "\n",
    "# Read 'Bronze.csv' into a DataFrame: bronze\n",
    "bronze = pd.read_csv('Bronze.csv')\n",
    "\n",
    "# Read 'Silver.csv' into a DataFrame: silver\n",
    "silver = pd.read_csv('Silver.csv')\n",
    "\n",
    "# Read 'Gold.csv' into a DataFrame: gold\n",
    "gold = pd.read_csv('Gold.csv')\n",
    "\n",
    "# Print the first five rows of gold\n",
    "print(gold.head())\n",
    "\n",
    "'''\n",
    "<script.py> output:\n",
    "       NOC         Country   Total\n",
    "    0  USA   United States  2088.0\n",
    "    1  URS    Soviet Union   838.0\n",
    "    2  GBR  United Kingdom   498.0\n",
    "    3  FRA          France   378.0\n",
    "    4  GER         Germany   407.0\n",
    "'''"
   ]
  },
  {
   "cell_type": "code",
   "execution_count": null,
   "metadata": {
    "collapsed": true
   },
   "outputs": [],
   "source": [
    "# loading data from multiple files into DataFrames is more efficient in a loop or a list comprehension.\n",
    "\n",
    "# Notice that this approach is not restricted to working with CSV files. That is, even if your\n",
    "# data comes in other formats, as long as pandas has a suitable data import function, you can\n",
    "# apply a loop or comprehension to generate a list of DataFrames imported from the source files.\n",
    "\n",
    "# Import pandas\n",
    "import pandas as pd\n",
    "\n",
    "# Create the list of file names: filenames\n",
    "filenames = ['Gold.csv', 'Silver.csv', 'Bronze.csv']\n",
    "\n",
    "# Create the list of three DataFrames: dataframes\n",
    "dataframes = []\n",
    "for filename in filenames:\n",
    "    dataframes.append(pd.read_csv(filename))\n",
    "\n",
    "# Print top 5 rows of 1st DataFrame in dataframes\n",
    "print(dataframes[0].head())\n",
    "\n",
    "\n",
    "'''\n",
    "<script.py> output:\n",
    "       NOC         Country   Total\n",
    "    0  USA   United States  2088.0\n",
    "    1  URS    Soviet Union   838.0\n",
    "    2  GBR  United Kingdom   498.0\n",
    "    3  FRA          France   378.0\n",
    "    4  GER         Germany   407.0\n",
    "'''"
   ]
  },
  {
   "cell_type": "code",
   "execution_count": null,
   "metadata": {
    "collapsed": true
   },
   "outputs": [],
   "source": [
    "# Import pandas\n",
    "import pandas as pd\n",
    "\n",
    "# Make a copy of gold: medals\n",
    "medals = gold.copy()\n",
    "\n",
    "# Create list of new column labels: new_labels\n",
    "new_labels = ['NOC', 'Country', 'Gold']\n",
    "\n",
    "# Rename the columns of medals using new_labels\n",
    "medals.columns = new_labels\n",
    "\n",
    "# Add columns 'Silver' & 'Bronze' to medals\n",
    "medals['Silver'] = silver['Total']\n",
    "medals['Bronze'] = bronze['Total']\n",
    "\n",
    "# Print the head of medals\n",
    "print(medals.head())\n",
    "\n",
    "\n",
    "'''\n",
    "<script.py> output:\n",
    "       NOC         Country    Gold  Silver  Bronze\n",
    "    0  USA   United States  2088.0  1195.0  1052.0\n",
    "    1  URS    Soviet Union   838.0   627.0   584.0\n",
    "    2  GBR  United Kingdom   498.0   591.0   505.0\n",
    "    3  FRA          France   378.0   461.0   475.0\n",
    "    4  GER         Germany   407.0   350.0   454.0\n",
    "'''"
   ]
  },
  {
   "cell_type": "code",
   "execution_count": null,
   "metadata": {
    "collapsed": true
   },
   "outputs": [],
   "source": [
    "# It is often useful to rearrange the sequence of the rows of a DataFrame by sorting.\n",
    "# You don't have to implement these yourself; the principal methods for doing this are\n",
    "# .sort_index() and .sort_values().\n",
    "\n",
    "# Import pandas\n",
    "import pandas as pd\n",
    "\n",
    "# Read 'monthly_max_temp.csv' into a DataFrame: weather1\n",
    "weather1 = pd.read_csv('monthly_max_temp.csv', index_col = 'Month')\n",
    "\n",
    "# Print the head of weather1\n",
    "print(weather1.head())\n",
    "\n",
    "# Sort the index of weather1 in alphabetical order: weather2\n",
    "weather2 = weather1.sort_index(ascending = True)\n",
    "\n",
    "# Print the head of weather2\n",
    "print(weather2.head())\n",
    "\n",
    "# Sort the index of weather1 in reverse alphabetical order: weather3\n",
    "weather3 = weather1.sort_index(ascending = False)\n",
    "\n",
    "# Print the head of weather3\n",
    "print(weather3.head())\n",
    "\n",
    "# Sort weather1 numerically using the values of 'Max TemperatureF': weather4\n",
    "weather4 = weather1.sort_values('Max TemperatureF')\n",
    "\n",
    "# Print the head of weather4\n",
    "print(weather4.head())\n",
    "\n",
    "'''\n",
    "<script.py> output:\n",
    "           Max TemperatureF\n",
    "    Month                  \n",
    "    Jan                  68\n",
    "    Feb                  60\n",
    "    Mar                  68\n",
    "    Apr                  84\n",
    "    May                  88\n",
    "           Max TemperatureF\n",
    "    Month                  \n",
    "    Apr                  84\n",
    "    Aug                  86\n",
    "    Dec                  68\n",
    "    Feb                  60\n",
    "    Jan                  68\n",
    "           Max TemperatureF\n",
    "    Month                  \n",
    "    Sep                  90\n",
    "    Oct                  84\n",
    "    Nov                  72\n",
    "    May                  88\n",
    "    Mar                  68\n",
    "           Max TemperatureF\n",
    "    Month                  \n",
    "    Feb                  60\n",
    "    Jan                  68\n",
    "    Mar                  68\n",
    "    Dec                  68\n",
    "    Nov                  72\n",
    "'''"
   ]
  },
  {
   "cell_type": "code",
   "execution_count": null,
   "metadata": {
    "collapsed": true
   },
   "outputs": [],
   "source": [
    "# Sorting methods are not the only way to change DataFrame Indexes. There is also the .reindex() method.\n",
    "\n",
    "# The original data has the first month's abbreviation of the quarter (three-month interval) on the Index,\n",
    "# namely Apr, Jan, Jul, and Sep. This data has been loaded into a DataFrame called weather1 and has been\n",
    "# printed in its entirety in the IPython Shell. Notice it has only four rows (corresponding to the first\n",
    "# month of each quarter) and that the rows are not sorted chronologically.\n",
    "\n",
    "# You'll initially use a list of all twelve month abbreviations and subsequently apply the .ffill() \n",
    "# method to forward-fill the null entries when upsampling. This list of month abbreviations has\n",
    "# been pre-loaded as year.\n",
    "\n",
    "# Import pandas\n",
    "import pandas as pd\n",
    "\n",
    "# Reindex weather1 using the list year: weather2\n",
    "weather2 = weather1.reindex(year)\n",
    "\n",
    "# Print weather2\n",
    "print(weather2)\n",
    "\n",
    "# Reindex weather1 using the list year with forward-fill: weather3\n",
    "weather3 = weather1.reindex(year).ffill()\n",
    "\n",
    "# Print weather3\n",
    "print(weather3)\n",
    "\n",
    "\n",
    "'''\n",
    "       Mean TemperatureF\n",
    "Month                   \n",
    "Apr            61.956044\n",
    "Jan            32.133333\n",
    "Jul            68.934783\n",
    "Oct            43.434783\n",
    "\n",
    "<script.py> output:\n",
    "           Mean TemperatureF\n",
    "    Month                   \n",
    "    Jan            32.133333\n",
    "    Feb                  NaN\n",
    "    Mar                  NaN\n",
    "    Apr            61.956044\n",
    "    May                  NaN\n",
    "    Jun                  NaN\n",
    "    Jul            68.934783\n",
    "    Aug                  NaN\n",
    "    Sep                  NaN\n",
    "    Oct            43.434783\n",
    "    Nov                  NaN\n",
    "    Dec                  NaN\n",
    "           Mean TemperatureF\n",
    "    Month                   \n",
    "    Jan            32.133333\n",
    "    Feb            32.133333\n",
    "    Mar            32.133333\n",
    "    Apr            61.956044\n",
    "    May            61.956044\n",
    "    Jun            61.956044\n",
    "    Jul            68.934783\n",
    "    Aug            68.934783\n",
    "    Sep            68.934783\n",
    "    Oct            43.434783\n",
    "    Nov            43.434783\n",
    "    Dec            43.434783\n",
    "'''"
   ]
  },
  {
   "cell_type": "code",
   "execution_count": null,
   "metadata": {
    "collapsed": true
   },
   "outputs": [],
   "source": [
    "# Another common technique is to reindex a DataFrame using the Index of another DataFrame.\n",
    "# The DataFrame .reindex() method can accept the Index of a DataFrame or Series as input.\n",
    "# You can access the Index of a DataFrame with its .index attribute.\n",
    "\n",
    "# The DataFrames names_1981 and names_1881 both have a MultiIndex with levels name and gender\n",
    "# giving unique labels to counts in each row. If you're interested in seeing how the MultiIndexes\n",
    "# were set up, names_1981 and names_1881 were read in using the following commands:\n",
    "\n",
    "# names_1981 = pd.read_csv('names1981.csv', header=None, names=['name','gender','count'], index_col=(0,1))\n",
    "# names_1881 = pd.read_csv('names1881.csv', header=None, names=['name','gender','count'], index_col=(0,1))\n",
    "\n",
    "# As you can see by looking at their shapes, which have been printed in the IPython Shell, the DataFrame\n",
    "# corresponding to 1981 births is much larger, reflecting the greater diversity of names in 1981 as compared to 1881.\n",
    "\n",
    "# Your job here is to use the DataFrame .reindex() and .dropna() methods to make a DataFrame common_names\n",
    "# counting names from 1881 that were still popular in 1981.\n",
    "\n",
    "# Import pandas\n",
    "import pandas as pd\n",
    "\n",
    "# Reindex names_1981 with index of names_1881: common_names\n",
    "common_names = names_1981.reindex(names_1881.index)\n",
    "\n",
    "# Print shape of common_names\n",
    "print(common_names.shape)\n",
    "\n",
    "# Drop rows with null counts: common_names\n",
    "common_names = common_names.dropna()\n",
    "\n",
    "# Print shape of new common_names\n",
    "print(common_names.shape)\n",
    "\n",
    "\n",
    "'''\n",
    "Shape of names_1981 DataFrame: (19455, 1)\n",
    "Shape of names_1881 DataFrame: (1935, 1)\n",
    "\n",
    "<script.py> output:\n",
    "    (1935, 1)\n",
    "    (1587, 1)\n",
    "'''"
   ]
  },
  {
   "cell_type": "code",
   "execution_count": null,
   "metadata": {
    "collapsed": true
   },
   "outputs": [],
   "source": [
    "# Remember, ordinary arithmetic operators (like +, -, *, and /) broadcast scalar values to\n",
    "# conforming DataFrames when combining scalars & DataFrames in arithmetic expressions. Broadcasting \n",
    "# also works with pandas Series and NumPy arrays.\n",
    "\n",
    "# Extract selected columns from weather as new DataFrame: temps_f\n",
    "temps_f = weather[['Min TemperatureF','Mean TemperatureF','Max TemperatureF']]\n",
    "\n",
    "# Convert temps_f to celsius: temps_c\n",
    "temps_c = (temps_f -32) * 5/9\n",
    "\n",
    "# Rename 'F' in column names with 'C': temps_c.columns\n",
    "temps_c.columns = temps_c.columns.str.replace('F','C')\n",
    "\n",
    "# Print first 5 rows of temps_c\n",
    "print(temps_c.head())\n",
    "\n",
    "\n",
    "'''\n",
    "<script.py> output:\n",
    "                Min TemperatureC  Mean TemperatureC  Max TemperatureC\n",
    "    Date                                                             \n",
    "    2013-01-01         -6.111111          -2.222222          0.000000\n",
    "    2013-01-02         -8.333333          -6.111111         -3.888889\n",
    "    2013-01-03         -8.888889          -4.444444          0.000000\n",
    "    2013-01-04         -2.777778          -2.222222         -1.111111\n",
    "    2013-01-05         -3.888889          -1.111111          1.111111\n",
    "'''"
   ]
  },
  {
   "cell_type": "code",
   "execution_count": null,
   "metadata": {
    "collapsed": true
   },
   "outputs": [],
   "source": [
    "# Create the DataFrame yearly by resampling the slice post2008 by year. Remember, you need\n",
    "# to chain .resample() (using the alias 'A' for annual frequency) with some kind of aggregation;\n",
    "# you will use the aggregation method .last() to select the last element when resampling.\n",
    "\n",
    "import pandas as pd\n",
    "\n",
    "# Read 'GDP.csv' into a DataFrame: gdp\n",
    "gdp = pd.read_csv('GDP.csv', index_col = 'DATE', parse_dates = True)\n",
    "\n",
    "# Slice all the gdp data from 2008 onward: post2008\n",
    "post2008 = gdp.loc['2008':,]\n",
    "\n",
    "# Print the last 8 rows of post2008\n",
    "print(post2008.tail(8))\n",
    "\n",
    "# Resample post2008 by year, keeping last(): yearly\n",
    "yearly = post2008.resample('A').last()\n",
    "\n",
    "# Print yearly\n",
    "print(yearly)\n",
    "\n",
    "# Compute percentage growth of yearly: yearly['growth']\n",
    "yearly['growth'] = yearly.pct_change() * 100\n",
    "\n",
    "# Print yearly again\n",
    "print(yearly)\n",
    "\n",
    "\n",
    "'''\n",
    "<script.py> output:\n",
    "                  VALUE\n",
    "    DATE               \n",
    "    2014-07-01  17569.4\n",
    "    2014-10-01  17692.2\n",
    "    2015-01-01  17783.6\n",
    "    2015-04-01  17998.3\n",
    "    2015-07-01  18141.9\n",
    "    2015-10-01  18222.8\n",
    "    2016-01-01  18281.6\n",
    "    2016-04-01  18436.5\n",
    "                  VALUE\n",
    "    DATE               \n",
    "    2008-12-31  14549.9\n",
    "    2009-12-31  14566.5\n",
    "    2010-12-31  15230.2\n",
    "    2011-12-31  15785.3\n",
    "    2012-12-31  16297.3\n",
    "    2013-12-31  16999.9\n",
    "    2014-12-31  17692.2\n",
    "    2015-12-31  18222.8\n",
    "    2016-12-31  18436.5\n",
    "                  VALUE    growth\n",
    "    DATE                         \n",
    "    2008-12-31  14549.9       NaN\n",
    "    2009-12-31  14566.5  0.114090\n",
    "    2010-12-31  15230.2  4.556345\n",
    "    2011-12-31  15785.3  3.644732\n",
    "    2012-12-31  16297.3  3.243524\n",
    "    2013-12-31  16999.9  4.311144\n",
    "    2014-12-31  17692.2  4.072377\n",
    "    2015-12-31  18222.8  2.999062\n",
    "    2016-12-31  18436.5  1.172707\n",
    "'''"
   ]
  },
  {
   "cell_type": "code",
   "execution_count": null,
   "metadata": {
    "collapsed": true
   },
   "outputs": [],
   "source": [
    "# Import pandas\n",
    "import pandas as pd\n",
    "\n",
    "# Read 'sp500.csv' into a DataFrame: sp500\n",
    "sp500 = pd.read_csv('sp500.csv', index_col = 'Date', parse_dates = True)\n",
    "\n",
    "# Read 'exchange.csv' into a DataFrame: exchange\n",
    "exchange = pd.read_csv('exchange.csv', index_col = 'Date', parse_dates = True)\n",
    "\n",
    "# Subset 'Open' & 'Close' columns from sp500: dollars\n",
    "dollars = sp500[['Open','Close']]\n",
    "\n",
    "# Print the head of dollars\n",
    "print(dollars.head())\n",
    "\n",
    "# Convert dollars to pounds: pounds\n",
    "pounds = dollars.multiply(exchange['GBP/USD'], axis = 'rows')\n",
    "\n",
    "# Print the head of pounds\n",
    "print(pounds.head())\n",
    "\n",
    "'''\n",
    "<script.py> output:\n",
    "                       Open        Close\n",
    "    Date                                \n",
    "    2015-01-02  2058.899902  2058.199951\n",
    "    2015-01-05  2054.439941  2020.579956\n",
    "    2015-01-06  2022.150024  2002.609985\n",
    "    2015-01-07  2005.550049  2025.900024\n",
    "    2015-01-08  2030.609985  2062.139893\n",
    "                       Open        Close\n",
    "    Date                                \n",
    "    2015-01-02  1340.364425  1339.908750\n",
    "    2015-01-05  1348.616555  1326.389506\n",
    "    2015-01-06  1332.515980  1319.639876\n",
    "    2015-01-07  1330.562125  1344.063112\n",
    "    2015-01-08  1343.268811  1364.126161\n",
    "'''"
   ]
  },
  {
   "cell_type": "code",
   "execution_count": null,
   "metadata": {
    "collapsed": true
   },
   "outputs": [],
   "source": []
  },
  {
   "cell_type": "code",
   "execution_count": null,
   "metadata": {
    "collapsed": true
   },
   "outputs": [],
   "source": []
  },
  {
   "cell_type": "code",
   "execution_count": null,
   "metadata": {
    "collapsed": true
   },
   "outputs": [],
   "source": []
  },
  {
   "cell_type": "code",
   "execution_count": null,
   "metadata": {
    "collapsed": true
   },
   "outputs": [],
   "source": []
  },
  {
   "cell_type": "code",
   "execution_count": null,
   "metadata": {
    "collapsed": true
   },
   "outputs": [],
   "source": []
  },
  {
   "cell_type": "code",
   "execution_count": null,
   "metadata": {
    "collapsed": true
   },
   "outputs": [],
   "source": []
  },
  {
   "cell_type": "code",
   "execution_count": null,
   "metadata": {
    "collapsed": true
   },
   "outputs": [],
   "source": []
  },
  {
   "cell_type": "code",
   "execution_count": null,
   "metadata": {
    "collapsed": true
   },
   "outputs": [],
   "source": []
  },
  {
   "cell_type": "code",
   "execution_count": null,
   "metadata": {
    "collapsed": true
   },
   "outputs": [],
   "source": []
  },
  {
   "cell_type": "code",
   "execution_count": null,
   "metadata": {
    "collapsed": true
   },
   "outputs": [],
   "source": []
  },
  {
   "cell_type": "code",
   "execution_count": null,
   "metadata": {
    "collapsed": true
   },
   "outputs": [],
   "source": []
  },
  {
   "cell_type": "code",
   "execution_count": null,
   "metadata": {
    "collapsed": true
   },
   "outputs": [],
   "source": []
  },
  {
   "cell_type": "code",
   "execution_count": null,
   "metadata": {
    "collapsed": true
   },
   "outputs": [],
   "source": []
  },
  {
   "cell_type": "code",
   "execution_count": null,
   "metadata": {
    "collapsed": true
   },
   "outputs": [],
   "source": []
  },
  {
   "cell_type": "code",
   "execution_count": null,
   "metadata": {
    "collapsed": true
   },
   "outputs": [],
   "source": []
  }
 ],
 "metadata": {
  "kernelspec": {
   "display_name": "Python [default]",
   "language": "python",
   "name": "python3"
  },
  "language_info": {
   "codemirror_mode": {
    "name": "ipython",
    "version": 3
   },
   "file_extension": ".py",
   "mimetype": "text/x-python",
   "name": "python",
   "nbconvert_exporter": "python",
   "pygments_lexer": "ipython3",
   "version": "3.5.2"
  }
 },
 "nbformat": 4,
 "nbformat_minor": 1
}
