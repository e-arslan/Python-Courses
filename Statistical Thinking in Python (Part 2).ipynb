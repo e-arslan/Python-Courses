{
 "cells": [
  {
   "cell_type": "code",
   "execution_count": null,
   "metadata": {
    "collapsed": true
   },
   "outputs": [],
   "source": [
    "# If you assume that no-hitters are described as a Poisson process, then the time between \n",
    "# no-hitters is Exponentially distributed. As you have seen, the Exponential distribution \n",
    "# has a single parameter, which we will call ττ, the typical interval time. The value of the\n",
    "# parameter ττ that makes the exponential distribution best match the data is the mean interval\n",
    "# time (where time is in units of number of games) between no-hitters.\n",
    "\n",
    "# Compute the value of this parameter from the data. Then, use np.random.exponential() to\n",
    "# \"repeat\" the history of Major League Baseball by drawing inter-no-hitter times from an\n",
    "# exponential distribution with the ττ you found and plot the histogram as an approximation to the PDF.\n",
    "\n",
    "# Seed random number generator\n",
    "np.random.seed(42)\n",
    "\n",
    "# Compute mean no-hitter time: tau\n",
    "tau = np.mean(nohitter_times)\n",
    "\n",
    "# Draw out of an exponential distribution with parameter tau: inter_nohitter_time\n",
    "inter_nohitter_time = np.random.exponential(tau, 100000)\n",
    "\n",
    "# Plot the PDF and label axes\n",
    "_ = plt.hist(inter_nohitter_time,\n",
    "             bins = 50, normed = True, histtype = 'step')\n",
    "_ = plt.xlabel('Games between no-hitters')\n",
    "_ = plt.ylabel('PDF')\n",
    "\n",
    "# Show the plot\n",
    "plt.show()"
   ]
  },
  {
   "cell_type": "code",
   "execution_count": 1,
   "metadata": {
    "collapsed": true
   },
   "outputs": [],
   "source": [
    "def ecdf(data):\n",
    "    \"\"\"Compute ECDF for a one-dimensional array of measurements.\"\"\"\n",
    "\n",
    "    # Number of data points: n\n",
    "    n = len(data) \n",
    "\n",
    "    # x-data for the ECDF: x\n",
    "    x = np.sort(data)\n",
    "\n",
    "    # y-data for the ECDF: y\n",
    "    y = np.arange(1, n + 1) / n\n",
    "\n",
    "    return x, y"
   ]
  },
  {
   "cell_type": "code",
   "execution_count": null,
   "metadata": {
    "collapsed": true
   },
   "outputs": [],
   "source": [
    "# Create an ECDF from real data: x, y\n",
    "x, y = ecdf(nohitter_times)\n",
    "\n",
    "# Create a CDF from theoretical samples: x_theor, y_theor\n",
    "x_theor, y_theor = ecdf(inter_nohitter_time)\n",
    "\n",
    "# Overlay the plots\n",
    "plt.plot(x_theor, y_theor)\n",
    "plt.plot(x, y, marker='.', linestyle='none')\n",
    "\n",
    "# Margins and axis labels\n",
    "plt.margins(0.02)\n",
    "plt.xlabel('Games between no-hitters')\n",
    "plt.ylabel('CDF')\n",
    "\n",
    "# Show the plot\n",
    "plt.show()\n"
   ]
  },
  {
   "cell_type": "code",
   "execution_count": null,
   "metadata": {
    "collapsed": true
   },
   "outputs": [],
   "source": [
    "# Plot the theoretical CDFs\n",
    "plt.plot(x_theor, y_theor)\n",
    "plt.plot(x, y, marker='.', linestyle='none')\n",
    "plt.margins(0.02)\n",
    "plt.xlabel('Games between no-hitters')\n",
    "plt.ylabel('CDF')\n",
    "\n",
    "# Take samples with half tau: samples_half\n",
    "samples_half = np.random.exponential(tau/2, 10000)\n",
    "\n",
    "# Take samples with double tau: samples_double\n",
    "samples_double = np.random.exponential(2*tau, 10000)\n",
    "\n",
    "# Generate CDFs from these samples\n",
    "x_half, y_half = ecdf(samples_half)\n",
    "x_double, y_double = ecdf(samples_double)\n",
    "\n",
    "# Plot these CDFs as lines\n",
    "_ = plt.plot(x_half, y_half)\n",
    "_ = plt.plot(x_double, y_double)\n",
    "\n",
    "# Show the plot\n",
    "plt.show()"
   ]
  },
  {
   "cell_type": "code",
   "execution_count": null,
   "metadata": {
    "collapsed": true
   },
   "outputs": [],
   "source": [
    "# we will look at the correlation between female literacy and fertility (defined as the average\n",
    "# number of children born per woman) throughout the world. For ease of analysis and interpretation,\n",
    "# we will work with the illiteracy rate.\n",
    "\n",
    "# It is always a good idea to do some EDA ahead of our analysis. To this end, plot the fertility\n",
    "# versus illiteracy and compute the Pearson correlation coefficient. The Numpy array illiteracy\n",
    "# has the illiteracy rate among females for most of the world's nations. The array fertility has\n",
    "# the corresponding fertility data.\n",
    "\n",
    "# Plot the illiteracy rate versus fertility\n",
    "_ = plt.plot(illiteracy, fertility, marker='.', linestyle='none')\n",
    "\n",
    "# Set the margins and label axes\n",
    "plt.margins(0.02)\n",
    "_ = plt.xlabel('percent illiterate')\n",
    "_ = plt.ylabel('fertility')\n",
    "\n",
    "# Show the plot\n",
    "plt.show()\n",
    "\n",
    "# Show the Pearson correlation coefficient\n",
    "print(pearson_r(illiteracy, fertility))"
   ]
  },
  {
   "cell_type": "code",
   "execution_count": null,
   "metadata": {
    "collapsed": true
   },
   "outputs": [],
   "source": [
    "# We will assume that fertility is a linear function of the female illiteracy rate. \n",
    "# That is, f=ai+bf=ai+b, where aa is the slope and bb is the intercept. We can think\n",
    "# of the intercept as the minimal fertility rate, probably somewhere between one and two.\n",
    "# The slope tells us how the fertility rate varies with illiteracy. We can find the\n",
    "# best fit line using np.polyfit().\n",
    "\n",
    "# Plot the illiteracy rate versus fertility\n",
    "_ = plt.plot(illiteracy, fertility, marker='.', linestyle='none')\n",
    "plt.margins(0.02)\n",
    "_ = plt.xlabel('percent illiterate')\n",
    "_ = plt.ylabel('fertility')\n",
    "\n",
    "# Perform a linear regression using np.polyfit(): a, b\n",
    "a, b = np.polyfit(illiteracy, fertility, 1)\n",
    "\n",
    "# Print the results to the screen\n",
    "print('slope =', a, 'children per woman / percent illiterate')\n",
    "print('intercept =', b, 'children per woman')\n",
    "\n",
    "# Make theoretical line to plot\n",
    "x = np.array([0,100])\n",
    "y = a * x + b\n",
    "\n",
    "# Add regression line to your plot\n",
    "_ = plt.plot(x, y)\n",
    "\n",
    "# Draw the plot\n",
    "plt.show()\n",
    "\n",
    "\n",
    "'''\n",
    "<script.py> output:\n",
    "    slope = 0.0497985480906 children per woman / percent illiterate\n",
    "    intercept = 1.88805061064 children per woman\n",
    "'''"
   ]
  },
  {
   "cell_type": "code",
   "execution_count": null,
   "metadata": {
    "collapsed": true
   },
   "outputs": [],
   "source": [
    "# The function np.polyfit() that you used to get your regression parameters finds the optimal\n",
    "# slope and intercept. It is optimizing the sum of the squares of the residuals, also known as\n",
    "# RSS (for residual sum of squares). In this exercise, you will plot the function that is being\n",
    "# optimized, the RSS, versus the slope parameter a. To do this, fix the intercept to be what you\n",
    "# found in the optimization. Then, plot the RSS vs. the slope. Where is it minimal?\n",
    "\n",
    "# Specify slopes to consider: a_vals\n",
    "a_vals = np.linspace(0, 0.1, 200)\n",
    "\n",
    "# Initialize sum of square of residuals: rss\n",
    "rss = np.empty_like(a_vals)\n",
    "\n",
    "# Compute sum of square of residuals for each value of a_vals\n",
    "for i, a in enumerate(a_vals):\n",
    "    rss[i] = np.sum((fertility - a*illiteracy - b)**2)\n",
    "\n",
    "# Plot the RSS\n",
    "plt.plot(a_vals, rss, '-')\n",
    "plt.xlabel('slope (children per woman / percent illiterate)')\n",
    "plt.ylabel('sum of square of residuals')\n",
    "\n",
    "plt.show()"
   ]
  },
  {
   "cell_type": "code",
   "execution_count": 14,
   "metadata": {
    "collapsed": false
   },
   "outputs": [
    {
     "name": "stdout",
     "output_type": "stream",
     "text": [
      "0.500090909091 3.00009090909\n"
     ]
    },
    {
     "data": {
      "image/png": "[encoded data removed]",
      "text/plain": [
       "<matplotlib.figure.Figure at 0x1a03e46f4a8>"
      ]
     },
     "metadata": {},
     "output_type": "display_data"
    }
   ],
   "source": [
    "import numpy as np\n",
    "import matplotlib.pyplot as plt\n",
    "\n",
    "x = np.array([ 10.,   8.,  13.,   9.,  11.,  14.,   6.,   4.,  12.,   7.,   5.])\n",
    "y = np.array([  8.04,   6.95,   7.58,   8.81,   8.33,   9.96,   7.24,   4.26,\n",
    "        10.84,   4.82,   5.68])\n",
    "\n",
    "# Perform linear regression: a, b\n",
    "a, b = np.polyfit(x,y,1)\n",
    "\n",
    "# Print the slope and intercept\n",
    "print(a, b)\n",
    "\n",
    "# Generate theoretical x and y data: x_theor, y_theor\n",
    "x_theor = np.array([3, 15])\n",
    "y_theor = a * x_theor + b\n",
    "\n",
    "# Plot the Anscombe data and theoretical line\n",
    "_ = plt.plot(x,y,marker = '.', linestyle = 'none')\n",
    "_ = plt.plot(x_theor, y_theor)\n",
    "\n",
    "# Label the axes\n",
    "plt.xlabel('x')\n",
    "plt.ylabel('y')\n",
    "\n",
    "# Show the plot\n",
    "plt.show()\n"
   ]
  },
  {
   "cell_type": "code",
   "execution_count": 16,
   "metadata": {
    "collapsed": false
   },
   "outputs": [
    {
     "name": "stdout",
     "output_type": "stream",
     "text": [
      "slope: 0.500090909091 intercept: 3.00009090909\n",
      "slope: 0.5 intercept: 3.00090909091\n",
      "slope: 0.499727272727 intercept: 3.00245454545\n",
      "slope: 0.499909090909 intercept: 3.00172727273\n"
     ]
    }
   ],
   "source": [
    "# Now, to verify that all four of the Anscombe data sets have the same slope and intercept from\n",
    "# a linear regression, you will compute the slope and intercept for each set. The data are stored\n",
    "# in lists; anscombe_x = [x1, x2, x3, x4] and anscombe_y = [y1, y2, y3, y4], where, for example,\n",
    "# x2 and y2 are the xx and yy values for the second Anscombe data set.\n",
    "from numpy import array\n",
    "\n",
    "anscombe_x = [array([ 10.,   8.,  13.,   9.,  11.,  14.,   6.,   4.,  12.,   7.,   5.]),\n",
    " array([ 10.,   8.,  13.,   9.,  11.,  14.,   6.,   4.,  12.,   7.,   5.]),\n",
    " array([ 10.,   8.,  13.,   9.,  11.,  14.,   6.,   4.,  12.,   7.,   5.]),\n",
    " array([  8.,   8.,   8.,   8.,   8.,   8.,   8.,  19.,   8.,   8.,   8.])]\n",
    "\n",
    "anscombe_y = [array([  8.04,   6.95,   7.58,   8.81,   8.33,   9.96,   7.24,   4.26,\n",
    "         10.84,   4.82,   5.68]),\n",
    " array([ 9.14,  8.14,  8.74,  8.77,  9.26,  8.1 ,  6.13,  3.1 ,  9.13,\n",
    "         7.26,  4.74]),\n",
    " array([  7.46,   6.77,  12.74,   7.11,   7.81,   8.84,   6.08,   5.39,\n",
    "          8.15,   6.42,   5.73]),\n",
    " array([  6.58,   5.76,   7.71,   8.84,   8.47,   7.04,   5.25,  12.5 ,\n",
    "          5.56,   7.91,   6.89])]\n",
    "\n",
    "# Iterate through x,y pairs\n",
    "for x, y in zip(anscombe_x , anscombe_y ):\n",
    "    # Compute the slope and intercept: a, b\n",
    "    a, b = np.polyfit(x,y,1)\n",
    "\n",
    "    # Print the result\n",
    "    print('slope:', a, 'intercept:', b)\n"
   ]
  },
  {
   "cell_type": "code",
   "execution_count": null,
   "metadata": {
    "collapsed": true
   },
   "outputs": [],
   "source": [
    "# Unfortunately, you often will read and hear other data scientists using different terminology \n",
    "# for bootstrap samples and replicates. This is even more reason why we need everything to be\n",
    "# clear and consistent for this course. So, before going forward discussing bootstrapping,\n",
    "# let's get our terminology down. If we have a data set with nn repeated measurements, a bootstrap\n",
    "# sample is an array of length nn that was drawn from the original data with replacement.\n",
    "# What is a bootstrap replicate?\n",
    "\n",
    "# A single value of a statistic computed from a bootstrap sample.\n",
    "\n",
    "for _ in range(50):\n",
    "    # Generate bootstrap sample: bs_sample\n",
    "    bs_sample = np.random.choice(rainfall, size=len(rainfall))\n",
    "\n",
    "    # Compute and plot ECDF from bootstrap sample\n",
    "    x, y = ecdf(bs_sample)\n",
    "    _ = plt.plot(x, y, marker='.', linestyle='none',\n",
    "                 color='gray', alpha=0.1)\n",
    "\n",
    "# Compute and plot ECDF from original data\n",
    "x, y = ecdf(rainfall)\n",
    "_ = plt.plot(x, y, marker='.')\n",
    "\n",
    "# Make margins and label axes\n",
    "plt.margins(0.02)\n",
    "_ = plt.xlabel('yearly rainfall (mm)')\n",
    "_ = plt.ylabel('ECDF')\n",
    "\n",
    "# Show the plot\n",
    "plt.show()\n"
   ]
  },
  {
   "cell_type": "code",
   "execution_count": 17,
   "metadata": {
    "collapsed": true
   },
   "outputs": [],
   "source": [
    "def bootstrap_replicate_1d(data, func):\n",
    "    return func(np.random.choice(data, size=len(data)))\n",
    "\n",
    "def draw_bs_reps(data, func, size=1):\n",
    "    \"\"\"Draw bootstrap replicates.\"\"\"\n",
    "\n",
    "    # Initialize array of replicates: bs_replicates\n",
    "    bs_replicates = np.empty(size)\n",
    "\n",
    "    # Generate replicates\n",
    "    for i in range(size):\n",
    "        bs_replicates[i] = bootstrap_replicate_1d(data,func)\n",
    "\n",
    "    return bs_replicates\n"
   ]
  },
  {
   "cell_type": "code",
   "execution_count": null,
   "metadata": {
    "collapsed": true
   },
   "outputs": [],
   "source": [
    "# it can be shown theoretically that under not-too-restrictive conditions, the value\n",
    "# of the mean will always be Normally distributed. (This does not hold in general,\n",
    "# just for the mean and a few other statistics.) The standard deviation of this distribution,\n",
    "# called the standard error of the mean, or SEM, is given by the standard deviation of the data\n",
    "# divided by the square root of the number of data points. I.e., for a data set,\n",
    "# sem = np.std(data) / np.sqrt(len(data)). Using hacker statistics, you get this same result\n",
    "# without the need to derive it, but you will verify this result from your bootstrap replicates.\n",
    "\n",
    "\n",
    "# Take 10,000 bootstrap replicates of the mean: bs_replicates\n",
    "bs_replicates = draw_bs_reps(rainfall, np.mean, 10000)\n",
    "\n",
    "# Compute and print SEM\n",
    "sem = np.std(rainfall) / np.sqrt(len(rainfall))\n",
    "print(sem)\n",
    "\n",
    "# Compute and print standard deviation of bootstrap replicates\n",
    "bs_std = np.std(bs_replicates)\n",
    "print(bs_std)\n",
    "\n",
    "# Make a histogram of the results\n",
    "_ = plt.hist(bs_replicates, bins=50, normed=True)\n",
    "_ = plt.xlabel('mean annual rainfall (mm)')\n",
    "_ = plt.ylabel('PDF')\n",
    "\n",
    "# Show the plot\n",
    "plt.show()"
   ]
  },
  {
   "cell_type": "code",
   "execution_count": null,
   "metadata": {
    "collapsed": true
   },
   "outputs": [],
   "source": [
    "def draw_bs_reps(data, func, size=1):\n",
    "    return np.array([bootstrap_replicate_1d(data, func) for _ in range(size)])"
   ]
  },
  {
   "cell_type": "code",
   "execution_count": 18,
   "metadata": {
    "collapsed": false
   },
   "outputs": [
    {
     "data": {
      "image/png": "[encoded data removed]",
      "text/plain": [
       "<matplotlib.figure.Figure at 0x1a03ee98f28>"
      ]
     },
     "metadata": {},
     "output_type": "display_data"
    }
   ],
   "source": [
    "rainfall = array([  875.5,   648.2,   788.1,   940.3,   491.1,   743.5,   730.1,\n",
    "         686.5,   878.8,   865.6,   654.9,   831.5,   798.1,   681.8,\n",
    "         743.8,   689.1,   752.1,   837.2,   710.6,   749.2,   967.1,\n",
    "         701.2,   619. ,   747.6,   803.4,   645.6,   804.1,   787.4,\n",
    "         646.8,   997.1,   774. ,   734.5,   835. ,   840.7,   659.6,\n",
    "         828.3,   909.7,   856.9,   578.3,   904.2,   883.9,   740.1,\n",
    "         773.9,   741.4,   866.8,   871.1,   712.5,   919.2,   927.9,\n",
    "         809.4,   633.8,   626.8,   871.3,   774.3,   898.8,   789.6,\n",
    "         936.3,   765.4,   882.1,   681.1,   661.3,   847.9,   683.9,\n",
    "         985.7,   771.1,   736.6,   713.2,   774.5,   937.7,   694.5,\n",
    "         598.2,   983.8,   700.2,   901.3,   733.5,   964.4,   609.3,\n",
    "        1035.2,   718. ,   688.6,   736.8,   643.3,  1038.5,   969. ,\n",
    "         802.7,   876.6,   944.7,   786.6,   770.4,   808.6,   761.3,\n",
    "         774.2,   559.3,   674.2,   883.6,   823.9,   960.4,   877.8,\n",
    "         940.6,   831.8,   906.2,   866.5,   674.1,   998.1,   789.3,\n",
    "         915. ,   737.1,   763. ,   666.7,   824.5,   913.8,   905.1,\n",
    "         667.8,   747.4,   784.7,   925.4,   880.2,  1086.9,   764.4,\n",
    "        1050.1,   595.2,   855.2,   726.9,   785.2,   948.8,   970.6,\n",
    "         896. ,   618.4,   572.4,  1146.4,   728.2,   864.2,   793. ])\n",
    "\n",
    "# Generate 10,000 bootstrap replicates of the variance: bs_replicates\n",
    "bs_replicates = draw_bs_reps(rainfall, np.var, 10000)\n",
    "\n",
    "# Put the variance in units of square centimeters\n",
    "bs_replicates /= 100\n",
    "\n",
    "# Make a histogram of the results\n",
    "_ = plt.hist(bs_replicates, bins = 50, normed = True)\n",
    "_ = plt.xlabel('variance of annual rainfall (sq. cm)')\n",
    "_ = plt.ylabel('PDF')\n",
    "\n",
    "# Show the plot\n",
    "plt.show()"
   ]
  },
  {
   "cell_type": "code",
   "execution_count": 19,
   "metadata": {
    "collapsed": false
   },
   "outputs": [
    {
     "name": "stdout",
     "output_type": "stream",
     "text": [
      "95% confidence interval = [ 662.27320717  870.95298805] games\n"
     ]
    },
    {
     "data": {
      "image/png": "[encoded data removed]",
      "text/plain": [
       "<matplotlib.figure.Figure at 0x1a03eed7be0>"
      ]
     },
     "metadata": {},
     "output_type": "display_data"
    }
   ],
   "source": [
    "nohitter_times = array([ 843, 1613, 1101,  215,  684,  814,  278,  324,  161,  219,  545,\n",
    "        715,  966,  624,   29,  450,  107,   20,   91, 1325,  124, 1468,\n",
    "        104, 1309,  429,   62, 1878, 1104,  123,  251,   93,  188,  983,\n",
    "        166,   96,  702,   23,  524,   26,  299,   59,   39,   12,    2,\n",
    "        308, 1114,  813,  887,  645, 2088,   42, 2090,   11,  886, 1665,\n",
    "       1084, 2900, 2432,  750, 4021, 1070, 1765, 1322,   26,  548, 1525,\n",
    "         77, 2181, 2752,  127, 2147,  211,   41, 1575,  151,  479,  697,\n",
    "        557, 2267,  542,  392,   73,  603,  233,  255,  528,  397, 1529,\n",
    "       1023, 1194,  462,  583,   37,  943,  996,  480, 1497,  717,  224,\n",
    "        219, 1531,  498,   44,  288,  267,  600,   52,  269, 1086,  386,\n",
    "        176, 2199,  216,   54,  675, 1243,  463,  650,  171,  327,  110,\n",
    "        774,  509,    8,  197,  136,   12, 1124,   64,  380,  811,  232,\n",
    "        192,  731,  715,  226,  605,  539, 1491,  323,  240,  179,  702,\n",
    "        156,   82, 1397,  354,  778,  603, 1001,  385,  986,  203,  149,\n",
    "        576,  445,  180, 1403,  252,  675, 1351, 2983, 1568,   45,  899,\n",
    "       3260, 1025,   31,  100, 2055, 4043,   79,  238, 3931, 2351,  595,\n",
    "        110,  215,    0,  563,  206,  660,  242,  577,  179,  157,  192,\n",
    "        192, 1848,  792, 1693,   55,  388,  225, 1134, 1172, 1555,   31,\n",
    "       1582, 1044,  378, 1687, 2915,  280,  765, 2819,  511, 1521,  745,\n",
    "       2491,  580, 2072, 6450,  578,  745, 1075, 1103, 1549, 1520,  138,\n",
    "       1202,  296,  277,  351,  391,  950,  459,   62, 1056, 1128,  139,\n",
    "        420,   87,   71,  814,  603, 1349,  162, 1027,  783,  326,  101,\n",
    "        876,  381,  905,  156,  419,  239,  119,  129,  467])\n",
    "\n",
    "# Draw bootstrap replicates of the mean no-hitter time (equal to tau): bs_replicates\n",
    "bs_replicates = draw_bs_reps(nohitter_times, np.mean, 10000)\n",
    "\n",
    "# Compute the 95% confidence interval: conf_int\n",
    "conf_int = np.percentile(bs_replicates,[2.5, 97.5])\n",
    "\n",
    "# Print the confidence interval\n",
    "print('95% confidence interval =', conf_int, 'games')\n",
    "\n",
    "# Plot the histogram of the replicates\n",
    "_ = plt.hist(bs_replicates, bins=50, normed=True)\n",
    "_ = plt.xlabel(r'$\\tau$ (games)')\n",
    "_ = plt.ylabel('PDF')\n",
    "\n",
    "# Show the plot\n",
    "plt.show()\n"
   ]
  },
  {
   "cell_type": "code",
   "execution_count": 25,
   "metadata": {
    "collapsed": true
   },
   "outputs": [],
   "source": [
    "def draw_bs_pairs_linreg(x, y, size=1):\n",
    "    \"\"\"Perform pairs bootstrap for linear regression.\"\"\"\n",
    "\n",
    "    # Set up array of indices to sample from: inds\n",
    "    inds = np.arange(len(x))\n",
    "\n",
    "    # Initialize replicates: bs_slope_reps, bs_intercept_reps\n",
    "    bs_slope_reps = np.empty(size)\n",
    "    bs_intercept_reps = np.empty(size)\n",
    "\n",
    "    # Generate replicates\n",
    "    for i in range(size):\n",
    "        bs_inds = np.random.choice(inds, size=len(inds))\n",
    "        bs_x, bs_y = x[bs_inds], y[bs_inds]\n",
    "        bs_slope_reps[i], bs_intercept_reps[i] = np.polyfit(bs_x, bs_y, 1)\n",
    "\n",
    "    return bs_slope_reps, bs_intercept_reps"
   ]
  },
  {
   "cell_type": "code",
   "execution_count": 26,
   "metadata": {
    "collapsed": false
   },
   "outputs": [
    {
     "name": "stdout",
     "output_type": "stream",
     "text": [
      "[ 0.04383914  0.05557844]\n"
     ]
    },
    {
     "data": {
      "image/png": "[encoded data removed]",
      "text/plain": [
       "<matplotlib.figure.Figure at 0x1a0405595f8>"
      ]
     },
     "metadata": {},
     "output_type": "display_data"
    }
   ],
   "source": [
    "illiteracy = array([  9.5,  49.2,   1. ,  11.2,   9.8,  60. ,  50.2,  51.2,   0.6,\n",
    "         1. ,   8.5,   6.1,   9.8,   1. ,  42.2,  77.2,  18.7,  22.8,\n",
    "         8.5,  43.9,   1. ,   1. ,   1.5,  10.8,  11.9,   3.4,   0.4,\n",
    "         3.1,   6.6,  33.7,  40.4,   2.3,  17.2,   0.7,  36.1,   1. ,\n",
    "        33.2,  55.9,  30.8,  87.4,  15.4,  54.6,   5.1,   1.1,  10.2,\n",
    "        19.8,   0. ,  40.7,  57.2,  59.9,   3.1,  55.7,  22.8,  10.9,\n",
    "        34.7,  32.2,  43. ,   1.3,   1. ,   0.5,  78.4,  34.2,  84.9,\n",
    "        29.1,  31.3,  18.3,  81.8,  39. ,  11.2,  67. ,   4.1,   0.2,\n",
    "        78.1,   1. ,   7.1,   1. ,  29. ,   1.1,  11.7,  73.6,  33.9,\n",
    "        14. ,   0.3,   1. ,   0.8,  71.9,  40.1,   1. ,   2.1,   3.8,\n",
    "        16.5,   4.1,   0.5,  44.4,  46.3,  18.7,   6.5,  36.8,  18.6,\n",
    "        11.1,  22.1,  71.1,   1. ,   0. ,   0.9,   0.7,  45.5,   8.4,\n",
    "         0. ,   3.8,   8.5,   2. ,   1. ,  58.9,   0.3,   1. ,  14. ,\n",
    "        47. ,   4.1,   2.2,   7.2,   0.3,   1.5,  50.5,   1.3,   0.6,\n",
    "        19.1,   6.9,   9.2,   2.2,   0.2,  12.3,   4.9,   4.6,   0.3,\n",
    "        16.5,  65.7,  63.5,  16.8,   0.2,   1.8,   9.6,  15.2,  14.4,\n",
    "         3.3,  10.6,  61.3,  10.9,  32.2,   9.3,  11.6,  20.7,   6.5,\n",
    "         6.7,   3.5,   1. ,   1.6,  20.5,   1.5,  16.7,   2. ,   0.9])\n",
    "\n",
    "fertility = array([ 1.769,  2.682,  2.077,  2.132,  1.827,  3.872,  2.288,  5.173,\n",
    "        1.393,  1.262,  2.156,  3.026,  2.033,  1.324,  2.816,  5.211,\n",
    "        2.1  ,  1.781,  1.822,  5.908,  1.881,  1.852,  1.39 ,  2.281,\n",
    "        2.505,  1.224,  1.361,  1.468,  2.404,  5.52 ,  4.058,  2.223,\n",
    "        4.859,  1.267,  2.342,  1.579,  6.254,  2.334,  3.961,  6.505,\n",
    "        2.53 ,  2.823,  2.498,  2.248,  2.508,  3.04 ,  1.854,  4.22 ,\n",
    "        5.1  ,  4.967,  1.325,  4.514,  3.173,  2.308,  4.62 ,  4.541,\n",
    "        5.637,  1.926,  1.747,  2.294,  5.841,  5.455,  7.069,  2.859,\n",
    "        4.018,  2.513,  5.405,  5.737,  3.363,  4.89 ,  1.385,  1.505,\n",
    "        6.081,  1.784,  1.378,  1.45 ,  1.841,  1.37 ,  2.612,  5.329,\n",
    "        5.33 ,  3.371,  1.281,  1.871,  2.153,  5.378,  4.45 ,  1.46 ,\n",
    "        1.436,  1.612,  3.19 ,  2.752,  3.35 ,  4.01 ,  4.166,  2.642,\n",
    "        2.977,  3.415,  2.295,  3.019,  2.683,  5.165,  1.849,  1.836,\n",
    "        2.518,  2.43 ,  4.528,  1.263,  1.885,  1.943,  1.899,  1.442,\n",
    "        1.953,  4.697,  1.582,  2.025,  1.841,  5.011,  1.212,  1.502,\n",
    "        2.516,  1.367,  2.089,  4.388,  1.854,  1.748,  2.978,  2.152,\n",
    "        2.362,  1.988,  1.426,  3.29 ,  3.264,  1.436,  1.393,  2.822,\n",
    "        4.969,  5.659,  3.24 ,  1.693,  1.647,  2.36 ,  1.792,  3.45 ,\n",
    "        1.516,  2.233,  2.563,  5.283,  3.885,  0.966,  2.373,  2.663,\n",
    "        1.251,  2.052,  3.371,  2.093,  2.   ,  3.883,  3.852,  3.718,\n",
    "        1.732,  3.928])\n",
    "\n",
    "# Generate replicates of slope and intercept using pairs bootstrap\n",
    "bs_slope_reps, bs_intercept_reps = draw_bs_pairs_linreg(illiteracy, fertility, 1000)\n",
    "\n",
    "# Compute and print 95% CI for slope\n",
    "print(np.percentile(bs_slope_reps, [2.5, 97.5]))\n",
    "\n",
    "# Plot the histogram\n",
    "_ = plt.hist(bs_slope_reps, bins=50, normed=True)\n",
    "_ = plt.xlabel('slope')\n",
    "_ = plt.ylabel('PDF')\n",
    "plt.show()"
   ]
  },
  {
   "cell_type": "code",
   "execution_count": 31,
   "metadata": {
    "collapsed": false
   },
   "outputs": [
    {
     "name": "stdout",
     "output_type": "stream",
     "text": [
      "[  0 100]\n"
     ]
    },
    {
     "data": {
      "image/png": "[encoded data removed]",
      "text/plain": [
       "<matplotlib.figure.Figure at 0x1a0405d49b0>"
      ]
     },
     "metadata": {},
     "output_type": "display_data"
    }
   ],
   "source": [
    "# Generate array of x-values for bootstrap lines: x\n",
    "x = np.array([0,100])\n",
    "# Plot the bootstrap lines\n",
    "for i in range(100):\n",
    "    _ = plt.plot(x, bs_slope_reps[i]*x + bs_intercept_reps[i],\n",
    "                 linewidth=0.5, alpha=0.2, color='red')\n",
    "\n",
    "# Plot the data\n",
    "_ = plt.plot(illiteracy, fertility, marker = '.', linestyle = 'none')\n",
    "\n",
    "# Label axes, set the margins, and show the plot\n",
    "_ = plt.xlabel('illiteracy')\n",
    "_ = plt.ylabel('fertility')\n",
    "plt.margins(0.02)\n",
    "plt.show()"
   ]
  },
  {
   "cell_type": "code",
   "execution_count": 32,
   "metadata": {
    "collapsed": true
   },
   "outputs": [],
   "source": [
    "# permutation sampling is a great way to simulate the hypothesis that two variables\n",
    "# have identical probability distributions. This is often a hypothesis you want to test,\n",
    "# so in this exercise, you will write a function to generate a permutation sample from two data sets.\n",
    "\n",
    "# Remember, a permutation sample of two arrays having respectively n1 and n2 entries is\n",
    "# constructed by concatenating the arrays together, scrambling the contents of the concatenated\n",
    "# array, and then taking the first n1 entries as the permutation sample of the first array and\n",
    "# the last n2 entries as the permutation sample of the second array.\n",
    "\n",
    "def permutation_sample(data1, data2):\n",
    "    \"\"\"Generate a permutation sample from two data sets.\"\"\"\n",
    "\n",
    "    # Concatenate the data sets: data\n",
    "    data = np.concatenate((data1, data2))\n",
    "\n",
    "    # Permute the concatenated array: permuted_data\n",
    "    permuted_data = np.random.permutation(data)\n",
    "\n",
    "    # Split the permuted array into two: perm_sample_1, perm_sample_2\n",
    "    perm_sample_1 = permuted_data[:len(data1)]\n",
    "    perm_sample_2 = permuted_data[len(data1):]\n",
    "\n",
    "    return perm_sample_1, perm_sample_2"
   ]
  },
  {
   "cell_type": "code",
   "execution_count": 33,
   "metadata": {
    "collapsed": false
   },
   "outputs": [
    {
     "data": {
      "image/png": "[encoded data removed]",
      "text/plain": [
       "<matplotlib.figure.Figure at 0x1a040599c18>"
      ]
     },
     "metadata": {},
     "output_type": "display_data"
    }
   ],
   "source": [
    "rain_july = array([  66.2,   39.7,   76.4,   26.5,   11.2,   61.8,    6.1,   48.4,\n",
    "         89.2,  104. ,   34. ,   60.6,   57.1,   79.1,   90.9,   32.3,\n",
    "         63.8,   78.2,   27.5,   43.4,   30.1,   17.3,   77.5,   44.9,\n",
    "         92.2,   39.6,   79.4,   66.1,   53.5,   98.5,   20.8,   55.5,\n",
    "         39.6,   56. ,   65.1,   14.8,   13.2,   88.1,    8.4,   32.1,\n",
    "         19.6,   40.4,    2.2,   77.5,  105.4,   77.2,   38. ,   27.1,\n",
    "        111.8,   17.2,   26.7,   23.3,   77.2,   87.2,   27.7,   50.6,\n",
    "         60.3,   15.1,    6. ,   29.4,   39.3,   56.3,   80.4,   85.3,\n",
    "         68.4,   72.5,   13.3,   28.4,   14.7,   37.4,   49.5,   57.2,\n",
    "         85.9,   82.1,   31.8,  126.6,   30.7,   41.4,   33.9,   13.5,\n",
    "         99.1,   70.2,   91.8,   61.3,   13.7,   54.9,   62.5,   24.2,\n",
    "         69.4,   83.1,   44. ,   48.5,   11.9,   16.6,   66.4,   90. ,\n",
    "         34.9,  132.8,   33.4,  225. ,    7.6,   40.9,   76.5,   48. ,\n",
    "        140. ,   55.9,   54.1,   46.4,   68.6,   52.2,  108.3,   14.6,\n",
    "         11.3,   29.8,  130.9,  152.4,   61. ,   46.6,   43.9,   30.9,\n",
    "        111.1,   68.5,   42.2,    9.8,  285.6,   56.7,  168.2,   41.2,\n",
    "         47.8,  166.6,   37.8,   45.4,   43.2])\n",
    "\n",
    "rain_november = array([  83.6,   30.9,   62.2,   37. ,   41. ,  160.2,   18.2,  122.4,\n",
    "         71.3,   44.2,   49.1,   37.6,  114.5,   28.8,   82.5,   71.9,\n",
    "         50.7,   67.7,  112. ,   63.6,   42.8,   57.2,   99.1,   86.4,\n",
    "         84.4,   38.1,   17.7,  102.2,  101.3,   58. ,   82. ,  101.4,\n",
    "         81.4,  100.1,   54.6,   39.6,   57.5,   29.2,   48.8,   37.3,\n",
    "        115.4,   55.6,   62. ,   95. ,   84.2,  118.1,  153.2,   83.4,\n",
    "        104.7,   59. ,   46.4,   50. ,  147.6,   76.8,   59.9,  101.8,\n",
    "        136.6,  173. ,   92.5,   37. ,   59.8,  142.1,    9.9,  158.2,\n",
    "         72.6,   28. ,  112.9,  119.3,  199.2,   50.7,   44. ,  170.7,\n",
    "         67.2,   21.4,   61.3,   15.6,  106. ,  116.2,   42.3,   38.5,\n",
    "        132.5,   40.8,  147.5,   93.9,   71.4,   87.3,  163.7,  141.4,\n",
    "         62.6,   84.9,   28.8,  121.1,   28.6,   32.4,  112. ,   50. ,\n",
    "         96.9,   81.8,   70.4,  117.5,   41.2,  124.9,   78.2,   93. ,\n",
    "         53.5,   50.5,   42.6,   47.9,   73.1,  129.1,   56.9,  103.3,\n",
    "         60.5,  134.3,   93.1,   49.5,   48.2,  167.9,   27. ,  111.1,\n",
    "         55.4,   36.2,   57.4,   66.8,   58.3,   60. ,  161.6,  112.7,\n",
    "         37.4,  110.6,   56.6,   95.8,  126.8])\n",
    "\n",
    "for i in range(50):\n",
    "    # Generate permutation samples\n",
    "    perm_sample_1, perm_sample_2 = permutation_sample(rain_july, rain_november)\n",
    "\n",
    "\n",
    "    # Compute ECDFs\n",
    "    x_1, y_1 = ecdf(perm_sample_1)\n",
    "    x_2, y_2 = ecdf(perm_sample_2)\n",
    "\n",
    "    # Plot ECDFs of permutation sample\n",
    "    _ = plt.plot(x_1, y_1, marker='.', linestyle='none',\n",
    "                 color='red', alpha=0.02)\n",
    "    _ = plt.plot(x_2, y_2, marker='.', linestyle='none',\n",
    "                 color='blue', alpha=0.02)\n",
    "\n",
    "# Create and plot ECDFs from original data\n",
    "x_1, y_1 = ecdf(rain_july)\n",
    "x_2, y_2 = ecdf(rain_november)\n",
    "_ = plt.plot(x_1, y_1, marker='.', linestyle='none', color='red')\n",
    "_ = plt.plot(x_2, y_2, marker='.', linestyle='none', color='blue')\n",
    "\n",
    "# Label axes, set margin, and show plot\n",
    "plt.margins(0.02)\n",
    "_ = plt.xlabel('monthly rainfall (mm)')\n",
    "_ = plt.ylabel('ECDF')\n",
    "plt.show()\n",
    "\n",
    "# Notice that the permutation samples ECDFs overlap and give a purple haze. None of the ECDFs from \n",
    "# the permutation samples overlap with the observed data, suggesting that the hypothesis is not\n",
    "# commensurate with the data. July and November rainfall are not identically distributed.\n"
   ]
  },
  {
   "cell_type": "code",
   "execution_count": 35,
   "metadata": {
    "collapsed": false
   },
   "outputs": [],
   "source": [
    "# The p-value is generally a measure of:\n",
    "\n",
    "# the probability of observing a test statistic equally or more extreme than the one you\n",
    "# observed, assuming the hypothesis you are testing is true.\n",
    "\n",
    "# a permutation replicate is a single value of a statistic computed from a permutation sample.\n",
    "# As the draw_bs_reps() function you wrote in chapter 2 is useful for you to generate bootstrap\n",
    "# replicates, it is useful to have a similar function, draw_perm_reps(), to generate permutation\n",
    "# replicates. You will write this useful function in this exercise.\n",
    "\n",
    "# The function has call signature draw_perm_reps(data_1, data_2, func, size=1). Importantly, func \n",
    "# must be a function that takes two arrays as arguments. In most circumstances, func will be a\n",
    "# function you write yourself.\n",
    "\n",
    "def draw_perm_reps(data_1, data_2, func, size=1):\n",
    "    \"\"\"Generate multiple permutation replicates.\"\"\"\n",
    "\n",
    "    # Initialize array of replicates: perm_replicates\n",
    "    perm_replicates = np.empty(size)\n",
    "\n",
    "    for i in range(size):\n",
    "        # Generate permutation sample\n",
    "        perm_sample_1, perm_sample_2 = permutation_sample(data_1, data_2)\n",
    "\n",
    "        # Compute the test statistic\n",
    "        perm_replicates[i] = func(perm_sample_1, perm_sample_2)\n",
    "\n",
    "    return perm_replicates"
   ]
  },
  {
   "cell_type": "code",
   "execution_count": null,
   "metadata": {
    "collapsed": true
   },
   "outputs": [],
   "source": [
    "# Kleinteich and Gorb (Sci. Rep., 4, 5225, 2014) performed an interesting experiment with\n",
    "# South American horned frogs. They held a plate connected to a force transducer, along with\n",
    "# a bait fly, in front of them. They then measured the impact force and adhesive force of the\n",
    "# frog's tongue when it struck the target.\n",
    "\n",
    "# Frog A is an adult and Frog B is a juvenile. The researchers measured the impact force of 20\n",
    "# strikes for each frog. In the next exercise, we will test the hypothesis that the two frogs\n",
    "# have the same distribution of impact forces. But, remember, it is important to do EDA first!\n",
    "# Let's make a bee swarm plot for the data. They are stored in a Pandas data frame, df, where\n",
    "# column ID is the identity of the frog and column impact_force is the impact force in Newtons (N).\n",
    "\n",
    "'''\n",
    "   ID  impact_force\n",
    "20  A         1.612\n",
    "21  A         0.605\n",
    "22  A         0.327\n",
    "23  A         0.946\n",
    "24  A         0.541\n",
    "25  A         1.539\n",
    "26  A         0.529\n",
    "27  A         0.628\n",
    "28  A         1.453\n",
    "29  A         0.297\n",
    "30  A         0.703\n",
    "31  A         0.269\n",
    "32  A         0.751\n",
    "33  A         0.245\n",
    "34  A         1.182\n",
    "35  A         0.515\n",
    "36  A         0.435\n",
    "37  A         0.383\n",
    "38  A         0.457\n",
    "39  A         0.730\n",
    "60  B         0.172\n",
    "61  B         0.142\n",
    "62  B         0.037\n",
    "63  B         0.453\n",
    "64  B         0.355\n",
    "65  B         0.022\n",
    "66  B         0.502\n",
    "67  B         0.273\n",
    "68  B         0.720\n",
    "69  B         0.582\n",
    "70  B         0.198\n",
    "71  B         0.198\n",
    "72  B         0.597\n",
    "73  B         0.516\n",
    "74  B         0.815\n",
    "75  B         0.402\n",
    "76  B         0.605\n",
    "77  B         0.711\n",
    "78  B         0.614\n",
    "79  B         0.468\n",
    "'''\n",
    "\n",
    "\n",
    "# Make bee swarm plot\n",
    "_ = sns.swarmplot(x = 'ID', y = 'impact_force', data = df)\n",
    "\n",
    "# Label axes\n",
    "_ = plt.xlabel('frog')\n",
    "_ = plt.ylabel('impact force (N)')\n",
    "\n",
    "# Show the plot\n",
    "plt.show()"
   ]
  },
  {
   "cell_type": "code",
   "execution_count": 36,
   "metadata": {
    "collapsed": false
   },
   "outputs": [
    {
     "name": "stdout",
     "output_type": "stream",
     "text": [
      "p-value = 0.0057\n"
     ]
    }
   ],
   "source": [
    "force_a = array([ 1.612,  0.605,  0.327,  0.946,  0.541,  1.539,  0.529,  0.628,\n",
    "        1.453,  0.297,  0.703,  0.269,  0.751,  0.245,  1.182,  0.515,\n",
    "        0.435,  0.383,  0.457,  0.73 ])\n",
    "force_b = array([ 0.172,  0.142,  0.037,  0.453,  0.355,  0.022,  0.502,  0.273,\n",
    "        0.72 ,  0.582,  0.198,  0.198,  0.597,  0.516,  0.815,  0.402,\n",
    "        0.605,  0.711,  0.614,  0.468])\n",
    "\n",
    "def diff_of_means(data_1, data_2):\n",
    "    \"\"\"Difference in means of two arrays.\"\"\"\n",
    "\n",
    "    # The difference of means of data_1, data_2: diff\n",
    "    diff = np.mean(data_1) - np.mean(data_2)\n",
    "\n",
    "    return diff\n",
    "\n",
    "# Compute difference of mean impact force from experiment: empirical_diff_means\n",
    "empirical_diff_means = diff_of_means(force_a, force_b)\n",
    "\n",
    "# Draw 10,000 permutation replicates: perm_replicates\n",
    "perm_replicates = draw_perm_reps(force_a, force_b,\n",
    "                                 diff_of_means, size=10000)\n",
    "\n",
    "# Compute p-value: p\n",
    "p = np.sum(perm_replicates >= empirical_diff_means) / len(perm_replicates)\n",
    "\n",
    "# Print the result\n",
    "print('p-value =', p)\n",
    "\n",
    "# The p-value tells you that there is about a 0.6% chance that you would get the\n",
    "# difference of means observed in the experiment if frogs were exactly the same. A p-value below\n",
    "# 0.01 is typically said to be \"statistically significant,\", but: warning! warning! warning! You have\n",
    "# computed a p-value; it is a number. I encourage you not to distill it to a yes-or-no phrase. p = 0.006 and\n",
    "# p = 0.000000006 are both said to be \"statistically significant,\" but they are definitely not the same!\n"
   ]
  },
  {
   "cell_type": "code",
   "execution_count": 37,
   "metadata": {
    "collapsed": false
   },
   "outputs": [
    {
     "name": "stdout",
     "output_type": "stream",
     "text": [
      "p =  0.0046\n"
     ]
    }
   ],
   "source": [
    "# Another juvenile frog was studied, Frog C, and you want to see if Frog B and Frog C have\n",
    "# similar impact forces. Unfortunately, you do not have Frog C's impact forces available, but\n",
    "# you know they have a mean of 0.55 N. Because you don't have the original data, you cannot do\n",
    "# a permutation test, and you cannot assess the hypothesis that the forces from Frog B and Frog C \n",
    "# come from the same distribution. You will therefore test another, less restrictive hypothesis:\n",
    "# The mean strike force of Frog B is equal to that of Frog C.\n",
    "\n",
    "# To set up the bootstrap hypothesis test, you will take the mean as our test statistic. Remember,\n",
    "# your goal is to calculate the probability of getting a mean impact force less than or equal to\n",
    "# what was observed for Frog B if the hypothesis that the true mean of Frog B's impact forces is equal\n",
    "# to that of Frog C is true. You first translate all of the data of Frog B such that the mean is 0.55 N.\n",
    "# This involves adding the mean force of Frog C and subtracting the mean force of Frog B \n",
    "# from each measurement of Frog B. This leaves other properties of Frog B's distribution, such as \n",
    "# the variance, unchanged.\n",
    "\n",
    "force_b = array([ 0.172,  0.142,  0.037,  0.453,  0.355,  0.022,  0.502,  0.273,\n",
    "        0.72 ,  0.582,  0.198,  0.198,  0.597,  0.516,  0.815,  0.402,\n",
    "        0.605,  0.711,  0.614,  0.468])\n",
    "mean_force_c = 0.55\n",
    "\n",
    "# Make an array of translated impact forces: translated_force_b\n",
    "translated_force_b = force_b - np.mean(force_b) + mean_force_c\n",
    "\n",
    "# Take bootstrap replicates of Frog B's translated impact forces: bs_replicates\n",
    "bs_replicates = draw_bs_reps(translated_force_b, np.mean, 10000)\n",
    "\n",
    "# Compute fraction of replicates that are less than the observed Frog B force: p\n",
    "p = np.sum(bs_replicates <= np.mean(force_b)) / 10000\n",
    "\n",
    "# Print the p-value\n",
    "print('p = ', p)\n",
    "\n",
    "# The low p-value suggests that the null hypothesis that Frog B and Frog C have the same mean impact force is false."
   ]
  },
  {
   "cell_type": "code",
   "execution_count": 38,
   "metadata": {
    "collapsed": false
   },
   "outputs": [
    {
     "name": "stdout",
     "output_type": "stream",
     "text": [
      "p-value = 0.0075\n"
     ]
    }
   ],
   "source": [
    "# we can do two sample tests. We can even test the same hypothesis that we tested with a permutation test:\n",
    "# that the Frog A and Frog B have identically distributed impact forces. To do this test on two arrays with\n",
    "# n1 and n2 entries, we do a very similar procedure as a permutation test. We concatenate the arrays,\n",
    "# generate a bootstrap sample from it, and take the first n1 entries of the bootstrap sample as belonging\n",
    "# to the first data set and the last n2 as belonging to the second. We then compute the test statistic, e.g.,\n",
    "# the difference of means, to get a bootstrap replicate. The p-value is the number of bootstrap replicates for\n",
    "# which the test statistic is less than what was observed.\n",
    "\n",
    "# Now, you will perform a bootstrap test of the hypothesis that Frog A and Frog B have identical distributions\n",
    "# of impact forces using the difference of means test statistic.\n",
    "\n",
    "# The two arrays are available to you as force_a and force_b.\n",
    "\n",
    "# Compute difference of mean impact force from experiment: empirical_diff_means\n",
    "empirical_diff_means = diff_of_means(force_a, force_b)\n",
    "\n",
    "# Concatenate forces: forces_concat\n",
    "forces_concat = np.concatenate((force_a, force_b))\n",
    "\n",
    "# Initialize bootstrap replicates: bs_replicates\n",
    "bs_replicates = np.empty(10000)\n",
    "\n",
    "for i in range(10000):\n",
    "    # Generate bootstrap sample\n",
    "    bs_sample = np.random.choice(forces_concat, size=len(forces_concat))\n",
    "    \n",
    "    # Compute replicate\n",
    "    bs_replicates[i] = diff_of_means(bs_sample[:len(force_a)],\n",
    "                                     bs_sample[len(force_a):])\n",
    "\n",
    "# Compute and print p-value: p\n",
    "p = np.sum(bs_replicates >= empirical_diff_means) / len(bs_replicates)\n",
    "print('p-value =', p)\n",
    "\n",
    "\n",
    "# You may remember that we got p = 0.0063 from the permutation test, and here we got p = 0.0055.\n",
    "# These are very close, and indeed the tests are testing the same thing. However, the permutation\n",
    "# test exactly simulates the null hypothesis that the data come from the same distribution, whereas\n",
    "# the bootstrap test approximately simulates it. As we will see, though, the bootstrap hypothesis test,\n",
    "# while approximate, is more versatile.\n"
   ]
  },
  {
   "cell_type": "code",
   "execution_count": 45,
   "metadata": {
    "collapsed": false
   },
   "outputs": [
    {
     "name": "stdout",
     "output_type": "stream",
     "text": [
      "p-value = 0.0043\n"
     ]
    }
   ],
   "source": [
    "# You performed a one-sample bootstrap hypothesis test, which is impossible to do with permutation.\n",
    "# Testing the hypothesis that two samples have the same distribution may be done with a bootstrap test,\n",
    "# but a permutation test is preferred because it is more accurate (exact, in fact). But therein lies\n",
    "# the limit of a permutation test; it is not very versatile. We now want to test the hypothesis that\n",
    "# Frog A and Frog B have the same mean impact force, but not necessarily the same distribution. This,\n",
    "# too, is impossible with a permutation test.\n",
    "\n",
    "# To do the two-sample bootstrap test, we shift both arrays to have the same mean, since we are\n",
    "# simulating the hypothesis that their means are, in fact, equal. We then draw bootstrap samples \n",
    "# out of the shifted arrays and compute the difference in means. This constitutes a bootstrap replicate,\n",
    "# and we generate many of them. The p-value is the fraction of replicates with a difference in means greater\n",
    "# than or equal to what was observed.\n",
    "\n",
    "# Compute mean of all forces: mean_force\n",
    "mean_force = np.mean(forces_concat)\n",
    "\n",
    "# Generate shifted arrays\n",
    "force_a_shifted = force_a - np.mean(force_a) + mean_force\n",
    "force_b_shifted = force_b - np.mean(force_b) + mean_force \n",
    "\n",
    "# Compute 10,000 bootstrap replicates from shifted arrays\n",
    "bs_replicates_a = draw_bs_reps(force_a_shifted, np.mean, 10000)\n",
    "bs_replicates_b = draw_bs_reps(force_b_shifted, np.mean, 10000)\n",
    "\n",
    "# Get replicates of difference of means: bs_replicates\n",
    "bs_replicates = bs_replicates_a - bs_replicates_b\n",
    "\n",
    "# Compute and print p-value: p\n",
    "p = np.sum(bs_replicates > diff_of_means(force_a, force_b)) / len(bs_replicates)\n",
    "print('p-value =', p)\n",
    "\n"
   ]
  },
  {
   "cell_type": "code",
   "execution_count": 46,
   "metadata": {
    "collapsed": false
   },
   "outputs": [
    {
     "name": "stdout",
     "output_type": "stream",
     "text": [
      "p-value = 0.0001\n"
     ]
    }
   ],
   "source": [
    "# The Civil Rights Act of 1964 was one of the most important pieces of legislation ever\n",
    "# passed in the USA. Excluding \"present\" and \"abstain\" votes, 153 House Democrats and 136 Republicans\n",
    "# voted yay. However, 91 Democrats and 35 Republicans voted nay. Did party affiliation make\n",
    "# a difference in the vote?\n",
    "\n",
    "# To answer this question, you will evaluate the hypothesis that the party of a House member\n",
    "# has no bearing on his or her vote. You will use the fraction of Democrats voting in favor\n",
    "# as your test statistic and evaluate the probability of observing a fraction of Democrats voting\n",
    "# in favor at least as small as the observed fraction of 153/244. (That's right, at least as small as. \n",
    "# In 1964, it was the Democrats who were less progressive on civil rights issues.) To do this, permute\n",
    "# the party labels of the House voters and then arbitrarily divide them into\n",
    "# \"Democrats\" and \"Republicans\" and compute the fraction of Democrats voting yay.\n",
    "\n",
    "# Construct arrays of data: dems, reps\n",
    "dems = np.array([True] * 153 + [False] * 91)\n",
    "reps = np.array([True] * 136 + [False] * 35)\n",
    "\n",
    "def frac_yay_dems(dems, reps):\n",
    "    \"\"\"Compute fraction of Democrat yay votes.\"\"\"\n",
    "    frac = np.sum(dems) / len(dems)\n",
    "    return frac\n",
    "\n",
    "# Acquire permutation samples: perm_replicates\n",
    "perm_replicates = draw_perm_reps(dems, reps, frac_yay_dems, 10000)\n",
    "\n",
    "# Compute and print p-value: p\n",
    "p = np.sum(perm_replicates <= 153/244) / len(perm_replicates)\n",
    "print('p-value =', p)\n",
    "\n",
    "# This small p-value suggests that party identity had a lot to do with the voting.\n",
    "# Importantly, the South had a higher fraction of Democrat representatives, and consequently also a more racist bias."
   ]
  },
  {
   "cell_type": "code",
   "execution_count": null,
   "metadata": {
    "collapsed": true
   },
   "outputs": [],
   "source": [
    "# Pretend you are working for a company that does all kinds of A/B tests on the user experience of its website.\n",
    "# Which of the following situations has an equivalent set up for an A/B test as the one you just did\n",
    "# with the Civil Rights Act of 1964?\n",
    "# You measure the number of people who click on an ad on your company's website before and after changing its color.\n",
    "\n",
    "# Yup! The \"Democrats\" are those who view the ad before the color change, and the \"Republicans\" \n",
    "# are those who view it after.\n"
   ]
  },
  {
   "cell_type": "code",
   "execution_count": 49,
   "metadata": {
    "collapsed": false
   },
   "outputs": [
    {
     "name": "stdout",
     "output_type": "stream",
     "text": [
      "p-val = 0.0001\n"
     ]
    }
   ],
   "source": [
    "# It turns out that you already did a hypothesis test analogous to an A/B test where you are interested\n",
    "# in how much time is spent on the website before and after an ad campaign. The frog tongue force\n",
    "# (a continuous quantity like time on the website) is an analog. \"Before\" = Frog A and \"after\" = Frog B. \n",
    "# Let's practice this again with something that is actually a before/after scenario.\n",
    "\n",
    "# We return to the no-hitter data set. In 1920, Major League Baseball implemented important rule changes\n",
    "# that ended the so-called dead ball era. Importantly, the pitcher was no longer allowed to spit on or\n",
    "# scuff the ball, an activity that greatly favors pitchers. In this problem you will perform an A/B test\n",
    "# to determine if these rule changes resulted in a slower rate of no-hitters (i.e., longer average time\n",
    "# between no-hitters) using the difference in mean inter-no-hitter time as your test statistic.\n",
    "# The inter-no-hitter times for the respective eras are stored in the arrays nht_dead and nht_live,\n",
    "# where \"nht\" is meant to stand for \"no-hitter time.\"\n",
    "\n",
    "# Since you will be using your draw_perm_reps() function in this exercise, it may be useful to remind\n",
    "# yourself of its call signature: draw_perm_reps(d1, d2, func, size=1) or even referring back to the \n",
    "# chapter 3 exercise in which you defined it.\n",
    "\n",
    "\n",
    "\n",
    "nht_dead = array([  -1,  894,   10,  130,    1,  934,   29,    6,  485,  254,  372,\n",
    "         81,  191,  355,  180,  286,   47,  269,  361,  173,  246,  492,\n",
    "        462, 1319,   58,  297,   31, 2970,  640,  237,  434,  570,   77,\n",
    "        271,  563, 3365,   89,    0,  379,  221,  479,  367,  628,  843,\n",
    "       1613, 1101,  215,  684,  814,  278,  324,  161,  219,  545,  715,\n",
    "        966,  624,   29,  450,  107,   20,   91, 1325,  124, 1468,  104,\n",
    "       1309,  429,   62, 1878, 1104,  123,  251,   93,  188,  983,  166,\n",
    "         96,  702,   23,  524,   26,  299,   59,   39,   12,    2,  308,\n",
    "       1114,  813,  887])\n",
    "\n",
    "nht_live = array([ 645, 2088,   42, 2090,   11,  886, 1665, 1084, 2900, 2432,  750,\n",
    "       4021, 1070, 1765, 1322,   26,  548, 1525,   77, 2181, 2752,  127,\n",
    "       2147,  211,   41, 1575,  151,  479,  697,  557, 2267,  542,  392,\n",
    "         73,  603,  233,  255,  528,  397, 1529, 1023, 1194,  462,  583,\n",
    "         37,  943,  996,  480, 1497,  717,  224,  219, 1531,  498,   44,\n",
    "        288,  267,  600,   52,  269, 1086,  386,  176, 2199,  216,   54,\n",
    "        675, 1243,  463,  650,  171,  327,  110,  774,  509,    8,  197,\n",
    "        136,   12, 1124,   64,  380,  811,  232,  192,  731,  715,  226,\n",
    "        605,  539, 1491,  323,  240,  179,  702,  156,   82, 1397,  354,\n",
    "        778,  603, 1001,  385,  986,  203,  149,  576,  445,  180, 1403,\n",
    "        252,  675, 1351, 2983, 1568,   45,  899, 3260, 1025,   31,  100,\n",
    "       2055, 4043,   79,  238, 3931, 2351,  595,  110,  215,    0,  563,\n",
    "        206,  660,  242,  577,  179,  157,  192,  192, 1848,  792, 1693,\n",
    "         55,  388,  225, 1134, 1172, 1555,   31, 1582, 1044,  378, 1687,\n",
    "       2915,  280,  765, 2819,  511, 1521,  745, 2491,  580, 2072, 6450,\n",
    "        578,  745, 1075, 1103, 1549, 1520,  138, 1202,  296,  277,  351,\n",
    "        391,  950,  459,   62, 1056, 1128,  139,  420,   87,   71,  814,\n",
    "        603, 1349,  162, 1027,  783,  326,  101,  876,  381,  905,  156,\n",
    "        419,  239,  119,  129,  467])\n",
    "\n",
    "\n",
    "# Compute the observed difference in mean inter-no-hitter times: nht_diff_obs\n",
    "nht_diff_obs = diff_of_means(nht_dead, nht_live)\n",
    "\n",
    "# Acquire 10,000 permutation replicates of difference in mean no-hitter time: perm_replicates\n",
    "perm_replicates = draw_perm_reps(nht_dead, nht_live, diff_of_means, 10000)\n",
    "\n",
    "\n",
    "# Compute and print the p-value: p\n",
    "p = np.sum(perm_replicates <= nht_diff_obs) / len(perm_replicates)\n",
    "print('p-val =',p)\n",
    "\n",
    "\n",
    "# Your p-value if 0.0001, which means that only one out of your 10,000 replicates had a result\n",
    "# as extreme as the actual difference between the dead ball and live ball eras. This suggests strong\n",
    "# statistical significance. Watch out, though, you could very well have gotten zero replicates that were\n",
    "# as extreme as the observed value. This just means that the p-value is quite small, almost certainly\n",
    "# smaller than 0.001."
   ]
  },
  {
   "cell_type": "code",
   "execution_count": null,
   "metadata": {
    "collapsed": true
   },
   "outputs": [],
   "source": [
    "# The observed correlation between female illiteracy and fertility in the data set of 162 countries may\n",
    "# just be by chance; the fertility of a given country may actually be totally independent of its illiteracy.\n",
    "# You will test this null hypothesis in the next exercise.\n",
    "\n",
    "# To do the test, you need to simulate the data assuming the null hypothesis is true. Of the following choices,\n",
    "# which is the best way to to do it?\n",
    "\n",
    "# Do a permutation test: Permute the illiteracy values but leave the fertility values fixed to generate\n",
    "# a new set of (illiteracy, fertility) data.\n",
    "    \n",
    "# Yes, this exactly simulates the null hypothesis and does so more efficiently than the last option. \n",
    "# It is exact because it uses all data and eliminates any correlation because which illiteracy value pairs\n",
    "# to which fertility value is shuffled.\n"
   ]
  },
  {
   "cell_type": "code",
   "execution_count": 50,
   "metadata": {
    "collapsed": false
   },
   "outputs": [
    {
     "name": "stdout",
     "output_type": "stream",
     "text": [
      "p-val = 0.0\n"
     ]
    }
   ],
   "source": [
    "# The observed correlation between female illiteracy and fertility may just be by chance; the fertility\n",
    "# of a given country may actually be totally independent of its illiteracy. You will test this hypothesis.\n",
    "# To do so, permute the illiteracy values but leave the fertility values fixed. This simulates the hypothesis\n",
    "# that they are totally independent of each other. For each permutation, compute the Pearson correlation\n",
    "# coefficient and assess how many of your permutation replicates have a Pearson correlation coefficient \n",
    "# greater than the observed one.\n",
    "\n",
    "def pearson_r(x, y):\n",
    "    \"\"\"Compute Pearson correlation coefficient between two arrays.\"\"\"\n",
    "    # Compute correlation matrix: corr_mat\n",
    "    corr_mat = np.corrcoef(x,y)\n",
    "\n",
    "    # Return entry [0,1]\n",
    "    return corr_mat[0,1]\n",
    "\n",
    "# Compute observed correlation: r_obs\n",
    "r_obs = pearson_r(illiteracy, fertility)\n",
    "\n",
    "# Initialize permutation replicates: perm_replicates\n",
    "perm_replicates = np.empty(10000)\n",
    "\n",
    "# Draw replicates\n",
    "for i in range(10000):\n",
    "    # Permute illiteracy measurments: illiteracy_permuted\n",
    "    illiteracy_permuted = np.random.permutation(illiteracy)\n",
    "\n",
    "    # Compute Pearson correlation\n",
    "    perm_replicates[i] = pearson_r(illiteracy_permuted, fertility)\n",
    "\n",
    "# Compute p-value: p\n",
    "p = np.sum(perm_replicates > r_obs) / len(perm_replicates)\n",
    "print('p-val =', p)\n",
    "\n",
    "# You got a p-value of zero. In hacker statistics, this means that your p-value is very low,\n",
    "# since you never got a single replicate in the 10,000 you took that had a Pearson correlation\n",
    "# greater than the observed one. You could try increasing the number of replicates you take to\n",
    "# continue to move the upper bound on your p-value lower and lower.\n"
   ]
  },
  {
   "cell_type": "code",
   "execution_count": 51,
   "metadata": {
    "collapsed": false
   },
   "outputs": [
    {
     "data": {
      "image/png": "[encoded data removed]",
      "text/plain": [
       "<matplotlib.figure.Figure at 0x1a03f330eb8>"
      ]
     },
     "metadata": {},
     "output_type": "display_data"
    }
   ],
   "source": [
    "# In a recent study, Straub, et al. (Proc. Roy. Soc. B, 2016) investigated the effects of\n",
    "# neonicotinoids on the sperm of pollenating bees. In this and the next exercise, you will study\n",
    "# how the pesticide treatment affected the count of live sperm per half milliliter of semen.\n",
    "\n",
    "# First, we will do EDA, as usual. Plot ECDFs of the alive sperm count for untreated bees\n",
    "# (stored in the Numpy array control) and bees treated with pesticide (stored in the Numpy array treated).\n",
    "\n",
    "control = array([  4.159234,   4.408002,   0.172812,   3.498278,   3.104912,\n",
    "         5.164174,   6.615262,   4.633066,   0.170408,   2.65    ,\n",
    "         0.0875  ,   1.997148,   6.92668 ,   4.574932,   3.896466,\n",
    "         5.209814,   3.70625 ,   0.      ,   4.62545 ,   3.01444 ,\n",
    "         0.732652,   0.4     ,   6.518382,   5.225   ,   6.218742,\n",
    "         6.840358,   1.211308,   0.368252,   3.59937 ,   4.212158,\n",
    "         6.052364,   2.115532,   6.60413 ,   5.26074 ,   6.05695 ,\n",
    "         6.481172,   3.171522,   3.057228,   0.218808,   5.215112,\n",
    "         4.465168,   2.28909 ,   3.732572,   2.17087 ,   1.834326,\n",
    "         6.074862,   5.841978,   8.524892,   4.698492,   2.965624,\n",
    "         2.324206,   3.409412,   4.830726,   0.1     ,   0.      ,\n",
    "         4.101432,   3.478162,   1.009688,   4.999296,   4.32196 ,\n",
    "         0.299592,   3.606032,   7.54026 ,   4.284024,   0.057494,\n",
    "         6.036668,   2.924084,   4.150144,   1.256926,   4.666502,\n",
    "         4.806594,   2.52478 ,   2.027654,   2.52283 ,   4.735598,\n",
    "         2.033236,   0.      ,   6.177294,   2.601834,   3.544408,\n",
    "         3.6045  ,   5.520346,   4.80698 ,   3.002478,   3.559816,\n",
    "         7.075844,  10.      ,   0.139772,   6.17171 ,   3.201232,\n",
    "         8.459546,   0.17857 ,   7.088276,   5.496662,   5.415086,\n",
    "         1.932282,   3.02838 ,   7.47996 ,   1.86259 ,   7.838498,\n",
    "         2.242718,   3.292958,   6.363644,   4.386898,   8.47533 ,\n",
    "         4.156304,   1.463956,   4.533628,   5.573922,   1.29454 ,\n",
    "         7.547504,   3.92466 ,   5.820258,   4.118522,   4.125   ,\n",
    "         2.286698,   0.591882,   1.273124,   0.      ,   0.      ,\n",
    "         0.      ,  12.22502 ,   7.601604,   5.56798 ,   1.679914,\n",
    "         8.77096 ,   5.823942,   0.258374,   0.      ,   5.899236,\n",
    "         5.486354,   2.053148,   3.25541 ,   2.72564 ,   3.364066,\n",
    "         2.43427 ,   5.282548,   3.963666,   0.24851 ,   0.347916,\n",
    "         4.046862,   5.461436,   4.066104,   0.      ,   0.065   ])\n",
    "\n",
    "treated = array([ 1.342686,  1.058476,  3.793784,  0.40428 ,  4.528388,  2.142966,\n",
    "        3.937742,  0.1375  ,  6.919164,  0.      ,  3.597812,  5.196538,\n",
    "        2.78955 ,  2.3229  ,  1.090636,  5.323916,  1.021618,  0.931836,\n",
    "        2.78    ,  0.412202,  1.180934,  2.8674  ,  0.      ,  0.064354,\n",
    "        3.008348,  0.876634,  0.      ,  4.971712,  7.280658,  4.79732 ,\n",
    "        2.084956,  3.251514,  1.9405  ,  1.566192,  0.58894 ,  5.219658,\n",
    "        0.977976,  3.124584,  1.297564,  1.433328,  4.24337 ,  0.880964,\n",
    "        2.376566,  3.763658,  1.918426,  3.74    ,  3.841726,  4.69964 ,\n",
    "        4.386876,  0.      ,  1.127432,  1.845452,  0.690314,  4.185602,\n",
    "        2.284732,  7.237594,  2.185148,  2.799124,  3.43218 ,  0.63354 ,\n",
    "        1.142496,  0.586   ,  2.372858,  1.80032 ,  3.329306,  4.028804,\n",
    "        3.474156,  7.508752,  2.032824,  1.336556,  1.906496,  1.396046,\n",
    "        2.488104,  4.759114,  1.07853 ,  3.19927 ,  3.814252,  4.275962,\n",
    "        2.817056,  0.552198,  3.27194 ,  5.11525 ,  2.064628,  0.      ,\n",
    "        3.34101 ,  6.177322,  0.      ,  3.66415 ,  2.352582,  1.531696])\n",
    "\n",
    "# Compute x,y values for ECDFs\n",
    "x_control, y_control = ecdf(control)\n",
    "x_treated, y_treated = ecdf(treated)\n",
    "\n",
    "# Plot the ECDFs\n",
    "plt.plot(x_control, y_control, marker='.', linestyle='none')\n",
    "plt.plot(x_treated, y_treated, marker='.', linestyle='none')\n",
    "\n",
    "# Set the margins\n",
    "plt.margins(0.02)\n",
    "\n",
    "# Add a legend\n",
    "plt.legend(('control', 'treated'), loc='lower right')\n",
    "\n",
    "# Label axes and show plot\n",
    "plt.xlabel('millions of alive sperm per mL')\n",
    "plt.ylabel('ECDF')\n",
    "plt.show()\n",
    "\n",
    "# The ECDFs show a pretty clear difference between the treatment and control; treated bees have\n",
    "# fewer alive sperm. Let's now do a hypothesis test in the next exercise."
   ]
  },
  {
   "cell_type": "code",
   "execution_count": 52,
   "metadata": {
    "collapsed": false
   },
   "outputs": [
    {
     "name": "stdout",
     "output_type": "stream",
     "text": [
      "p-value = 0.0\n"
     ]
    }
   ],
   "source": [
    "# Now, you will test the following hypothesis: On average, male bees treated with neonicotinoid\n",
    "# insecticide have the same number of active sperm per milliliter of semen than do untreated\n",
    "# male bees. You will use the difference of means as your test statistic.\n",
    "\n",
    "# Compute the difference in mean sperm count: diff_means\n",
    "diff_means = diff_of_means(control, treated)\n",
    "\n",
    "# Compute mean of pooled data: mean_count\n",
    "mean_count = np.mean(np.concatenate((control, treated)))\n",
    "\n",
    "# Generate shifted data sets\n",
    "control_shifted = control - np.mean(control) + mean_count\n",
    "treated_shifted = treated - np.mean(treated) + mean_count\n",
    "\n",
    "# Generate bootstrap replicates\n",
    "bs_reps_control = draw_bs_reps(control_shifted,\n",
    "                       np.mean, size=10000)\n",
    "bs_reps_treated = draw_bs_reps(treated_shifted,\n",
    "                       np.mean, size=10000)\n",
    "\n",
    "# Get replicates of difference of means: bs_replicates\n",
    "bs_replicates = bs_reps_control - bs_reps_treated\n",
    "\n",
    "# Compute and print p-value: p\n",
    "p = np.sum(bs_replicates >= np.mean(control) - np.mean(treated)) \\\n",
    "            / len(bs_replicates)\n",
    "print('p-value =', p)\n",
    "\n",
    "\n",
    "# The p-value is small, most likely less than 0.0001, since you never saw a bootstrap replicated\n",
    "# with a difference of means at least as extreme as what was observed. In fact, when I did the\n",
    "# calculation with 10 million replicates, I got a p-value of 2e-05."
   ]
  },
  {
   "cell_type": "code",
   "execution_count": null,
   "metadata": {
    "collapsed": true
   },
   "outputs": [],
   "source": [
    "# For your first foray into the Darwin finch data, you will study how the beak depth \n",
    "# (the distance, top to bottom, of a closed beak) of the finch species Geospiza scandens has changed over time.\n",
    "# The Grants have noticed some changes of beak geometry depending on the types of seeds available on\n",
    "# the island, and they also noticed that there was some interbreeding with another major species on \n",
    "# Daphne Major, Geospiza fortis. These effects can lead to changes in the species over time.\n",
    "\n",
    "# In the next few problems, you will look at the beak depth of G. scandens on Daphne Major in 1975 and in 2012.\n",
    "# To start with, let's plot all of the beak depth measurements in 1975 and 2012 in a bee swarm plot\n",
    "\n",
    "'''\n",
    "     beak_depth  year\n",
    "0           8.4  1975\n",
    "1           8.8  1975\n",
    "2           8.4  1975\n",
    "3           8.0  1975\n",
    "4           7.9  1975\n",
    "5           8.9  1975\n",
    "6           8.6  1975\n",
    "7           8.5  1975\n",
    "8           8.9  1975\n",
    "9           9.1  1975\n",
    "10          8.6  1975\n",
    "11          9.8  1975\n",
    "12          8.2  1975\n",
    "13          9.0  1975\n",
    "14          9.7  1975\n",
    "15          8.6  1975\n",
    "16          8.2  1975\n",
    "17          9.0  1975\n",
    "18          8.4  1975\n",
    "19          8.6  1975\n",
    "20          8.9  1975\n",
    "21          9.1  1975\n",
    "22          8.3  1975\n",
    "23          8.7  1975\n",
    "24          9.6  1975\n",
    "25          8.5  1975\n",
    "26          9.1  1975\n",
    "27          9.0  1975\n",
    "28          9.2  1975\n",
    "29          9.9  1975\n",
    "..          ...   ...\n",
    "184         8.4  2012\n",
    "185         8.3  2012\n",
    "186         9.6  2012\n",
    "187         9.4  2012\n",
    "188        10.0  2012\n",
    "189         8.9  2012\n",
    "190         9.1  2012\n",
    "191         9.8  2012\n",
    "192         9.3  2012\n",
    "193         9.9  2012\n",
    "194         8.9  2012\n",
    "195         8.5  2012\n",
    "196        10.6  2012\n",
    "197         9.3  2012\n",
    "198         8.9  2012\n",
    "199         8.9  2012\n",
    "200         9.7  2012\n",
    "201         9.8  2012\n",
    "202        10.5  2012\n",
    "203         8.4  2012\n",
    "204        10.0  2012\n",
    "205         9.0  2012\n",
    "206         8.7  2012\n",
    "207         8.8  2012\n",
    "208         8.4  2012\n",
    "209         9.3  2012\n",
    "210         9.8  2012\n",
    "211         8.9  2012\n",
    "212         9.8  2012\n",
    "213         9.1  2012\n",
    "\n",
    "[214 rows x 2 columns]\n",
    "'''\n",
    "\n",
    "# Create bee swarm plot\n",
    "_ = sns.swarmplot(x = 'year', y = 'beak_depth', data = df)\n",
    "\n",
    "# Label the axes\n",
    "_ = plt.xlabel('year')\n",
    "_ = plt.ylabel('beak depth (mm)')\n",
    "\n",
    "# Show the plot\n",
    "plt.show()\n",
    "\n",
    "\n",
    "# It is kind of hard to see if there is a clear difference between the 1975 and 2012 data set.\n",
    "# Eyeballing it, it appears as though the mean of the 2012 data set might be slightly higher,\n",
    "# and it might have a bigger variance."
   ]
  },
  {
   "cell_type": "code",
   "execution_count": 53,
   "metadata": {
    "collapsed": false
   },
   "outputs": [
    {
     "data": {
      "image/png": "[encoded data removed]",
      "text/plain": [
       "<matplotlib.figure.Figure at 0x1a040411630>"
      ]
     },
     "metadata": {},
     "output_type": "display_data"
    }
   ],
   "source": [
    "bd_1975 = array([  8.4 ,   8.8 ,   8.4 ,   8.  ,   7.9 ,   8.9 ,   8.6 ,   8.5 ,\n",
    "         8.9 ,   9.1 ,   8.6 ,   9.8 ,   8.2 ,   9.  ,   9.7 ,   8.6 ,\n",
    "         8.2 ,   9.  ,   8.4 ,   8.6 ,   8.9 ,   9.1 ,   8.3 ,   8.7 ,\n",
    "         9.6 ,   8.5 ,   9.1 ,   9.  ,   9.2 ,   9.9 ,   8.6 ,   9.2 ,\n",
    "         8.4 ,   8.9 ,   8.5 ,  10.4 ,   9.6 ,   9.1 ,   9.3 ,   9.3 ,\n",
    "         8.8 ,   8.3 ,   8.8 ,   9.1 ,  10.1 ,   8.9 ,   9.2 ,   8.5 ,\n",
    "        10.2 ,  10.1 ,   9.2 ,   9.7 ,   9.1 ,   8.5 ,   8.2 ,   9.  ,\n",
    "         9.3 ,   8.  ,   9.1 ,   8.1 ,   8.3 ,   8.7 ,   8.8 ,   8.6 ,\n",
    "         8.7 ,   8.  ,   8.8 ,   9.  ,   9.1 ,   9.74,   9.1 ,   9.8 ,\n",
    "        10.4 ,   8.3 ,   9.44,   9.04,   9.  ,   9.05,   9.65,   9.45,\n",
    "         8.65,   9.45,   9.45,   9.05,   8.75,   9.45,   8.35])\n",
    "\n",
    "bd_2012 = array([  9.4 ,   8.9 ,   9.5 ,  11.  ,   8.7 ,   8.4 ,   9.1 ,   8.7 ,\n",
    "        10.2 ,   9.6 ,   8.85,   8.8 ,   9.5 ,   9.2 ,   9.  ,   9.8 ,\n",
    "         9.3 ,   9.  ,  10.2 ,   7.7 ,   9.  ,   9.5 ,   9.4 ,   8.  ,\n",
    "         8.9 ,   9.4 ,   9.5 ,   8.  ,  10.  ,   8.95,   8.2 ,   8.8 ,\n",
    "         9.2 ,   9.4 ,   9.5 ,   8.1 ,   9.5 ,   8.4 ,   9.3 ,   9.3 ,\n",
    "         9.6 ,   9.2 ,  10.  ,   8.9 ,  10.5 ,   8.9 ,   8.6 ,   8.8 ,\n",
    "         9.15,   9.5 ,   9.1 ,  10.2 ,   8.4 ,  10.  ,  10.2 ,   9.3 ,\n",
    "        10.8 ,   8.3 ,   7.8 ,   9.8 ,   7.9 ,   8.9 ,   7.7 ,   8.9 ,\n",
    "         9.4 ,   9.4 ,   8.5 ,   8.5 ,   9.6 ,  10.2 ,   8.8 ,   9.5 ,\n",
    "         9.3 ,   9.  ,   9.2 ,   8.7 ,   9.  ,   9.1 ,   8.7 ,   9.4 ,\n",
    "         9.8 ,   8.6 ,  10.6 ,   9.  ,   9.5 ,   8.1 ,   9.3 ,   9.6 ,\n",
    "         8.5 ,   8.2 ,   8.  ,   9.5 ,   9.7 ,   9.9 ,   9.1 ,   9.5 ,\n",
    "         9.8 ,   8.4 ,   8.3 ,   9.6 ,   9.4 ,  10.  ,   8.9 ,   9.1 ,\n",
    "         9.8 ,   9.3 ,   9.9 ,   8.9 ,   8.5 ,  10.6 ,   9.3 ,   8.9 ,\n",
    "         8.9 ,   9.7 ,   9.8 ,  10.5 ,   8.4 ,  10.  ,   9.  ,   8.7 ,\n",
    "         8.8 ,   8.4 ,   9.3 ,   9.8 ,   8.9 ,   9.8 ,   9.1 ])\n",
    "\n",
    "\n",
    "# Compute ECDFs\n",
    "x_1975, y_1975 = ecdf(bd_1975)\n",
    "x_2012, y_2012 = ecdf(bd_2012)\n",
    "\n",
    "# Plot the ECDFs\n",
    "_ = plt.plot(x_1975, y_1975, marker='.', linestyle='none')\n",
    "_ = plt.plot(x_2012, y_2012, marker='.', linestyle='none')\n",
    "\n",
    "# Set margins\n",
    "plt.margins(0.02)\n",
    "\n",
    "# Add axis labels and legend\n",
    "_ = plt.xlabel('beak depth (mm)')\n",
    "_ = plt.ylabel('ECDF')\n",
    "_ = plt.legend(('1975', '2012'), loc='lower right')\n",
    "\n",
    "# Show the plot\n",
    "plt.show()\n",
    "\n",
    "# The differences are much clearer in the ECDF. The mean is larger in the 2012 data, and\n",
    "# the variance does appear larger as well."
   ]
  },
  {
   "cell_type": "code",
   "execution_count": 55,
   "metadata": {
    "collapsed": false
   },
   "outputs": [
    {
     "name": "stdout",
     "output_type": "stream",
     "text": [
      "difference of means = 0.226220472441 mm\n",
      "95% confidence interval = [ 0.05810347  0.39074418] mm\n"
     ]
    }
   ],
   "source": [
    "# Estimate the difference of the mean beak depth of the G. scandens samples from 1975 and 2012\n",
    "# and report a 95% confidence interval.\n",
    "\n",
    "# Compute the difference of the sample means: mean_diff\n",
    "mean_diff = diff_of_means(bd_2012, bd_1975)\n",
    "\n",
    "# Get bootstrap replicates of means\n",
    "bs_replicates_1975 = draw_bs_reps(bd_1975, np.mean, 10000)\n",
    "bs_replicates_2012 = draw_bs_reps(bd_2012, np.mean, 10000)\n",
    "\n",
    "# Compute samples of difference of means: bs_diff_replicates\n",
    "bs_diff_replicates = bs_replicates_2012 - bs_replicates_1975\n",
    "\n",
    "# Compute 95% confidence interval: conf_int\n",
    "conf_int = np.percentile(bs_diff_replicates,[2.5, 97.5])\n",
    "\n",
    "# Print the results\n",
    "print('difference of means =', mean_diff, 'mm')\n",
    "print('95% confidence interval =', conf_int, 'mm')"
   ]
  },
  {
   "cell_type": "code",
   "execution_count": null,
   "metadata": {
    "collapsed": true
   },
   "outputs": [],
   "source": [
    "# Your plot of the ECDF and determination of the confidence interval make it pretty clear that the beaks\n",
    "# of G. scandens on Daphne Major have gotten deeper. But is it possible that this effect is just due\n",
    "# to random chance? In other words, what is the probability that we would get the observed difference\n",
    "# in mean beak depth if the means were the same?\n",
    "\n",
    "# Be careful! The hypothesis we are testing is not that the beak depths come from the same distribution.\n",
    "# For that we could use a permutation test. The hypothesis is that the means are equal. To perform this\n",
    "# hypothesis test, we need to shift the two data sets so that they have the same mean and then use bootstrap\n",
    "# sampling to compute the difference of means.\n",
    "\n",
    "# Compute mean of combined data set: combined_mean\n",
    "combined_mean = np.mean(np.concatenate((bd_1975, bd_2012)))\n",
    "\n",
    "# Shift the samples\n",
    "bd_1975_shifted = bd_1975 - np.mean(bd_1975) + combined_mean\n",
    "bd_2012_shifted = bd_2012 - np.mean(bd_2012) + combined_mean\n",
    "\n",
    "# Get bootstrap replicates of shifted data sets\n",
    "bs_replicates_1975 = draw_bs_reps(bd_1975_shifted, np.mean, 10000)\n",
    "bs_replicates_2012 = draw_bs_reps(bd_2012_shifted, np.mean, 10000)\n",
    "\n",
    "# Compute replicates of difference of means: bs_diff_replicates\n",
    "bs_diff_replicates = bs_replicates_2012 - bs_replicates_1975\n",
    "\n",
    "# Compute the p-value\n",
    "p = np.sum(bs_diff_replicates >= mean_diff) / len(bs_diff_replicates)\n",
    "\n",
    "# Print p-value\n",
    "print('p =', p)\n",
    "\n",
    "# We get a p-value of 0.0034, which suggests that there is a statistically significant difference.\n",
    "# But remember: it is very important to know how different they are! In the previous exercise, you\n",
    "# got a difference of 0.2 mm between the means. You should combine this with the statistical significance.\n",
    "# Changing by 0.2 mm in 37 years is substantial by evolutionary standards. If it kept changing at\n",
    "# that rate, the beak depth would double in only 400 years."
   ]
  },
  {
   "cell_type": "code",
   "execution_count": 58,
   "metadata": {
    "collapsed": false
   },
   "outputs": [
    {
     "data": {
      "image/png": "[encoded data removed]",
      "text/plain": [
       "<matplotlib.figure.Figure at 0x1a040a075f8>"
      ]
     },
     "metadata": {},
     "output_type": "display_data"
    }
   ],
   "source": [
    "bl_1975 = array([ 13.9 ,  14.  ,  12.9 ,  13.5 ,  12.9 ,  14.6 ,  13.  ,  14.2 ,\n",
    "        14.  ,  14.2 ,  13.1 ,  15.1 ,  13.5 ,  14.4 ,  14.9 ,  12.9 ,\n",
    "        13.  ,  14.9 ,  14.  ,  13.8 ,  13.  ,  14.75,  13.7 ,  13.8 ,\n",
    "        14.  ,  14.6 ,  15.2 ,  13.5 ,  15.1 ,  15.  ,  12.8 ,  14.9 ,\n",
    "        15.3 ,  13.4 ,  14.2 ,  15.1 ,  15.1 ,  14.  ,  13.6 ,  14.  ,\n",
    "        14.  ,  13.9 ,  14.  ,  14.9 ,  15.6 ,  13.8 ,  14.4 ,  12.8 ,\n",
    "        14.2 ,  13.4 ,  14.  ,  14.8 ,  14.2 ,  13.5 ,  13.4 ,  14.6 ,\n",
    "        13.5 ,  13.7 ,  13.9 ,  13.1 ,  13.4 ,  13.8 ,  13.6 ,  14.  ,\n",
    "        13.5 ,  12.8 ,  14.  ,  13.4 ,  14.9 ,  15.54,  14.63,  14.73,\n",
    "        15.73,  14.83,  15.94,  15.14,  14.23,  14.15,  14.35,  14.95,\n",
    "        13.95,  14.05,  14.55,  14.05,  14.45,  15.05,  13.25])\n",
    "\n",
    "bl_2012 = array([ 14.3 ,  12.5 ,  13.7 ,  13.8 ,  12.  ,  13.  ,  13.  ,  13.6 ,\n",
    "        12.8 ,  13.6 ,  12.95,  13.1 ,  13.4 ,  13.9 ,  12.3 ,  14.  ,\n",
    "        12.5 ,  12.3 ,  13.9 ,  13.1 ,  12.5 ,  13.9 ,  13.7 ,  12.  ,\n",
    "        14.4 ,  13.5 ,  13.8 ,  13.  ,  14.9 ,  12.5 ,  12.3 ,  12.8 ,\n",
    "        13.4 ,  13.8 ,  13.5 ,  13.5 ,  13.4 ,  12.3 ,  14.35,  13.2 ,\n",
    "        13.8 ,  14.6 ,  14.3 ,  13.8 ,  13.6 ,  12.9 ,  13.  ,  13.5 ,\n",
    "        13.2 ,  13.7 ,  13.1 ,  13.2 ,  12.6 ,  13.  ,  13.9 ,  13.2 ,\n",
    "        15.  ,  13.37,  11.4 ,  13.8 ,  13.  ,  13.  ,  13.1 ,  12.8 ,\n",
    "        13.3 ,  13.5 ,  12.4 ,  13.1 ,  14.  ,  13.5 ,  11.8 ,  13.7 ,\n",
    "        13.2 ,  12.2 ,  13.  ,  13.1 ,  14.7 ,  13.7 ,  13.5 ,  13.3 ,\n",
    "        14.1 ,  12.5 ,  13.7 ,  14.6 ,  14.1 ,  12.9 ,  13.9 ,  13.4 ,\n",
    "        13.  ,  12.7 ,  12.1 ,  14.  ,  14.9 ,  13.9 ,  12.9 ,  14.6 ,\n",
    "        14.  ,  13.  ,  12.7 ,  14.  ,  14.1 ,  14.1 ,  13.  ,  13.5 ,\n",
    "        13.4 ,  13.9 ,  13.1 ,  12.9 ,  14.  ,  14.  ,  14.1 ,  14.7 ,\n",
    "        13.4 ,  13.8 ,  13.4 ,  13.8 ,  12.4 ,  14.1 ,  12.9 ,  13.9 ,\n",
    "        14.3 ,  13.2 ,  14.2 ,  13.  ,  14.6 ,  13.1 ,  15.2 ])\n",
    "\n",
    "\n",
    "# Make scatter plot of 1975 data\n",
    "_ = plt.plot(bl_1975, bd_1975, marker='.',\n",
    "             linestyle='none', alpha = 0.5, color = 'blue')\n",
    "\n",
    "# Make scatter plot of 2012 data\n",
    "_ = plt.plot(bl_2012, bd_2012, marker='.',\n",
    "             linestyle='none', alpha = 0.5, color = 'red')\n",
    "\n",
    "# Label axes and make legend\n",
    "_ = plt.xlabel('beak length (mm)')\n",
    "_ = plt.ylabel('beak depth (mm)')\n",
    "_ = plt.legend(('1975', '2012'), loc='upper left')\n",
    "\n",
    "plt.show()\n",
    "\n",
    "# we see that beaks got deeper (the red points are higher up in the y-direction), but not really longer.\n",
    "# If anything, they got a bit shorter, since the red dots are to the left of the blue dots. So, it\n",
    "# does not look like the beaks kept the same shape; they became shorter and deeper."
   ]
  },
  {
   "cell_type": "code",
   "execution_count": 59,
   "metadata": {
    "collapsed": false
   },
   "outputs": [
    {
     "name": "stdout",
     "output_type": "stream",
     "text": [
      "1975: slope = 0.465205169161 conf int = [ 0.33061645  0.5926128 ]\n",
      "1975: intercept = 2.39087523658 conf int = [ 0.6229358   4.26869715]\n",
      "2012: slope = 0.462630358835 conf int = [ 0.34055207  0.59745699]\n",
      "2012: intercept = 2.97724749824 conf int = [ 1.184239    4.59461779]\n"
     ]
    }
   ],
   "source": [
    "# Compute the linear regressions\n",
    "slope_1975, intercept_1975 = np.polyfit(bl_1975, bd_1975, 1)\n",
    "slope_2012, intercept_2012 = np.polyfit(bl_2012, bd_2012, 1)\n",
    "\n",
    "# Perform pairs bootstrap for the linear regressions\n",
    "bs_slope_reps_1975, bs_intercept_reps_1975 = \\\n",
    "        draw_bs_pairs_linreg(bl_1975, bd_1975, 1000)\n",
    "bs_slope_reps_2012, bs_intercept_reps_2012 = \\\n",
    "        draw_bs_pairs_linreg(bl_2012, bd_2012, 1000)\n",
    "\n",
    "# Compute confidence intervals of slopes\n",
    "slope_conf_int_1975 = np.percentile(bs_slope_reps_1975, [2.5, 97.5])\n",
    "slope_conf_int_2012 = np.percentile(bs_slope_reps_2012, [2.5, 97.5])\n",
    "intercept_conf_int_1975 = np.percentile(bs_intercept_reps_1975, [2.5, 97.5])\n",
    "\n",
    "intercept_conf_int_2012 = np.percentile(bs_intercept_reps_2012, [2.5, 97.5])\n",
    "\n",
    "\n",
    "# Print the results\n",
    "print('1975: slope =', slope_1975,\n",
    "      'conf int =', slope_conf_int_1975)\n",
    "print('1975: intercept =', intercept_1975,\n",
    "      'conf int =', intercept_conf_int_1975)\n",
    "print('2012: slope =', slope_2012,\n",
    "      'conf int =', slope_conf_int_2012)\n",
    "print('2012: intercept =', intercept_2012,\n",
    "      'conf int =', intercept_conf_int_2012)"
   ]
  },
  {
   "cell_type": "code",
   "execution_count": 60,
   "metadata": {
    "collapsed": false
   },
   "outputs": [
    {
     "data": {
      "image/png": "[encoded data removed]",
      "text/plain": [
       "<matplotlib.figure.Figure at 0x1a040599400>"
      ]
     },
     "metadata": {},
     "output_type": "display_data"
    }
   ],
   "source": [
    "# Make scatter plot of 1975 data\n",
    "_ = plt.plot(bl_1975, bd_1975, marker='.',\n",
    "             linestyle='none', color='blue', alpha=0.5)\n",
    "\n",
    "# Make scatter plot of 2012 data\n",
    "_ = plt.plot(bl_2012, bd_2012, marker='.',\n",
    "             linestyle='none', color='red', alpha=0.5)\n",
    "\n",
    "# Label axes and make legend\n",
    "_ = plt.xlabel('beak length (mm)')\n",
    "_ = plt.ylabel('beak depth (mm)')\n",
    "_ = plt.legend(('1975', '2012'), loc='upper left')\n",
    "\n",
    "# Generate x-values for bootstrap lines: x\n",
    "x = np.array([10, 17])\n",
    "\n",
    "# Plot the bootstrap lines\n",
    "for i in range(100):\n",
    "    plt.plot(x, bs_slope_reps_1975[i] * x + bs_intercept_reps_1975[i],\n",
    "             linewidth=0.5, alpha=0.2, color= 'blue')\n",
    "    plt.plot(x, bs_slope_reps_2012[i] * x + bs_intercept_reps_2012[i],\n",
    "             linewidth=0.5, alpha=0.2, color= 'red')\n",
    "\n",
    "# Draw the plot again\n",
    "plt.show()"
   ]
  },
  {
   "cell_type": "code",
   "execution_count": 61,
   "metadata": {
    "collapsed": false
   },
   "outputs": [
    {
     "name": "stdout",
     "output_type": "stream",
     "text": [
      "1975: mean ratio = 1.57888237719 conf int = [ 1.55707705  1.60078552]\n",
      "2012: mean ratio = 1.46583422768 conf int = [ 1.44432799  1.48745065]\n"
     ]
    }
   ],
   "source": [
    "# The linear regressions showed interesting information about the beak geometry. The slope was the\n",
    "# same in 1975 and 2012, suggesting that for every millimeter gained in beak length, the birds gained\n",
    "# about half a millimeter in depth in both years. However, if we are interested in the shape of the beak,\n",
    "# we want to compare the ratio of beak length to beak depth. Let's make that comparison.\n",
    "\n",
    "# Compute length-to-depth ratios\n",
    "ratio_1975 = bl_1975 / bd_1975\n",
    "ratio_2012 = bl_2012 / bd_2012\n",
    "\n",
    "# Compute means\n",
    "mean_ratio_1975 = np.mean(ratio_1975)\n",
    "mean_ratio_2012 = np.mean(ratio_2012)\n",
    "\n",
    "# Generate bootstrap replicates of the means\n",
    "bs_replicates_1975 = draw_bs_reps(ratio_1975, np.mean, 10000)\n",
    "bs_replicates_2012 = draw_bs_reps(ratio_2012, np.mean, 10000)\n",
    "\n",
    "# Compute the 99% confidence intervals\n",
    "conf_int_1975 = np.percentile(bs_replicates_1975, [0.5, 99.5])\n",
    "conf_int_2012 = np.percentile(bs_replicates_2012, [0.5, 99.5])\n",
    "\n",
    "# Print the results\n",
    "print('1975: mean ratio =', mean_ratio_1975,\n",
    "      'conf int =', conf_int_1975)\n",
    "print('2012: mean ratio =', mean_ratio_2012,\n",
    "      'conf int =', conf_int_2012)"
   ]
  },
  {
   "cell_type": "code",
   "execution_count": 63,
   "metadata": {
    "collapsed": false
   },
   "outputs": [
    {
     "data": {
      "image/png": "[encoded data removed]",
      "text/plain": [
       "<matplotlib.figure.Figure at 0x1a040a51a90>"
      ]
     },
     "metadata": {},
     "output_type": "display_data"
    }
   ],
   "source": [
    "# The array bd_parent_scandens contains the average beak depth (in mm) of two parents of the\n",
    "# species G. scandens. The array bd_offspring_scandens contains the average beak depth of the \n",
    "# offspring of the respective parents. The arrays bd_parent_fortis and bd_offspring_fortis contain \n",
    "# the same information about measurements from G. fortis birds.\n",
    "\n",
    "bd_parent_fortis = array([ 10.1  ,   9.55 ,   9.4  ,  10.25 ,  10.125,   9.7  ,   9.05 ,\n",
    "         7.4  ,   9.   ,   8.65 ,   9.625,   9.9  ,   9.55 ,   9.05 ,\n",
    "         8.35 ,  10.1  ,  10.1  ,   9.9  ,  10.225,  10.   ,  10.55 ,\n",
    "        10.45 ,   9.2  ,  10.2  ,   8.95 ,  10.05 ,  10.2  ,   9.5  ,\n",
    "         9.925,   9.95 ,  10.05 ,   8.75 ,   9.2  ,  10.15 ,   9.8  ,\n",
    "        10.7  ,  10.5  ,   9.55 ,  10.55 ,  10.475,   8.65 ,  10.7  ,\n",
    "         9.1  ,   9.4  ,  10.3  ,   9.65 ,   9.5  ,   9.7  ,  10.525,\n",
    "         9.95 ,  10.1  ,   9.75 ,  10.05 ,   9.9  ,  10.   ,   9.1  ,\n",
    "         9.45 ,   9.25 ,   9.5  ,  10.   ,  10.525,   9.9  ,  10.4  ,\n",
    "         8.95 ,   9.4  ,  10.95 ,  10.75 ,  10.1  ,   8.05 ,   9.1  ,\n",
    "         9.55 ,   9.05 ,  10.2  ,  10.   ,  10.55 ,  10.75 ,   8.175,\n",
    "         9.7  ,   8.8  ,  10.75 ,   9.3  ,   9.7  ,   9.6  ,   9.75 ,\n",
    "         9.6  ,  10.45 ,  11.   ,  10.85 ,  10.15 ,  10.35 ,  10.4  ,\n",
    "         9.95 ,   9.1  ,  10.1  ,   9.85 ,   9.625,   9.475,   9.   ,\n",
    "         9.25 ,   9.1  ,   9.25 ,   9.2  ,   9.95 ,   8.65 ,   9.8  ,\n",
    "         9.4  ,   9.   ,   8.55 ,   8.75 ,   9.65 ,   8.95 ,   9.15 ,\n",
    "         9.85 ,  10.225,   9.825,  10.   ,   9.425,  10.4  ,   9.875,\n",
    "         8.95 ,   8.9  ,   9.35 ,  10.425,  10.   ,  10.175,   9.875,\n",
    "         9.875,   9.15 ,   9.45 ,   9.025,   9.7  ,   9.7  ,  10.05 ,\n",
    "        10.3  ,   9.6  ,  10.   ,   9.8  ,  10.05 ,   8.75 ,  10.55 ,\n",
    "         9.7  ,  10.   ,   9.85 ,   9.8  ,   9.175,   9.65 ,   9.55 ,\n",
    "         9.9  ,  11.55 ,  11.3  ,  10.4  ,  10.8  ,   9.8  ,  10.45 ,\n",
    "        10.   ,  10.75 ,   9.35 ,  10.75 ,   9.175,   9.65 ,   8.8  ,\n",
    "        10.55 ,  10.675,   9.95 ,   9.55 ,   8.825,   9.7  ,   9.85 ,\n",
    "         9.8  ,   9.55 ,   9.275,  10.325,   9.15 ,   9.35 ,   9.15 ,\n",
    "         9.65 ,  10.575,   9.975,   9.55 ,   9.2  ,   9.925,   9.2  ,\n",
    "         9.3  ,   8.775,   9.325,   9.175,   9.325,   8.975,   9.7  ,\n",
    "         9.5  ,  10.225,  10.025,   8.2  ,   8.2  ,   9.55 ,   9.05 ,\n",
    "         9.6  ,   9.6  ,  10.15 ,   9.875,  10.485,  11.485,  10.985,\n",
    "         9.7  ,   9.65 ,   9.35 ,  10.05 ,  10.1  ,   9.9  ,   8.95 ,\n",
    "         9.3  ,   9.95 ,   9.45 ,   9.5  ,   8.45 ,   8.8  ,   8.525,\n",
    "         9.375,  10.2  ,   7.625,   8.375,   9.25 ,   9.4  ,  10.55 ,\n",
    "         8.9  ,   8.8  ,   9.   ,   8.575,   8.575,   9.6  ,   9.375,\n",
    "         9.6  ,   9.95 ,   9.6  ,  10.2  ,   9.85 ,   9.625,   9.025,\n",
    "        10.375,  10.25 ,   9.3  ,   9.5  ,   9.55 ,   8.55 ,   9.05 ,\n",
    "         9.9  ,   9.8  ,   9.75 ,  10.25 ,   9.1  ,   9.65 ,  10.3  ,\n",
    "         8.9  ,   9.95 ,   9.5  ,   9.775,   9.425,   7.75 ,   7.55 ,\n",
    "         9.1  ,   9.6  ,   9.575,   8.95 ,   9.65 ,   9.65 ,   9.65 ,\n",
    "         9.525,   9.85 ,   9.05 ,   9.3  ,   8.9  ,   9.45 ,  10.   ,\n",
    "         9.85 ,   9.25 ,  10.1  ,   9.125,   9.65 ,   9.1  ,   8.05 ,\n",
    "         7.4  ,   8.85 ,   9.075,   9.   ,   9.7  ,   8.7  ,   9.45 ,\n",
    "         9.7  ,   8.35 ,   8.85 ,   9.7  ,   9.45 ,  10.3  ,  10.   ,\n",
    "        10.45 ,   9.45 ,   8.5  ,   8.3  ,  10.   ,   9.225,   9.75 ,\n",
    "         9.15 ,   9.55 ,   9.   ,   9.275,   9.35 ,   8.95 ,   9.875,\n",
    "         8.45 ,   8.6  ,   9.7  ,   8.55 ,   9.05 ,   9.6  ,   8.65 ,\n",
    "         9.2  ,   8.95 ,   9.6  ,   9.15 ,   9.4  ,   8.95 ,   9.95 ,\n",
    "        10.55 ,   9.7  ,   8.85 ,   8.8  ,  10.   ,   9.05 ,   8.2  ,\n",
    "         8.1  ,   7.25 ,   8.3  ,   9.15 ,   8.6  ,   9.5  ,   8.05 ,\n",
    "         9.425,   9.3  ,   9.8  ,   9.3  ,   9.85 ,   9.5  ,   8.65 ,\n",
    "         9.825,   9.   ,  10.45 ,   9.1  ,   9.55 ,   9.05 ,  10.   ,\n",
    "         9.35 ,   8.375,   8.3  ,   8.8  ,  10.1  ,   9.5  ,   9.75 ,\n",
    "        10.1  ,   9.575,   9.425,   9.65 ,   8.725,   9.025,   8.5  ,\n",
    "         8.95 ,   9.3  ,   8.85 ,   8.95 ,   9.8  ,   9.5  ,   8.65 ,\n",
    "         9.1  ,   9.4  ,   8.475,   9.35 ,   7.95 ,   9.35 ,   8.575,\n",
    "         9.05 ,   8.175,   9.85 ,   7.85 ,   9.85 ,  10.1  ,   9.35 ,\n",
    "         8.85 ,   8.75 ,   9.625,   9.25 ,   9.55 ,  10.325,   8.55 ,\n",
    "         9.675,   9.15 ,   9.   ,   9.65 ,   8.6  ,   8.8  ,   9.   ,\n",
    "         9.95 ,   8.4  ,   9.35 ,  10.3  ,   9.05 ,   9.975,   9.975,\n",
    "         8.65 ,   8.725,   8.2  ,   7.85 ,   8.775,   8.5  ,   9.4  ])\n",
    "\n",
    "bd_offspring_fortis = array([ 10.7 ,   9.78,   9.48,   9.6 ,  10.27,   9.5 ,   9.  ,   7.46,\n",
    "         7.65,   8.63,   9.81,   9.4 ,   9.48,   8.75,   7.6 ,  10.  ,\n",
    "        10.09,   9.74,   9.64,   8.49,  10.15,  10.28,   9.2 ,  10.01,\n",
    "         9.03,   9.94,  10.5 ,   9.7 ,  10.02,  10.04,   9.43,   8.1 ,\n",
    "         9.5 ,   9.9 ,   9.48,  10.18,  10.16,   9.08,  10.39,   9.9 ,\n",
    "         8.4 ,  10.6 ,   8.75,   9.46,   9.6 ,   9.6 ,   9.95,  10.05,\n",
    "        10.16,  10.1 ,   9.83,   9.46,   9.7 ,   9.82,  10.34,   8.02,\n",
    "         9.65,   9.87,   9.  ,  11.14,   9.25,   8.14,  10.23,   8.7 ,\n",
    "         9.8 ,  10.54,  11.19,   9.85,   8.1 ,   9.3 ,   9.34,   9.19,\n",
    "         9.52,   9.36,   8.8 ,   8.6 ,   8.  ,   8.5 ,   8.3 ,  10.38,\n",
    "         8.54,   8.94,  10.  ,   9.76,   9.45,   9.89,  10.9 ,   9.91,\n",
    "         9.39,   9.86,   9.74,   9.9 ,   9.09,   9.69,  10.24,   8.9 ,\n",
    "         9.67,   8.93,   9.3 ,   8.67,   9.15,   9.23,   9.59,   9.03,\n",
    "         9.58,   8.97,   8.57,   8.47,   8.71,   9.21,   9.13,   8.5 ,\n",
    "         9.58,   9.21,   9.6 ,   9.32,   8.7 ,  10.46,   9.29,   9.24,\n",
    "         9.45,   9.35,  10.19,   9.91,   9.18,   9.89,   9.6 ,  10.3 ,\n",
    "         9.45,   8.79,   9.2 ,   8.8 ,   9.69,  10.61,   9.6 ,   9.9 ,\n",
    "         9.26,  10.2 ,   8.79,   9.28,   8.83,   9.76,  10.2 ,   9.43,\n",
    "         9.4 ,   9.9 ,   9.5 ,   8.95,   9.98,   9.72,   9.86,  11.1 ,\n",
    "         9.14,  10.49,   9.75,  10.35,   9.73,   9.83,   8.69,   9.58,\n",
    "         8.42,   9.25,  10.12,   9.31,   9.99,   8.59,   8.74,   8.79,\n",
    "         9.6 ,   9.52,   8.93,  10.23,   9.35,   9.35,   9.09,   9.04,\n",
    "         9.75,  10.5 ,   9.09,   9.05,   9.54,   9.3 ,   9.06,   8.7 ,\n",
    "         9.32,   8.4 ,   8.67,   8.6 ,   9.53,   9.77,   9.65,   9.43,\n",
    "         8.35,   8.26,   9.5 ,   8.6 ,   9.57,   9.14,  10.79,   8.91,\n",
    "         9.93,  10.7 ,   9.3 ,   9.93,   9.51,   9.44,  10.05,  10.13,\n",
    "         9.24,   8.21,   8.9 ,   9.34,   8.77,   9.4 ,   8.82,   8.83,\n",
    "         8.6 ,   9.5 ,  10.2 ,   8.09,   9.07,   9.29,   9.1 ,  10.19,\n",
    "         9.25,   8.98,   9.02,   8.6 ,   8.25,   8.7 ,   9.9 ,   9.65,\n",
    "         9.45,   9.38,  10.4 ,   9.96,   9.46,   8.26,  10.05,   8.92,\n",
    "         9.5 ,   9.43,   8.97,   8.44,   8.92,  10.3 ,   8.4 ,   9.37,\n",
    "         9.91,  10.  ,   9.21,   9.95,   8.84,   9.82,   9.5 ,  10.29,\n",
    "         8.4 ,   8.31,   9.29,   8.86,   9.4 ,   9.62,   8.62,   8.3 ,\n",
    "         9.8 ,   8.48,   9.61,   9.5 ,   9.37,   8.74,   9.31,   9.5 ,\n",
    "         9.49,   9.74,   9.2 ,   9.24,   9.7 ,   9.64,   9.2 ,   7.5 ,\n",
    "         7.5 ,   8.7 ,   8.31,   9.  ,   9.74,   9.31,  10.5 ,   9.3 ,\n",
    "         8.12,   9.34,   9.72,   9.  ,   9.65,   9.9 ,  10.  ,  10.1 ,\n",
    "         8.  ,   9.07,   9.75,   9.33,   8.11,   9.36,   9.74,   9.9 ,\n",
    "         9.23,   9.7 ,   8.2 ,   9.35,   9.49,   9.34,   8.87,   9.03,\n",
    "         9.07,   9.43,   8.2 ,   9.19,   9.  ,   9.2 ,   9.06,   9.81,\n",
    "         8.89,   9.4 ,  10.45,   9.64,   9.03,   8.71,   9.91,   8.33,\n",
    "         8.2 ,   7.83,   7.14,   8.91,   9.18,   8.8 ,   9.9 ,   7.73,\n",
    "         9.25,   8.7 ,   9.5 ,   9.3 ,   9.05,  10.18,   8.85,   9.24,\n",
    "         9.15,   9.98,   8.77,   9.8 ,   8.65,  10.  ,   8.81,   8.01,\n",
    "         7.9 ,   9.41,  10.18,   9.55,   9.08,   8.4 ,   9.75,   8.9 ,\n",
    "         9.07,   9.35,   8.9 ,   8.19,   8.65,   9.19,   8.9 ,   9.28,\n",
    "        10.58,   9.  ,   9.4 ,   8.91,   9.93,  10.  ,   9.37,   7.4 ,\n",
    "         9.  ,   8.8 ,   9.18,   8.3 ,  10.08,   7.9 ,   9.96,  10.4 ,\n",
    "         9.65,   8.8 ,   8.65,   9.7 ,   9.23,   9.43,   9.93,   8.47,\n",
    "         9.55,   9.28,   8.85,   8.9 ,   8.75,   8.63,   9.  ,   9.43,\n",
    "         8.28,   9.23,  10.4 ,   9.  ,   9.8 ,   9.77,   8.97,   8.37,\n",
    "         7.7 ,   7.9 ,   9.5 ,   8.2 ,   8.8 ])\n",
    "\n",
    "\n",
    "bd_parent_scandens = array([  8.3318,   8.4035,   8.5317,   8.7202,   8.7089,   8.7541,\n",
    "         8.773 ,   8.8107,   8.7919,   8.8069,   8.6523,   8.6146,\n",
    "         8.6938,   8.7127,   8.7466,   8.7504,   8.7805,   8.7428,\n",
    "         8.7164,   8.8032,   8.8258,   8.856 ,   8.9012,   8.9125,\n",
    "         8.8635,   8.8258,   8.8522,   8.8974,   8.9427,   8.9879,\n",
    "         8.9615,   8.9238,   8.9351,   9.0143,   9.0558,   9.0596,\n",
    "         8.9917,   8.905 ,   8.9314,   8.9465,   8.9879,   8.9804,\n",
    "         9.0219,   9.052 ,   9.0407,   9.0407,   8.9955,   8.9992,\n",
    "         8.9992,   9.0747,   9.0747,   9.5385,   9.4781,   9.4517,\n",
    "         9.3537,   9.2707,   9.1199,   9.1689,   9.1425,   9.135 ,\n",
    "         9.1011,   9.1727,   9.2217,   9.2255,   9.2821,   9.3235,\n",
    "         9.3198,   9.3198,   9.3198,   9.3273,   9.3725,   9.3989,\n",
    "         9.4253,   9.4593,   9.4442,   9.4291,   9.2632,   9.2293,\n",
    "         9.1878,   9.1425,   9.1275,   9.1802,   9.1765,   9.2481,\n",
    "         9.2481,   9.1991,   9.1689,   9.1765,   9.2406,   9.3198,\n",
    "         9.3235,   9.1991,   9.2971,   9.2443,   9.316 ,   9.2934,\n",
    "         9.3914,   9.3989,   9.5121,   9.6176,   9.5535,   9.4668,\n",
    "         9.3725,   9.3348,   9.3763,   9.3839,   9.4216,   9.4065,\n",
    "         9.3348,   9.4442,   9.4367,   9.5083,   9.448 ,   9.4781,\n",
    "         9.595 ,   9.6101,   9.5686,   9.6365,   9.7119,   9.8213,\n",
    "         9.825 ,   9.7609,   9.6516,   9.5988,   9.546 ,   9.6516,\n",
    "         9.7572,   9.8854,  10.0023,   9.3914])\n",
    "\n",
    "bd_offspring_scandens = array([  8.419 ,   9.2468,   8.1532,   8.0089,   8.2215,   8.3734,\n",
    "         8.5025,   8.6392,   8.7684,   8.8139,   8.7911,   8.9051,\n",
    "         8.9203,   8.8747,   8.943 ,   9.0038,   8.981 ,   9.0949,\n",
    "         9.2696,   9.1633,   9.1785,   9.1937,   9.2772,   9.0722,\n",
    "         8.9658,   8.9658,   8.5025,   8.4949,   8.4949,   8.5633,\n",
    "         8.6013,   8.6468,   8.1532,   8.3734,   8.662 ,   8.6924,\n",
    "         8.7456,   8.8367,   8.8595,   8.9658,   8.9582,   8.8671,\n",
    "         8.8671,   8.943 ,   9.0646,   9.1405,   9.2089,   9.2848,\n",
    "         9.3759,   9.4899,   9.4519,   8.1228,   8.2595,   8.3127,\n",
    "         8.4949,   8.6013,   8.4646,   8.5329,   8.7532,   8.8823,\n",
    "         9.0342,   8.6392,   8.6772,   8.6316,   8.7532,   8.8291,\n",
    "         8.8975,   8.9734,   9.0494,   9.1253,   9.1253,   9.1253,\n",
    "         9.1785,   9.2848,   9.4595,   9.3608,   9.2089,   9.2544,\n",
    "         9.3684,   9.3684,   9.2316,   9.1709,   9.2316,   9.0342,\n",
    "         8.8899,   8.8291,   8.981 ,   8.8975,  10.4089,  10.1886,\n",
    "         9.7633,   9.7329,   9.6114,   9.5051,   9.5127,   9.3684,\n",
    "         9.6266,   9.5354,  10.0215,  10.0215,   9.6266,   9.6038,\n",
    "         9.4063,   9.2316,   9.338 ,   9.262 ,   9.262 ,   9.4063,\n",
    "         9.4367,   9.0342,   8.943 ,   8.9203,   8.7835,   8.7835,\n",
    "         9.057 ,   8.9354,   8.8975,   8.8139,   8.8671,   9.0873,\n",
    "         9.2848,   9.2392,   9.2924,   9.4063,   9.3152,   9.4899,\n",
    "         9.5962,   9.6873,   9.5203,   9.6646])\n",
    "\n",
    "# Make scatter plots\n",
    "_ = plt.plot(bd_parent_fortis, bd_offspring_fortis,\n",
    "             marker='.', linestyle='none', color='blue', alpha=0.5)\n",
    "_ = plt.plot(bd_parent_scandens, bd_offspring_scandens,\n",
    "             marker='.', linestyle='none', color='red', alpha=0.5)\n",
    "\n",
    "# Set margins\n",
    "plt.margins(0.02)\n",
    "\n",
    "# Label axes\n",
    "_ = plt.xlabel('parental beak depth (mm)')\n",
    "_ = plt.ylabel('offspring beak depth (mm)')\n",
    "\n",
    "# Add legend\n",
    "_ = plt.legend(('G. fortis', 'G. scandens'), loc='lower right')\n",
    "\n",
    "# Show plot\n",
    "plt.show()\n",
    "\n",
    "\n",
    "# It appears as though there is a stronger correlation in G. fortis than in G. scandens.\n",
    "# This suggests that beak depth is more strongly inherited in G. fortis. We'll quantify this correlation next."
   ]
  },
  {
   "cell_type": "code",
   "execution_count": 71,
   "metadata": {
    "collapsed": true
   },
   "outputs": [],
   "source": [
    "# In an effort to quantify the correlation between offspring and parent beak depths, we would\n",
    "# like to compute statistics, such as the Pearson correlation coefficient, between parents and\n",
    "# offspring. To get confidence intervals on this, we need to do a pairs bootstrap.\n",
    "\n",
    "def draw_bs_pairs(x, y, func, size=1):\n",
    "    \"\"\"Perform pairs bootstrap for linear regression.\"\"\"\n",
    "\n",
    "    # Set up array of indices to sample from: inds\n",
    "    inds = np.arange(len(x))\n",
    "\n",
    "    # Initialize replicates\n",
    "    bs_replicates = np.empty(size)\n",
    "\n",
    "    # Generate replicates\n",
    "    for i in range(size):\n",
    "        bs_inds = np.random.choice(inds, len(inds))\n",
    "        bs_x, bs_y = x[bs_inds], y[bs_inds]\n",
    "        bs_replicates = func(bs_x, bs_y)\n",
    "    \n",
    "    return bs_replicates"
   ]
  },
  {
   "cell_type": "code",
   "execution_count": 72,
   "metadata": {
    "collapsed": false
   },
   "outputs": [
    {
     "name": "stdout",
     "output_type": "stream",
     "text": [
      "G. scandens: 0.41170636294 [ 0.43363602  0.43363602]\n",
      "G. fortis: 0.728341239552 [ 0.71930112  0.71930112]\n"
     ]
    }
   ],
   "source": [
    "# The Pearson correlation coefficient seems like a useful measure of how strongly the beak depth\n",
    "# of parents are inherited by their offspring. Compute the Pearson correlation coefficient between\n",
    "# parental and offspring beak depths for G. scandens. Do the same for G. fortis. Then, use the function\n",
    "# you wrote in the last exercise to compute a 95% confidence interval using pairs bootstrap.\n",
    "\n",
    "# Compute the Pearson correlation coefficients\n",
    "r_scandens = pearson_r(bd_parent_scandens, bd_offspring_scandens)\n",
    "r_fortis = pearson_r(bd_parent_fortis, bd_offspring_fortis)\n",
    "\n",
    "# Acquire 1000 bootstrap replicates of Pearson r\n",
    "bs_replicates_scandens = draw_bs_pairs(bd_parent_scandens, bd_offspring_scandens, pearson_r, 1000)\n",
    "\n",
    "bs_replicates_fortis = draw_bs_pairs(bd_parent_fortis, bd_offspring_fortis, pearson_r, 1000)\n",
    "\n",
    "\n",
    "# Compute 95% confidence intervals\n",
    "conf_int_scandens = np.percentile(bs_replicates_scandens, [2.5, 97.5])\n",
    "conf_int_fortis = np.percentile(bs_replicates_fortis, [2.5, 97.5])\n",
    "\n",
    "# Print results\n",
    "print('G. scandens:', r_scandens, conf_int_scandens)\n",
    "print('G. fortis:', r_fortis, conf_int_fortis)\n"
   ]
  },
  {
   "cell_type": "code",
   "execution_count": 73,
   "metadata": {
    "collapsed": false
   },
   "outputs": [
    {
     "name": "stdout",
     "output_type": "stream",
     "text": [
      "G. scandens: 0.548534086869 [ 0.64223456  0.64223456]\n",
      "G. fortis: 0.722905191144 [ 0.73997957  0.73997957]\n"
     ]
    }
   ],
   "source": [
    "# Remember that the Pearson correlation coefficient is the ratio of the covariance to the geometric mean\n",
    "# of the variances of the two data sets. This is a measure of the correlation between parents and offspring,\n",
    "# but might not be the best estimate of heritability. If we stop and think, it makes more sense to define\n",
    "# heritability as the ratio of the covariance between parent and offspring to the variance of the parents alone.\n",
    "# In this exercise, you will estimate the heritability and perform a pairs bootstrap calculation to get the\n",
    "# 95% confidence interval.\n",
    "\n",
    "# This exercise highlights a very important point. Statistical inference (and data analysis in general)\n",
    "# is not a plug-n-chug enterprise. You need to think carefully about the questions you are seeking to answer\n",
    "# with your data and analyze them appropriately. If you are interested in how heritable traits are, the quantity\n",
    "# we defined as the heritability is more apt than the off-the-shelf statistic, the Pearson correlation coefficient.\n",
    "\n",
    "\n",
    "def heritability(parents, offspring):\n",
    "    \"\"\"Compute the heritability from parent and offspring samples.\"\"\"\n",
    "    covariance_matrix = np.cov(parents, offspring)\n",
    "    return covariance_matrix[0,1] / covariance_matrix[0,0]\n",
    "\n",
    "# Compute the heritability\n",
    "heritability_scandens = heritability(bd_parent_scandens,bd_offspring_scandens)\n",
    "heritability_fortis = heritability(bd_parent_fortis, bd_offspring_fortis)\n",
    "\n",
    "# Acquire 1000 bootstrap replicates of heritability\n",
    "replicates_scandens = draw_bs_pairs(\n",
    "        bd_parent_scandens, bd_offspring_scandens, heritability, size=1000)\n",
    "        \n",
    "replicates_fortis = draw_bs_pairs(\n",
    "        bd_parent_fortis, bd_offspring_fortis, heritability, size=1000)\n",
    "\n",
    "\n",
    "# Compute 95% confidence intervals\n",
    "conf_int_scandens = np.percentile(replicates_scandens,[2.5,97.5])\n",
    "conf_int_fortis = np.percentile(replicates_fortis, [2.5, 97.5])\n",
    "\n",
    "# Print results\n",
    "print('G. scandens:', heritability_scandens, conf_int_scandens)\n",
    "print('G. fortis:', heritability_fortis, conf_int_fortis)\n"
   ]
  },
  {
   "cell_type": "code",
   "execution_count": 70,
   "metadata": {
    "collapsed": false
   },
   "outputs": [
    {
     "name": "stdout",
     "output_type": "stream",
     "text": [
      "p-val = 0.0\n"
     ]
    }
   ],
   "source": [
    "# The heritability of beak depth in G. scandens seems low. It could be that this observed heritability\n",
    "# was just achieved by chance and beak depth is actually not really heritable in the species. You will\n",
    "# test that hypothesis here. To do this, you will do a pairs permutation test.\n",
    "\n",
    "# Initialize array of replicates: perm_replicates\n",
    "perm_replicates = np.empty(10000)\n",
    "\n",
    "# Draw replicates\n",
    "for i in range(10000):\n",
    "    # Permute parent beak depths\n",
    "    bd_parent_permuted = np.random.permutation(bd_parent_scandens)\n",
    "    perm_replicates[i] = heritability(bd_parent_permuted,bd_offspring_scandens)\n",
    "\n",
    "\n",
    "# Compute p-value: p\n",
    "p = np.sum(perm_replicates >= heritability_scandens) / len(perm_replicates)\n",
    "\n",
    "# Print the p-value\n",
    "print('p-val =', p)\n",
    "\n",
    "\n",
    "# You get a p-value of zero, which means that none of the 10,000 permutation pairs replicates you drew \n",
    "# had a heritability high enough to match that which was observed. This strongly suggests that beak depth\n",
    "# is heritable in G. scandens, just not as much as in G. fortis. If you like, you can plot a histogram\n",
    "# of the heritability replicates to get a feel for how extreme of a value of heritability you might expect by chance."
   ]
  },
  {
   "cell_type": "code",
   "execution_count": null,
   "metadata": {
    "collapsed": true
   },
   "outputs": [],
   "source": []
  }
 ],
 "metadata": {
  "anaconda-cloud": {},
  "kernelspec": {
   "display_name": "Python [default]",
   "language": "python",
   "name": "python3"
  },
  "language_info": {
   "codemirror_mode": {
    "name": "ipython",
    "version": 3
   },
   "file_extension": ".py",
   "mimetype": "text/x-python",
   "name": "python",
   "nbconvert_exporter": "python",
   "pygments_lexer": "ipython3",
   "version": "3.5.2"
  }
 },
 "nbformat": 4,
 "nbformat_minor": 1
}
