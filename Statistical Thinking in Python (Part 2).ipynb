{
 "cells": [
  {
   "cell_type": "code",
   "execution_count": null,
   "metadata": {
    "collapsed": true
   },
   "outputs": [],
   "source": [
    "# If you assume that no-hitters are described as a Poisson process, then the time between \n",
    "# no-hitters is Exponentially distributed. As you have seen, the Exponential distribution \n",
    "# has a single parameter, which we will call ττ, the typical interval time. The value of the\n",
    "# parameter ττ that makes the exponential distribution best match the data is the mean interval\n",
    "# time (where time is in units of number of games) between no-hitters.\n",
    "\n",
    "# Compute the value of this parameter from the data. Then, use np.random.exponential() to\n",
    "# \"repeat\" the history of Major League Baseball by drawing inter-no-hitter times from an\n",
    "# exponential distribution with the ττ you found and plot the histogram as an approximation to the PDF.\n",
    "\n",
    "# Seed random number generator\n",
    "np.random.seed(42)\n",
    "\n",
    "# Compute mean no-hitter time: tau\n",
    "tau = np.mean(nohitter_times)\n",
    "\n",
    "# Draw out of an exponential distribution with parameter tau: inter_nohitter_time\n",
    "inter_nohitter_time = np.random.exponential(tau, 100000)\n",
    "\n",
    "# Plot the PDF and label axes\n",
    "_ = plt.hist(inter_nohitter_time,\n",
    "             bins = 50, normed = True, histtype = 'step')\n",
    "_ = plt.xlabel('Games between no-hitters')\n",
    "_ = plt.ylabel('PDF')\n",
    "\n",
    "# Show the plot\n",
    "plt.show()"
   ]
  },
  {
   "cell_type": "code",
   "execution_count": 1,
   "metadata": {
    "collapsed": true
   },
   "outputs": [],
   "source": [
    "def ecdf(data):\n",
    "    \"\"\"Compute ECDF for a one-dimensional array of measurements.\"\"\"\n",
    "\n",
    "    # Number of data points: n\n",
    "    n = len(data) \n",
    "\n",
    "    # x-data for the ECDF: x\n",
    "    x = np.sort(data)\n",
    "\n",
    "    # y-data for the ECDF: y\n",
    "    y = np.arange(1, n + 1) / n\n",
    "\n",
    "    return x, y"
   ]
  },
  {
   "cell_type": "code",
   "execution_count": null,
   "metadata": {
    "collapsed": true
   },
   "outputs": [],
   "source": [
    "# Create an ECDF from real data: x, y\n",
    "x, y = ecdf(nohitter_times)\n",
    "\n",
    "# Create a CDF from theoretical samples: x_theor, y_theor\n",
    "x_theor, y_theor = ecdf(inter_nohitter_time)\n",
    "\n",
    "# Overlay the plots\n",
    "plt.plot(x_theor, y_theor)\n",
    "plt.plot(x, y, marker='.', linestyle='none')\n",
    "\n",
    "# Margins and axis labels\n",
    "plt.margins(0.02)\n",
    "plt.xlabel('Games between no-hitters')\n",
    "plt.ylabel('CDF')\n",
    "\n",
    "# Show the plot\n",
    "plt.show()\n"
   ]
  },
  {
   "cell_type": "code",
   "execution_count": null,
   "metadata": {
    "collapsed": true
   },
   "outputs": [],
   "source": [
    "# Plot the theoretical CDFs\n",
    "plt.plot(x_theor, y_theor)\n",
    "plt.plot(x, y, marker='.', linestyle='none')\n",
    "plt.margins(0.02)\n",
    "plt.xlabel('Games between no-hitters')\n",
    "plt.ylabel('CDF')\n",
    "\n",
    "# Take samples with half tau: samples_half\n",
    "samples_half = np.random.exponential(tau/2, 10000)\n",
    "\n",
    "# Take samples with double tau: samples_double\n",
    "samples_double = np.random.exponential(2*tau, 10000)\n",
    "\n",
    "# Generate CDFs from these samples\n",
    "x_half, y_half = ecdf(samples_half)\n",
    "x_double, y_double = ecdf(samples_double)\n",
    "\n",
    "# Plot these CDFs as lines\n",
    "_ = plt.plot(x_half, y_half)\n",
    "_ = plt.plot(x_double, y_double)\n",
    "\n",
    "# Show the plot\n",
    "plt.show()"
   ]
  },
  {
   "cell_type": "code",
   "execution_count": null,
   "metadata": {
    "collapsed": true
   },
   "outputs": [],
   "source": [
    "# we will look at the correlation between female literacy and fertility (defined as the average\n",
    "# number of children born per woman) throughout the world. For ease of analysis and interpretation,\n",
    "# we will work with the illiteracy rate.\n",
    "\n",
    "# It is always a good idea to do some EDA ahead of our analysis. To this end, plot the fertility\n",
    "# versus illiteracy and compute the Pearson correlation coefficient. The Numpy array illiteracy\n",
    "# has the illiteracy rate among females for most of the world's nations. The array fertility has\n",
    "# the corresponding fertility data.\n",
    "\n",
    "# Plot the illiteracy rate versus fertility\n",
    "_ = plt.plot(illiteracy, fertility, marker='.', linestyle='none')\n",
    "\n",
    "# Set the margins and label axes\n",
    "plt.margins(0.02)\n",
    "_ = plt.xlabel('percent illiterate')\n",
    "_ = plt.ylabel('fertility')\n",
    "\n",
    "# Show the plot\n",
    "plt.show()\n",
    "\n",
    "# Show the Pearson correlation coefficient\n",
    "print(pearson_r(illiteracy, fertility))"
   ]
  },
  {
   "cell_type": "code",
   "execution_count": null,
   "metadata": {
    "collapsed": true
   },
   "outputs": [],
   "source": [
    "# We will assume that fertility is a linear function of the female illiteracy rate. \n",
    "# That is, f=ai+bf=ai+b, where aa is the slope and bb is the intercept. We can think\n",
    "# of the intercept as the minimal fertility rate, probably somewhere between one and two.\n",
    "# The slope tells us how the fertility rate varies with illiteracy. We can find the\n",
    "# best fit line using np.polyfit().\n",
    "\n",
    "# Plot the illiteracy rate versus fertility\n",
    "_ = plt.plot(illiteracy, fertility, marker='.', linestyle='none')\n",
    "plt.margins(0.02)\n",
    "_ = plt.xlabel('percent illiterate')\n",
    "_ = plt.ylabel('fertility')\n",
    "\n",
    "# Perform a linear regression using np.polyfit(): a, b\n",
    "a, b = np.polyfit(illiteracy, fertility, 1)\n",
    "\n",
    "# Print the results to the screen\n",
    "print('slope =', a, 'children per woman / percent illiterate')\n",
    "print('intercept =', b, 'children per woman')\n",
    "\n",
    "# Make theoretical line to plot\n",
    "x = np.array([0,100])\n",
    "y = a * x + b\n",
    "\n",
    "# Add regression line to your plot\n",
    "_ = plt.plot(x, y)\n",
    "\n",
    "# Draw the plot\n",
    "plt.show()\n",
    "\n",
    "\n",
    "'''\n",
    "<script.py> output:\n",
    "    slope = 0.0497985480906 children per woman / percent illiterate\n",
    "    intercept = 1.88805061064 children per woman\n",
    "'''"
   ]
  },
  {
   "cell_type": "code",
   "execution_count": null,
   "metadata": {
    "collapsed": true
   },
   "outputs": [],
   "source": [
    "# The function np.polyfit() that you used to get your regression parameters finds the optimal\n",
    "# slope and intercept. It is optimizing the sum of the squares of the residuals, also known as\n",
    "# RSS (for residual sum of squares). In this exercise, you will plot the function that is being\n",
    "# optimized, the RSS, versus the slope parameter a. To do this, fix the intercept to be what you\n",
    "# found in the optimization. Then, plot the RSS vs. the slope. Where is it minimal?\n",
    "\n",
    "# Specify slopes to consider: a_vals\n",
    "a_vals = np.linspace(0, 0.1, 200)\n",
    "\n",
    "# Initialize sum of square of residuals: rss\n",
    "rss = np.empty_like(a_vals)\n",
    "\n",
    "# Compute sum of square of residuals for each value of a_vals\n",
    "for i, a in enumerate(a_vals):\n",
    "    rss[i] = np.sum((fertility - a*illiteracy - b)**2)\n",
    "\n",
    "# Plot the RSS\n",
    "plt.plot(a_vals, rss, '-')\n",
    "plt.xlabel('slope (children per woman / percent illiterate)')\n",
    "plt.ylabel('sum of square of residuals')\n",
    "\n",
    "plt.show()"
   ]
  },
  {
   "cell_type": "code",
   "execution_count": 14,
   "metadata": {
    "collapsed": false
   },
   "outputs": [
    {
     "name": "stdout",
     "output_type": "stream",
     "text": [
      "0.500090909091 3.00009090909\n"
     ]
    },
    {
     "data": {
      "image/png": "[encoded data removed]",
      "text/plain": [
       "<matplotlib.figure.Figure at 0x1a03e46f4a8>"
      ]
     },
     "metadata": {},
     "output_type": "display_data"
    }
   ],
   "source": [
    "import numpy as np\n",
    "import matplotlib.pyplot as plt\n",
    "\n",
    "x = np.array([ 10.,   8.,  13.,   9.,  11.,  14.,   6.,   4.,  12.,   7.,   5.])\n",
    "y = np.array([  8.04,   6.95,   7.58,   8.81,   8.33,   9.96,   7.24,   4.26,\n",
    "        10.84,   4.82,   5.68])\n",
    "\n",
    "# Perform linear regression: a, b\n",
    "a, b = np.polyfit(x,y,1)\n",
    "\n",
    "# Print the slope and intercept\n",
    "print(a, b)\n",
    "\n",
    "# Generate theoretical x and y data: x_theor, y_theor\n",
    "x_theor = np.array([3, 15])\n",
    "y_theor = a * x_theor + b\n",
    "\n",
    "# Plot the Anscombe data and theoretical line\n",
    "_ = plt.plot(x,y,marker = '.', linestyle = 'none')\n",
    "_ = plt.plot(x_theor, y_theor)\n",
    "\n",
    "# Label the axes\n",
    "plt.xlabel('x')\n",
    "plt.ylabel('y')\n",
    "\n",
    "# Show the plot\n",
    "plt.show()\n"
   ]
  },
  {
   "cell_type": "code",
   "execution_count": 16,
   "metadata": {
    "collapsed": false
   },
   "outputs": [
    {
     "name": "stdout",
     "output_type": "stream",
     "text": [
      "slope: 0.500090909091 intercept: 3.00009090909\n",
      "slope: 0.5 intercept: 3.00090909091\n",
      "slope: 0.499727272727 intercept: 3.00245454545\n",
      "slope: 0.499909090909 intercept: 3.00172727273\n"
     ]
    }
   ],
   "source": [
    "# Now, to verify that all four of the Anscombe data sets have the same slope and intercept from\n",
    "# a linear regression, you will compute the slope and intercept for each set. The data are stored\n",
    "# in lists; anscombe_x = [x1, x2, x3, x4] and anscombe_y = [y1, y2, y3, y4], where, for example,\n",
    "# x2 and y2 are the xx and yy values for the second Anscombe data set.\n",
    "from numpy import array\n",
    "\n",
    "anscombe_x = [array([ 10.,   8.,  13.,   9.,  11.,  14.,   6.,   4.,  12.,   7.,   5.]),\n",
    " array([ 10.,   8.,  13.,   9.,  11.,  14.,   6.,   4.,  12.,   7.,   5.]),\n",
    " array([ 10.,   8.,  13.,   9.,  11.,  14.,   6.,   4.,  12.,   7.,   5.]),\n",
    " array([  8.,   8.,   8.,   8.,   8.,   8.,   8.,  19.,   8.,   8.,   8.])]\n",
    "\n",
    "anscombe_y = [array([  8.04,   6.95,   7.58,   8.81,   8.33,   9.96,   7.24,   4.26,\n",
    "         10.84,   4.82,   5.68]),\n",
    " array([ 9.14,  8.14,  8.74,  8.77,  9.26,  8.1 ,  6.13,  3.1 ,  9.13,\n",
    "         7.26,  4.74]),\n",
    " array([  7.46,   6.77,  12.74,   7.11,   7.81,   8.84,   6.08,   5.39,\n",
    "          8.15,   6.42,   5.73]),\n",
    " array([  6.58,   5.76,   7.71,   8.84,   8.47,   7.04,   5.25,  12.5 ,\n",
    "          5.56,   7.91,   6.89])]\n",
    "\n",
    "# Iterate through x,y pairs\n",
    "for x, y in zip(anscombe_x , anscombe_y ):\n",
    "    # Compute the slope and intercept: a, b\n",
    "    a, b = np.polyfit(x,y,1)\n",
    "\n",
    "    # Print the result\n",
    "    print('slope:', a, 'intercept:', b)\n"
   ]
  },
  {
   "cell_type": "code",
   "execution_count": null,
   "metadata": {
    "collapsed": true
   },
   "outputs": [],
   "source": [
    "# Unfortunately, you often will read and hear other data scientists using different terminology \n",
    "# for bootstrap samples and replicates. This is even more reason why we need everything to be\n",
    "# clear and consistent for this course. So, before going forward discussing bootstrapping,\n",
    "# let's get our terminology down. If we have a data set with nn repeated measurements, a bootstrap\n",
    "# sample is an array of length nn that was drawn from the original data with replacement.\n",
    "# What is a bootstrap replicate?\n",
    "\n",
    "# A single value of a statistic computed from a bootstrap sample.\n",
    "\n",
    "for _ in range(50):\n",
    "    # Generate bootstrap sample: bs_sample\n",
    "    bs_sample = np.random.choice(rainfall, size=len(rainfall))\n",
    "\n",
    "    # Compute and plot ECDF from bootstrap sample\n",
    "    x, y = ecdf(bs_sample)\n",
    "    _ = plt.plot(x, y, marker='.', linestyle='none',\n",
    "                 color='gray', alpha=0.1)\n",
    "\n",
    "# Compute and plot ECDF from original data\n",
    "x, y = ecdf(rainfall)\n",
    "_ = plt.plot(x, y, marker='.')\n",
    "\n",
    "# Make margins and label axes\n",
    "plt.margins(0.02)\n",
    "_ = plt.xlabel('yearly rainfall (mm)')\n",
    "_ = plt.ylabel('ECDF')\n",
    "\n",
    "# Show the plot\n",
    "plt.show()\n"
   ]
  },
  {
   "cell_type": "code",
   "execution_count": 17,
   "metadata": {
    "collapsed": true
   },
   "outputs": [],
   "source": [
    "def bootstrap_replicate_1d(data, func):\n",
    "    return func(np.random.choice(data, size=len(data)))\n",
    "\n",
    "def draw_bs_reps(data, func, size=1):\n",
    "    \"\"\"Draw bootstrap replicates.\"\"\"\n",
    "\n",
    "    # Initialize array of replicates: bs_replicates\n",
    "    bs_replicates = np.empty(size)\n",
    "\n",
    "    # Generate replicates\n",
    "    for i in range(size):\n",
    "        bs_replicates[i] = bootstrap_replicate_1d(data,func)\n",
    "\n",
    "    return bs_replicates\n"
   ]
  },
  {
   "cell_type": "code",
   "execution_count": null,
   "metadata": {
    "collapsed": true
   },
   "outputs": [],
   "source": [
    "# it can be shown theoretically that under not-too-restrictive conditions, the value\n",
    "# of the mean will always be Normally distributed. (This does not hold in general,\n",
    "# just for the mean and a few other statistics.) The standard deviation of this distribution,\n",
    "# called the standard error of the mean, or SEM, is given by the standard deviation of the data\n",
    "# divided by the square root of the number of data points. I.e., for a data set,\n",
    "# sem = np.std(data) / np.sqrt(len(data)). Using hacker statistics, you get this same result\n",
    "# without the need to derive it, but you will verify this result from your bootstrap replicates.\n",
    "\n",
    "\n",
    "# Take 10,000 bootstrap replicates of the mean: bs_replicates\n",
    "bs_replicates = draw_bs_reps(rainfall, np.mean, 10000)\n",
    "\n",
    "# Compute and print SEM\n",
    "sem = np.std(rainfall) / np.sqrt(len(rainfall))\n",
    "print(sem)\n",
    "\n",
    "# Compute and print standard deviation of bootstrap replicates\n",
    "bs_std = np.std(bs_replicates)\n",
    "print(bs_std)\n",
    "\n",
    "# Make a histogram of the results\n",
    "_ = plt.hist(bs_replicates, bins=50, normed=True)\n",
    "_ = plt.xlabel('mean annual rainfall (mm)')\n",
    "_ = plt.ylabel('PDF')\n",
    "\n",
    "# Show the plot\n",
    "plt.show()"
   ]
  },
  {
   "cell_type": "code",
   "execution_count": null,
   "metadata": {
    "collapsed": true
   },
   "outputs": [],
   "source": [
    "def draw_bs_reps(data, func, size=1):\n",
    "    return np.array([bootstrap_replicate_1d(data, func) for _ in range(size)])"
   ]
  },
  {
   "cell_type": "code",
   "execution_count": 18,
   "metadata": {
    "collapsed": false
   },
   "outputs": [
    {
     "data": {
      "image/png": "[encoded data removed]",
      "text/plain": [
       "<matplotlib.figure.Figure at 0x1a03ee98f28>"
      ]
     },
     "metadata": {},
     "output_type": "display_data"
    }
   ],
   "source": [
    "rainfall = array([  875.5,   648.2,   788.1,   940.3,   491.1,   743.5,   730.1,\n",
    "         686.5,   878.8,   865.6,   654.9,   831.5,   798.1,   681.8,\n",
    "         743.8,   689.1,   752.1,   837.2,   710.6,   749.2,   967.1,\n",
    "         701.2,   619. ,   747.6,   803.4,   645.6,   804.1,   787.4,\n",
    "         646.8,   997.1,   774. ,   734.5,   835. ,   840.7,   659.6,\n",
    "         828.3,   909.7,   856.9,   578.3,   904.2,   883.9,   740.1,\n",
    "         773.9,   741.4,   866.8,   871.1,   712.5,   919.2,   927.9,\n",
    "         809.4,   633.8,   626.8,   871.3,   774.3,   898.8,   789.6,\n",
    "         936.3,   765.4,   882.1,   681.1,   661.3,   847.9,   683.9,\n",
    "         985.7,   771.1,   736.6,   713.2,   774.5,   937.7,   694.5,\n",
    "         598.2,   983.8,   700.2,   901.3,   733.5,   964.4,   609.3,\n",
    "        1035.2,   718. ,   688.6,   736.8,   643.3,  1038.5,   969. ,\n",
    "         802.7,   876.6,   944.7,   786.6,   770.4,   808.6,   761.3,\n",
    "         774.2,   559.3,   674.2,   883.6,   823.9,   960.4,   877.8,\n",
    "         940.6,   831.8,   906.2,   866.5,   674.1,   998.1,   789.3,\n",
    "         915. ,   737.1,   763. ,   666.7,   824.5,   913.8,   905.1,\n",
    "         667.8,   747.4,   784.7,   925.4,   880.2,  1086.9,   764.4,\n",
    "        1050.1,   595.2,   855.2,   726.9,   785.2,   948.8,   970.6,\n",
    "         896. ,   618.4,   572.4,  1146.4,   728.2,   864.2,   793. ])\n",
    "\n",
    "# Generate 10,000 bootstrap replicates of the variance: bs_replicates\n",
    "bs_replicates = draw_bs_reps(rainfall, np.var, 10000)\n",
    "\n",
    "# Put the variance in units of square centimeters\n",
    "bs_replicates /= 100\n",
    "\n",
    "# Make a histogram of the results\n",
    "_ = plt.hist(bs_replicates, bins = 50, normed = True)\n",
    "_ = plt.xlabel('variance of annual rainfall (sq. cm)')\n",
    "_ = plt.ylabel('PDF')\n",
    "\n",
    "# Show the plot\n",
    "plt.show()"
   ]
  },
  {
   "cell_type": "code",
   "execution_count": 19,
   "metadata": {
    "collapsed": false
   },
   "outputs": [
    {
     "name": "stdout",
     "output_type": "stream",
     "text": [
      "95% confidence interval = [ 662.27320717  870.95298805] games\n"
     ]
    },
    {
     "data": {
      "image/png": "[encoded data removed]",
      "text/plain": [
       "<matplotlib.figure.Figure at 0x1a03eed7be0>"
      ]
     },
     "metadata": {},
     "output_type": "display_data"
    }
   ],
   "source": [
    "nohitter_times = array([ 843, 1613, 1101,  215,  684,  814,  278,  324,  161,  219,  545,\n",
    "        715,  966,  624,   29,  450,  107,   20,   91, 1325,  124, 1468,\n",
    "        104, 1309,  429,   62, 1878, 1104,  123,  251,   93,  188,  983,\n",
    "        166,   96,  702,   23,  524,   26,  299,   59,   39,   12,    2,\n",
    "        308, 1114,  813,  887,  645, 2088,   42, 2090,   11,  886, 1665,\n",
    "       1084, 2900, 2432,  750, 4021, 1070, 1765, 1322,   26,  548, 1525,\n",
    "         77, 2181, 2752,  127, 2147,  211,   41, 1575,  151,  479,  697,\n",
    "        557, 2267,  542,  392,   73,  603,  233,  255,  528,  397, 1529,\n",
    "       1023, 1194,  462,  583,   37,  943,  996,  480, 1497,  717,  224,\n",
    "        219, 1531,  498,   44,  288,  267,  600,   52,  269, 1086,  386,\n",
    "        176, 2199,  216,   54,  675, 1243,  463,  650,  171,  327,  110,\n",
    "        774,  509,    8,  197,  136,   12, 1124,   64,  380,  811,  232,\n",
    "        192,  731,  715,  226,  605,  539, 1491,  323,  240,  179,  702,\n",
    "        156,   82, 1397,  354,  778,  603, 1001,  385,  986,  203,  149,\n",
    "        576,  445,  180, 1403,  252,  675, 1351, 2983, 1568,   45,  899,\n",
    "       3260, 1025,   31,  100, 2055, 4043,   79,  238, 3931, 2351,  595,\n",
    "        110,  215,    0,  563,  206,  660,  242,  577,  179,  157,  192,\n",
    "        192, 1848,  792, 1693,   55,  388,  225, 1134, 1172, 1555,   31,\n",
    "       1582, 1044,  378, 1687, 2915,  280,  765, 2819,  511, 1521,  745,\n",
    "       2491,  580, 2072, 6450,  578,  745, 1075, 1103, 1549, 1520,  138,\n",
    "       1202,  296,  277,  351,  391,  950,  459,   62, 1056, 1128,  139,\n",
    "        420,   87,   71,  814,  603, 1349,  162, 1027,  783,  326,  101,\n",
    "        876,  381,  905,  156,  419,  239,  119,  129,  467])\n",
    "\n",
    "# Draw bootstrap replicates of the mean no-hitter time (equal to tau): bs_replicates\n",
    "bs_replicates = draw_bs_reps(nohitter_times, np.mean, 10000)\n",
    "\n",
    "# Compute the 95% confidence interval: conf_int\n",
    "conf_int = np.percentile(bs_replicates,[2.5, 97.5])\n",
    "\n",
    "# Print the confidence interval\n",
    "print('95% confidence interval =', conf_int, 'games')\n",
    "\n",
    "# Plot the histogram of the replicates\n",
    "_ = plt.hist(bs_replicates, bins=50, normed=True)\n",
    "_ = plt.xlabel(r'$\\tau$ (games)')\n",
    "_ = plt.ylabel('PDF')\n",
    "\n",
    "# Show the plot\n",
    "plt.show()\n"
   ]
  },
  {
   "cell_type": "code",
   "execution_count": 25,
   "metadata": {
    "collapsed": true
   },
   "outputs": [],
   "source": [
    "def draw_bs_pairs_linreg(x, y, size=1):\n",
    "    \"\"\"Perform pairs bootstrap for linear regression.\"\"\"\n",
    "\n",
    "    # Set up array of indices to sample from: inds\n",
    "    inds = np.arange(len(x))\n",
    "\n",
    "    # Initialize replicates: bs_slope_reps, bs_intercept_reps\n",
    "    bs_slope_reps = np.empty(size)\n",
    "    bs_intercept_reps = np.empty(size)\n",
    "\n",
    "    # Generate replicates\n",
    "    for i in range(size):\n",
    "        bs_inds = np.random.choice(inds, size=len(inds))\n",
    "        bs_x, bs_y = x[bs_inds], y[bs_inds]\n",
    "        bs_slope_reps[i], bs_intercept_reps[i] = np.polyfit(bs_x, bs_y, 1)\n",
    "\n",
    "    return bs_slope_reps, bs_intercept_reps"
   ]
  },
  {
   "cell_type": "code",
   "execution_count": 26,
   "metadata": {
    "collapsed": false
   },
   "outputs": [
    {
     "name": "stdout",
     "output_type": "stream",
     "text": [
      "[ 0.04383914  0.05557844]\n"
     ]
    },
    {
     "data": {
      "image/png": "[encoded data removed]",
      "text/plain": [
       "<matplotlib.figure.Figure at 0x1a0405595f8>"
      ]
     },
     "metadata": {},
     "output_type": "display_data"
    }
   ],
   "source": [
    "illiteracy = array([  9.5,  49.2,   1. ,  11.2,   9.8,  60. ,  50.2,  51.2,   0.6,\n",
    "         1. ,   8.5,   6.1,   9.8,   1. ,  42.2,  77.2,  18.7,  22.8,\n",
    "         8.5,  43.9,   1. ,   1. ,   1.5,  10.8,  11.9,   3.4,   0.4,\n",
    "         3.1,   6.6,  33.7,  40.4,   2.3,  17.2,   0.7,  36.1,   1. ,\n",
    "        33.2,  55.9,  30.8,  87.4,  15.4,  54.6,   5.1,   1.1,  10.2,\n",
    "        19.8,   0. ,  40.7,  57.2,  59.9,   3.1,  55.7,  22.8,  10.9,\n",
    "        34.7,  32.2,  43. ,   1.3,   1. ,   0.5,  78.4,  34.2,  84.9,\n",
    "        29.1,  31.3,  18.3,  81.8,  39. ,  11.2,  67. ,   4.1,   0.2,\n",
    "        78.1,   1. ,   7.1,   1. ,  29. ,   1.1,  11.7,  73.6,  33.9,\n",
    "        14. ,   0.3,   1. ,   0.8,  71.9,  40.1,   1. ,   2.1,   3.8,\n",
    "        16.5,   4.1,   0.5,  44.4,  46.3,  18.7,   6.5,  36.8,  18.6,\n",
    "        11.1,  22.1,  71.1,   1. ,   0. ,   0.9,   0.7,  45.5,   8.4,\n",
    "         0. ,   3.8,   8.5,   2. ,   1. ,  58.9,   0.3,   1. ,  14. ,\n",
    "        47. ,   4.1,   2.2,   7.2,   0.3,   1.5,  50.5,   1.3,   0.6,\n",
    "        19.1,   6.9,   9.2,   2.2,   0.2,  12.3,   4.9,   4.6,   0.3,\n",
    "        16.5,  65.7,  63.5,  16.8,   0.2,   1.8,   9.6,  15.2,  14.4,\n",
    "         3.3,  10.6,  61.3,  10.9,  32.2,   9.3,  11.6,  20.7,   6.5,\n",
    "         6.7,   3.5,   1. ,   1.6,  20.5,   1.5,  16.7,   2. ,   0.9])\n",
    "\n",
    "fertility = array([ 1.769,  2.682,  2.077,  2.132,  1.827,  3.872,  2.288,  5.173,\n",
    "        1.393,  1.262,  2.156,  3.026,  2.033,  1.324,  2.816,  5.211,\n",
    "        2.1  ,  1.781,  1.822,  5.908,  1.881,  1.852,  1.39 ,  2.281,\n",
    "        2.505,  1.224,  1.361,  1.468,  2.404,  5.52 ,  4.058,  2.223,\n",
    "        4.859,  1.267,  2.342,  1.579,  6.254,  2.334,  3.961,  6.505,\n",
    "        2.53 ,  2.823,  2.498,  2.248,  2.508,  3.04 ,  1.854,  4.22 ,\n",
    "        5.1  ,  4.967,  1.325,  4.514,  3.173,  2.308,  4.62 ,  4.541,\n",
    "        5.637,  1.926,  1.747,  2.294,  5.841,  5.455,  7.069,  2.859,\n",
    "        4.018,  2.513,  5.405,  5.737,  3.363,  4.89 ,  1.385,  1.505,\n",
    "        6.081,  1.784,  1.378,  1.45 ,  1.841,  1.37 ,  2.612,  5.329,\n",
    "        5.33 ,  3.371,  1.281,  1.871,  2.153,  5.378,  4.45 ,  1.46 ,\n",
    "        1.436,  1.612,  3.19 ,  2.752,  3.35 ,  4.01 ,  4.166,  2.642,\n",
    "        2.977,  3.415,  2.295,  3.019,  2.683,  5.165,  1.849,  1.836,\n",
    "        2.518,  2.43 ,  4.528,  1.263,  1.885,  1.943,  1.899,  1.442,\n",
    "        1.953,  4.697,  1.582,  2.025,  1.841,  5.011,  1.212,  1.502,\n",
    "        2.516,  1.367,  2.089,  4.388,  1.854,  1.748,  2.978,  2.152,\n",
    "        2.362,  1.988,  1.426,  3.29 ,  3.264,  1.436,  1.393,  2.822,\n",
    "        4.969,  5.659,  3.24 ,  1.693,  1.647,  2.36 ,  1.792,  3.45 ,\n",
    "        1.516,  2.233,  2.563,  5.283,  3.885,  0.966,  2.373,  2.663,\n",
    "        1.251,  2.052,  3.371,  2.093,  2.   ,  3.883,  3.852,  3.718,\n",
    "        1.732,  3.928])\n",
    "\n",
    "# Generate replicates of slope and intercept using pairs bootstrap\n",
    "bs_slope_reps, bs_intercept_reps = draw_bs_pairs_linreg(illiteracy, fertility, 1000)\n",
    "\n",
    "# Compute and print 95% CI for slope\n",
    "print(np.percentile(bs_slope_reps, [2.5, 97.5]))\n",
    "\n",
    "# Plot the histogram\n",
    "_ = plt.hist(bs_slope_reps, bins=50, normed=True)\n",
    "_ = plt.xlabel('slope')\n",
    "_ = plt.ylabel('PDF')\n",
    "plt.show()"
   ]
  },
  {
   "cell_type": "code",
   "execution_count": 31,
   "metadata": {
    "collapsed": false
   },
   "outputs": [
    {
     "name": "stdout",
     "output_type": "stream",
     "text": [
      "[  0 100]\n"
     ]
    },
    {
     "data": {
      "image/png": "[encoded data removed]",
      "text/plain": [
       "<matplotlib.figure.Figure at 0x1a0405d49b0>"
      ]
     },
     "metadata": {},
     "output_type": "display_data"
    }
   ],
   "source": [
    "# Generate array of x-values for bootstrap lines: x\n",
    "x = np.array([0,100])\n",
    "# Plot the bootstrap lines\n",
    "for i in range(100):\n",
    "    _ = plt.plot(x, bs_slope_reps[i]*x + bs_intercept_reps[i],\n",
    "                 linewidth=0.5, alpha=0.2, color='red')\n",
    "\n",
    "# Plot the data\n",
    "_ = plt.plot(illiteracy, fertility, marker = '.', linestyle = 'none')\n",
    "\n",
    "# Label axes, set the margins, and show the plot\n",
    "_ = plt.xlabel('illiteracy')\n",
    "_ = plt.ylabel('fertility')\n",
    "plt.margins(0.02)\n",
    "plt.show()"
   ]
  },
  {
   "cell_type": "code",
   "execution_count": 32,
   "metadata": {
    "collapsed": true
   },
   "outputs": [],
   "source": [
    "# permutation sampling is a great way to simulate the hypothesis that two variables\n",
    "# have identical probability distributions. This is often a hypothesis you want to test,\n",
    "# so in this exercise, you will write a function to generate a permutation sample from two data sets.\n",
    "\n",
    "# Remember, a permutation sample of two arrays having respectively n1 and n2 entries is\n",
    "# constructed by concatenating the arrays together, scrambling the contents of the concatenated\n",
    "# array, and then taking the first n1 entries as the permutation sample of the first array and\n",
    "# the last n2 entries as the permutation sample of the second array.\n",
    "\n",
    "def permutation_sample(data1, data2):\n",
    "    \"\"\"Generate a permutation sample from two data sets.\"\"\"\n",
    "\n",
    "    # Concatenate the data sets: data\n",
    "    data = np.concatenate((data1, data2))\n",
    "\n",
    "    # Permute the concatenated array: permuted_data\n",
    "    permuted_data = np.random.permutation(data)\n",
    "\n",
    "    # Split the permuted array into two: perm_sample_1, perm_sample_2\n",
    "    perm_sample_1 = permuted_data[:len(data1)]\n",
    "    perm_sample_2 = permuted_data[len(data1):]\n",
    "\n",
    "    return perm_sample_1, perm_sample_2"
   ]
  },
  {
   "cell_type": "code",
   "execution_count": 33,
   "metadata": {
    "collapsed": false
   },
   "outputs": [
    {
     "data": {
      "image/png": "[encoded data removed]",
      "text/plain": [
       "<matplotlib.figure.Figure at 0x1a040599c18>"
      ]
     },
     "metadata": {},
     "output_type": "display_data"
    }
   ],
   "source": [
    "rain_july = array([  66.2,   39.7,   76.4,   26.5,   11.2,   61.8,    6.1,   48.4,\n",
    "         89.2,  104. ,   34. ,   60.6,   57.1,   79.1,   90.9,   32.3,\n",
    "         63.8,   78.2,   27.5,   43.4,   30.1,   17.3,   77.5,   44.9,\n",
    "         92.2,   39.6,   79.4,   66.1,   53.5,   98.5,   20.8,   55.5,\n",
    "         39.6,   56. ,   65.1,   14.8,   13.2,   88.1,    8.4,   32.1,\n",
    "         19.6,   40.4,    2.2,   77.5,  105.4,   77.2,   38. ,   27.1,\n",
    "        111.8,   17.2,   26.7,   23.3,   77.2,   87.2,   27.7,   50.6,\n",
    "         60.3,   15.1,    6. ,   29.4,   39.3,   56.3,   80.4,   85.3,\n",
    "         68.4,   72.5,   13.3,   28.4,   14.7,   37.4,   49.5,   57.2,\n",
    "         85.9,   82.1,   31.8,  126.6,   30.7,   41.4,   33.9,   13.5,\n",
    "         99.1,   70.2,   91.8,   61.3,   13.7,   54.9,   62.5,   24.2,\n",
    "         69.4,   83.1,   44. ,   48.5,   11.9,   16.6,   66.4,   90. ,\n",
    "         34.9,  132.8,   33.4,  225. ,    7.6,   40.9,   76.5,   48. ,\n",
    "        140. ,   55.9,   54.1,   46.4,   68.6,   52.2,  108.3,   14.6,\n",
    "         11.3,   29.8,  130.9,  152.4,   61. ,   46.6,   43.9,   30.9,\n",
    "        111.1,   68.5,   42.2,    9.8,  285.6,   56.7,  168.2,   41.2,\n",
    "         47.8,  166.6,   37.8,   45.4,   43.2])\n",
    "\n",
    "rain_november = array([  83.6,   30.9,   62.2,   37. ,   41. ,  160.2,   18.2,  122.4,\n",
    "         71.3,   44.2,   49.1,   37.6,  114.5,   28.8,   82.5,   71.9,\n",
    "         50.7,   67.7,  112. ,   63.6,   42.8,   57.2,   99.1,   86.4,\n",
    "         84.4,   38.1,   17.7,  102.2,  101.3,   58. ,   82. ,  101.4,\n",
    "         81.4,  100.1,   54.6,   39.6,   57.5,   29.2,   48.8,   37.3,\n",
    "        115.4,   55.6,   62. ,   95. ,   84.2,  118.1,  153.2,   83.4,\n",
    "        104.7,   59. ,   46.4,   50. ,  147.6,   76.8,   59.9,  101.8,\n",
    "        136.6,  173. ,   92.5,   37. ,   59.8,  142.1,    9.9,  158.2,\n",
    "         72.6,   28. ,  112.9,  119.3,  199.2,   50.7,   44. ,  170.7,\n",
    "         67.2,   21.4,   61.3,   15.6,  106. ,  116.2,   42.3,   38.5,\n",
    "        132.5,   40.8,  147.5,   93.9,   71.4,   87.3,  163.7,  141.4,\n",
    "         62.6,   84.9,   28.8,  121.1,   28.6,   32.4,  112. ,   50. ,\n",
    "         96.9,   81.8,   70.4,  117.5,   41.2,  124.9,   78.2,   93. ,\n",
    "         53.5,   50.5,   42.6,   47.9,   73.1,  129.1,   56.9,  103.3,\n",
    "         60.5,  134.3,   93.1,   49.5,   48.2,  167.9,   27. ,  111.1,\n",
    "         55.4,   36.2,   57.4,   66.8,   58.3,   60. ,  161.6,  112.7,\n",
    "         37.4,  110.6,   56.6,   95.8,  126.8])\n",
    "\n",
    "for i in range(50):\n",
    "    # Generate permutation samples\n",
    "    perm_sample_1, perm_sample_2 = permutation_sample(rain_july, rain_november)\n",
    "\n",
    "\n",
    "    # Compute ECDFs\n",
    "    x_1, y_1 = ecdf(perm_sample_1)\n",
    "    x_2, y_2 = ecdf(perm_sample_2)\n",
    "\n",
    "    # Plot ECDFs of permutation sample\n",
    "    _ = plt.plot(x_1, y_1, marker='.', linestyle='none',\n",
    "                 color='red', alpha=0.02)\n",
    "    _ = plt.plot(x_2, y_2, marker='.', linestyle='none',\n",
    "                 color='blue', alpha=0.02)\n",
    "\n",
    "# Create and plot ECDFs from original data\n",
    "x_1, y_1 = ecdf(rain_july)\n",
    "x_2, y_2 = ecdf(rain_november)\n",
    "_ = plt.plot(x_1, y_1, marker='.', linestyle='none', color='red')\n",
    "_ = plt.plot(x_2, y_2, marker='.', linestyle='none', color='blue')\n",
    "\n",
    "# Label axes, set margin, and show plot\n",
    "plt.margins(0.02)\n",
    "_ = plt.xlabel('monthly rainfall (mm)')\n",
    "_ = plt.ylabel('ECDF')\n",
    "plt.show()\n",
    "\n",
    "# Notice that the permutation samples ECDFs overlap and give a purple haze. None of the ECDFs from \n",
    "# the permutation samples overlap with the observed data, suggesting that the hypothesis is not\n",
    "# commensurate with the data. July and November rainfall are not identically distributed.\n"
   ]
  },
  {
   "cell_type": "code",
   "execution_count": 35,
   "metadata": {
    "collapsed": false
   },
   "outputs": [],
   "source": [
    "# The p-value is generally a measure of:\n",
    "\n",
    "# the probability of observing a test statistic equally or more extreme than the one you\n",
    "# observed, assuming the hypothesis you are testing is true.\n",
    "\n",
    "# a permutation replicate is a single value of a statistic computed from a permutation sample.\n",
    "# As the draw_bs_reps() function you wrote in chapter 2 is useful for you to generate bootstrap\n",
    "# replicates, it is useful to have a similar function, draw_perm_reps(), to generate permutation\n",
    "# replicates. You will write this useful function in this exercise.\n",
    "\n",
    "# The function has call signature draw_perm_reps(data_1, data_2, func, size=1). Importantly, func \n",
    "# must be a function that takes two arrays as arguments. In most circumstances, func will be a\n",
    "# function you write yourself.\n",
    "\n",
    "def draw_perm_reps(data_1, data_2, func, size=1):\n",
    "    \"\"\"Generate multiple permutation replicates.\"\"\"\n",
    "\n",
    "    # Initialize array of replicates: perm_replicates\n",
    "    perm_replicates = np.empty(size)\n",
    "\n",
    "    for i in range(size):\n",
    "        # Generate permutation sample\n",
    "        perm_sample_1, perm_sample_2 = permutation_sample(data_1, data_2)\n",
    "\n",
    "        # Compute the test statistic\n",
    "        perm_replicates[i] = func(perm_sample_1, perm_sample_2)\n",
    "\n",
    "    return perm_replicates"
   ]
  },
  {
   "cell_type": "code",
   "execution_count": null,
   "metadata": {
    "collapsed": true
   },
   "outputs": [],
   "source": [
    "# Kleinteich and Gorb (Sci. Rep., 4, 5225, 2014) performed an interesting experiment with\n",
    "# South American horned frogs. They held a plate connected to a force transducer, along with\n",
    "# a bait fly, in front of them. They then measured the impact force and adhesive force of the\n",
    "# frog's tongue when it struck the target.\n",
    "\n",
    "# Frog A is an adult and Frog B is a juvenile. The researchers measured the impact force of 20\n",
    "# strikes for each frog. In the next exercise, we will test the hypothesis that the two frogs\n",
    "# have the same distribution of impact forces. But, remember, it is important to do EDA first!\n",
    "# Let's make a bee swarm plot for the data. They are stored in a Pandas data frame, df, where\n",
    "# column ID is the identity of the frog and column impact_force is the impact force in Newtons (N).\n",
    "\n",
    "'''\n",
    "   ID  impact_force\n",
    "20  A         1.612\n",
    "21  A         0.605\n",
    "22  A         0.327\n",
    "23  A         0.946\n",
    "24  A         0.541\n",
    "25  A         1.539\n",
    "26  A         0.529\n",
    "27  A         0.628\n",
    "28  A         1.453\n",
    "29  A         0.297\n",
    "30  A         0.703\n",
    "31  A         0.269\n",
    "32  A         0.751\n",
    "33  A         0.245\n",
    "34  A         1.182\n",
    "35  A         0.515\n",
    "36  A         0.435\n",
    "37  A         0.383\n",
    "38  A         0.457\n",
    "39  A         0.730\n",
    "60  B         0.172\n",
    "61  B         0.142\n",
    "62  B         0.037\n",
    "63  B         0.453\n",
    "64  B         0.355\n",
    "65  B         0.022\n",
    "66  B         0.502\n",
    "67  B         0.273\n",
    "68  B         0.720\n",
    "69  B         0.582\n",
    "70  B         0.198\n",
    "71  B         0.198\n",
    "72  B         0.597\n",
    "73  B         0.516\n",
    "74  B         0.815\n",
    "75  B         0.402\n",
    "76  B         0.605\n",
    "77  B         0.711\n",
    "78  B         0.614\n",
    "79  B         0.468\n",
    "'''\n",
    "\n",
    "\n",
    "# Make bee swarm plot\n",
    "_ = sns.swarmplot(x = 'ID', y = 'impact_force', data = df)\n",
    "\n",
    "# Label axes\n",
    "_ = plt.xlabel('frog')\n",
    "_ = plt.ylabel('impact force (N)')\n",
    "\n",
    "# Show the plot\n",
    "plt.show()"
   ]
  },
  {
   "cell_type": "code",
   "execution_count": 36,
   "metadata": {
    "collapsed": false
   },
   "outputs": [
    {
     "name": "stdout",
     "output_type": "stream",
     "text": [
      "p-value = 0.0057\n"
     ]
    }
   ],
   "source": [
    "force_a = array([ 1.612,  0.605,  0.327,  0.946,  0.541,  1.539,  0.529,  0.628,\n",
    "        1.453,  0.297,  0.703,  0.269,  0.751,  0.245,  1.182,  0.515,\n",
    "        0.435,  0.383,  0.457,  0.73 ])\n",
    "force_b = array([ 0.172,  0.142,  0.037,  0.453,  0.355,  0.022,  0.502,  0.273,\n",
    "        0.72 ,  0.582,  0.198,  0.198,  0.597,  0.516,  0.815,  0.402,\n",
    "        0.605,  0.711,  0.614,  0.468])\n",
    "\n",
    "def diff_of_means(data_1, data_2):\n",
    "    \"\"\"Difference in means of two arrays.\"\"\"\n",
    "\n",
    "    # The difference of means of data_1, data_2: diff\n",
    "    diff = np.mean(data_1) - np.mean(data_2)\n",
    "\n",
    "    return diff\n",
    "\n",
    "# Compute difference of mean impact force from experiment: empirical_diff_means\n",
    "empirical_diff_means = diff_of_means(force_a, force_b)\n",
    "\n",
    "# Draw 10,000 permutation replicates: perm_replicates\n",
    "perm_replicates = draw_perm_reps(force_a, force_b,\n",
    "                                 diff_of_means, size=10000)\n",
    "\n",
    "# Compute p-value: p\n",
    "p = np.sum(perm_replicates >= empirical_diff_means) / len(perm_replicates)\n",
    "\n",
    "# Print the result\n",
    "print('p-value =', p)\n",
    "\n",
    "# The p-value tells you that there is about a 0.6% chance that you would get the\n",
    "# difference of means observed in the experiment if frogs were exactly the same. A p-value below\n",
    "# 0.01 is typically said to be \"statistically significant,\", but: warning! warning! warning! You have\n",
    "# computed a p-value; it is a number. I encourage you not to distill it to a yes-or-no phrase. p = 0.006 and\n",
    "# p = 0.000000006 are both said to be \"statistically significant,\" but they are definitely not the same!\n"
   ]
  },
  {
   "cell_type": "code",
   "execution_count": 37,
   "metadata": {
    "collapsed": false
   },
   "outputs": [
    {
     "name": "stdout",
     "output_type": "stream",
     "text": [
      "p =  0.0046\n"
     ]
    }
   ],
   "source": [
    "# Another juvenile frog was studied, Frog C, and you want to see if Frog B and Frog C have\n",
    "# similar impact forces. Unfortunately, you do not have Frog C's impact forces available, but\n",
    "# you know they have a mean of 0.55 N. Because you don't have the original data, you cannot do\n",
    "# a permutation test, and you cannot assess the hypothesis that the forces from Frog B and Frog C \n",
    "# come from the same distribution. You will therefore test another, less restrictive hypothesis:\n",
    "# The mean strike force of Frog B is equal to that of Frog C.\n",
    "\n",
    "# To set up the bootstrap hypothesis test, you will take the mean as our test statistic. Remember,\n",
    "# your goal is to calculate the probability of getting a mean impact force less than or equal to\n",
    "# what was observed for Frog B if the hypothesis that the true mean of Frog B's impact forces is equal\n",
    "# to that of Frog C is true. You first translate all of the data of Frog B such that the mean is 0.55 N.\n",
    "# This involves adding the mean force of Frog C and subtracting the mean force of Frog B \n",
    "# from each measurement of Frog B. This leaves other properties of Frog B's distribution, such as \n",
    "# the variance, unchanged.\n",
    "\n",
    "force_b = array([ 0.172,  0.142,  0.037,  0.453,  0.355,  0.022,  0.502,  0.273,\n",
    "        0.72 ,  0.582,  0.198,  0.198,  0.597,  0.516,  0.815,  0.402,\n",
    "        0.605,  0.711,  0.614,  0.468])\n",
    "mean_force_c = 0.55\n",
    "\n",
    "# Make an array of translated impact forces: translated_force_b\n",
    "translated_force_b = force_b - np.mean(force_b) + mean_force_c\n",
    "\n",
    "# Take bootstrap replicates of Frog B's translated impact forces: bs_replicates\n",
    "bs_replicates = draw_bs_reps(translated_force_b, np.mean, 10000)\n",
    "\n",
    "# Compute fraction of replicates that are less than the observed Frog B force: p\n",
    "p = np.sum(bs_replicates <= np.mean(force_b)) / 10000\n",
    "\n",
    "# Print the p-value\n",
    "print('p = ', p)\n",
    "\n",
    "# The low p-value suggests that the null hypothesis that Frog B and Frog C have the same mean impact force is false."
   ]
  },
  {
   "cell_type": "code",
   "execution_count": 38,
   "metadata": {
    "collapsed": false
   },
   "outputs": [
    {
     "name": "stdout",
     "output_type": "stream",
     "text": [
      "p-value = 0.0075\n"
     ]
    }
   ],
   "source": [
    "# we can do two sample tests. We can even test the same hypothesis that we tested with a permutation test:\n",
    "# that the Frog A and Frog B have identically distributed impact forces. To do this test on two arrays with\n",
    "# n1 and n2 entries, we do a very similar procedure as a permutation test. We concatenate the arrays,\n",
    "# generate a bootstrap sample from it, and take the first n1 entries of the bootstrap sample as belonging\n",
    "# to the first data set and the last n2 as belonging to the second. We then compute the test statistic, e.g.,\n",
    "# the difference of means, to get a bootstrap replicate. The p-value is the number of bootstrap replicates for\n",
    "# which the test statistic is less than what was observed.\n",
    "\n",
    "# Now, you will perform a bootstrap test of the hypothesis that Frog A and Frog B have identical distributions\n",
    "# of impact forces using the difference of means test statistic.\n",
    "\n",
    "# The two arrays are available to you as force_a and force_b.\n",
    "\n",
    "# Compute difference of mean impact force from experiment: empirical_diff_means\n",
    "empirical_diff_means = diff_of_means(force_a, force_b)\n",
    "\n",
    "# Concatenate forces: forces_concat\n",
    "forces_concat = np.concatenate((force_a, force_b))\n",
    "\n",
    "# Initialize bootstrap replicates: bs_replicates\n",
    "bs_replicates = np.empty(10000)\n",
    "\n",
    "for i in range(10000):\n",
    "    # Generate bootstrap sample\n",
    "    bs_sample = np.random.choice(forces_concat, size=len(forces_concat))\n",
    "    \n",
    "    # Compute replicate\n",
    "    bs_replicates[i] = diff_of_means(bs_sample[:len(force_a)],\n",
    "                                     bs_sample[len(force_a):])\n",
    "\n",
    "# Compute and print p-value: p\n",
    "p = np.sum(bs_replicates >= empirical_diff_means) / len(bs_replicates)\n",
    "print('p-value =', p)\n",
    "\n",
    "\n",
    "# You may remember that we got p = 0.0063 from the permutation test, and here we got p = 0.0055.\n",
    "# These are very close, and indeed the tests are testing the same thing. However, the permutation\n",
    "# test exactly simulates the null hypothesis that the data come from the same distribution, whereas\n",
    "# the bootstrap test approximately simulates it. As we will see, though, the bootstrap hypothesis test,\n",
    "# while approximate, is more versatile.\n"
   ]
  },
  {
   "cell_type": "code",
   "execution_count": 45,
   "metadata": {
    "collapsed": false
   },
   "outputs": [
    {
     "name": "stdout",
     "output_type": "stream",
     "text": [
      "p-value = 0.0043\n"
     ]
    }
   ],
   "source": [
    "# You performed a one-sample bootstrap hypothesis test, which is impossible to do with permutation.\n",
    "# Testing the hypothesis that two samples have the same distribution may be done with a bootstrap test,\n",
    "# but a permutation test is preferred because it is more accurate (exact, in fact). But therein lies\n",
    "# the limit of a permutation test; it is not very versatile. We now want to test the hypothesis that\n",
    "# Frog A and Frog B have the same mean impact force, but not necessarily the same distribution. This,\n",
    "# too, is impossible with a permutation test.\n",
    "\n",
    "# To do the two-sample bootstrap test, we shift both arrays to have the same mean, since we are\n",
    "# simulating the hypothesis that their means are, in fact, equal. We then draw bootstrap samples \n",
    "# out of the shifted arrays and compute the difference in means. This constitutes a bootstrap replicate,\n",
    "# and we generate many of them. The p-value is the fraction of replicates with a difference in means greater\n",
    "# than or equal to what was observed.\n",
    "\n",
    "# Compute mean of all forces: mean_force\n",
    "mean_force = np.mean(forces_concat)\n",
    "\n",
    "# Generate shifted arrays\n",
    "force_a_shifted = force_a - np.mean(force_a) + mean_force\n",
    "force_b_shifted = force_b - np.mean(force_b) + mean_force \n",
    "\n",
    "# Compute 10,000 bootstrap replicates from shifted arrays\n",
    "bs_replicates_a = draw_bs_reps(force_a_shifted, np.mean, 10000)\n",
    "bs_replicates_b = draw_bs_reps(force_b_shifted, np.mean, 10000)\n",
    "\n",
    "# Get replicates of difference of means: bs_replicates\n",
    "bs_replicates = bs_replicates_a - bs_replicates_b\n",
    "\n",
    "# Compute and print p-value: p\n",
    "p = np.sum(bs_replicates > diff_of_means(force_a, force_b)) / len(bs_replicates)\n",
    "print('p-value =', p)\n",
    "\n"
   ]
  },
  {
   "cell_type": "code",
   "execution_count": null,
   "metadata": {
    "collapsed": true
   },
   "outputs": [],
   "source": []
  },
  {
   "cell_type": "code",
   "execution_count": null,
   "metadata": {
    "collapsed": true
   },
   "outputs": [],
   "source": []
  },
  {
   "cell_type": "code",
   "execution_count": null,
   "metadata": {
    "collapsed": true
   },
   "outputs": [],
   "source": []
  },
  {
   "cell_type": "code",
   "execution_count": null,
   "metadata": {
    "collapsed": true
   },
   "outputs": [],
   "source": []
  },
  {
   "cell_type": "code",
   "execution_count": null,
   "metadata": {
    "collapsed": true
   },
   "outputs": [],
   "source": []
  },
  {
   "cell_type": "code",
   "execution_count": null,
   "metadata": {
    "collapsed": true
   },
   "outputs": [],
   "source": []
  },
  {
   "cell_type": "code",
   "execution_count": null,
   "metadata": {
    "collapsed": true
   },
   "outputs": [],
   "source": []
  },
  {
   "cell_type": "code",
   "execution_count": null,
   "metadata": {
    "collapsed": true
   },
   "outputs": [],
   "source": []
  },
  {
   "cell_type": "code",
   "execution_count": null,
   "metadata": {
    "collapsed": true
   },
   "outputs": [],
   "source": []
  },
  {
   "cell_type": "code",
   "execution_count": null,
   "metadata": {
    "collapsed": true
   },
   "outputs": [],
   "source": []
  },
  {
   "cell_type": "code",
   "execution_count": null,
   "metadata": {
    "collapsed": true
   },
   "outputs": [],
   "source": []
  }
 ],
 "metadata": {
  "anaconda-cloud": {},
  "kernelspec": {
   "display_name": "Python [default]",
   "language": "python",
   "name": "python3"
  },
  "language_info": {
   "codemirror_mode": {
    "name": "ipython",
    "version": 3
   },
   "file_extension": ".py",
   "mimetype": "text/x-python",
   "name": "python",
   "nbconvert_exporter": "python",
   "pygments_lexer": "ipython3",
   "version": "3.5.2"
  }
 },
 "nbformat": 4,
 "nbformat_minor": 1
}
